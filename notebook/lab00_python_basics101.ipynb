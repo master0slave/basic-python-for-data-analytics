{
 "cells": [
  {
   "cell_type": "markdown",
   "id": "8a27d696",
   "metadata": {},
   "source": [
    "# Python: Lab 00 Basics\n",
    "## 1. Hello, World! 👋\n",
    "\n",
    "**ทำไปทำไม?**  \n",
    "การเขียนโค้ดบรรทัดแรกเป็นเหมือนการเปิดประตูสู่โลกของ Python  \n",
    "ทุกครั้งที่คุณวิเคราะห์ข้อมูลหรืออยากให้คอมพิวเตอร์ช่วยคิด/สรุป/คำนวณอะไรให้ นี่คือจุดเริ่มต้น\n",
    "\n",
    "**สถานการณ์จริง:**  \n",
    "- คุณอยากให้คอมพิวเตอร์ “รายงาน” ผลงาน หรือ “ทักทาย” ลูกค้าอัตโนมัติ  \n",
    "- ทุกการวิเคราะห์เริ่มจากการสื่อสารกับเครื่อง\n",
    "\n",
    "**โจทย์:**  \n",
    "- ลอง print ข้อความอะไรก็ได้ที่อยากให้โปรแกรมพูดกับเรา  \n"
   ]
  },
  {
   "cell_type": "code",
   "execution_count": 1,
   "id": "f1d6b743",
   "metadata": {},
   "outputs": [
    {
     "name": "stdout",
     "output_type": "stream",
     "text": [
      "Hello World\n"
     ]
    }
   ],
   "source": [
    "# โจทย์ \n",
    "print(\"Hello World\")\n",
    "# โจทย์นี้ให้พิมพ์คำว่า Hello World ออกมา"
   ]
  },
  {
   "cell_type": "markdown",
   "id": "6ff643d7",
   "metadata": {},
   "source": [
    "\n",
    "**Exercise**  \n",
    "1. ให้ลองเปลี่ยนข้อความใน print เป็นชื่อของคุณเอง หรือข้อความที่คุณอยากให้คอมพิวเตอร์ทักทายคุณ  \n",
    "2. ให้ลอง print ข้อความภาษาอังกฤษสั้น ๆ 1 ประโยค  \n"
   ]
  },
  {
   "cell_type": "code",
   "execution_count": 2,
   "id": "3d0d444e",
   "metadata": {},
   "outputs": [],
   "source": [
    "# Code Here:\n",
    "\n"
   ]
  },
  {
   "cell_type": "markdown",
   "id": "4d024b7a",
   "metadata": {},
   "source": [
    "<details>\n",
    "<summary><strong>คลิกเพื่อดูเฉลย</strong></summary>\n",
    "Exercise เฉลย\n",
    "\n",
    "ข้อ 1\n",
    "```python\n",
    "print(\"สวัสดีครับ ผมชื่อ Nonthiwat\")\n",
    "```\n",
    "ข้อ 2\n",
    "```python\n",
    "print(\"Welcome to Python Workshop!\")\n",
    "```\n",
    "</details>"
   ]
  },
  {
   "cell_type": "markdown",
   "id": "5444eb8a",
   "metadata": {},
   "source": [
    "\n",
    "## 2. Variables and Data Types (ตัวแปรและชนิดข้อมูล)\n",
    "\n",
    "**ทำไปทำไม?**  \n",
    "ตัวแปรคือ “ที่เก็บข้อมูล” (เช่น ชื่อ, คะแนน, ยอดขาย)  \n",
    "เวลาวิเคราะห์ข้อมูล คุณจะใช้ตัวแปรในการเก็บค่าแต่ละอย่าง  \n",
    "ชนิดข้อมูลที่ควรรู้ เช่น ตัวเลข ข้อความ ทศนิยม และ True/False\n",
    "\n",
    "**สถานการณ์จริง:**  \n",
    "- คุณอยากเก็บชื่อสินค้าขายดี, ยอดขาย, สถานะการส่งของ ฯลฯ\n",
    "\n",
    "**โจทย์:**  \n",
    "- สร้างตัวแปรที่แทนชื่อของคุณ, อายุ, และกำหนดว่าสมัครเรียน workshop นี้แล้วหรือยัง  \n",
    "- พิมพ์ type ของแต่ละตัวแปร\n"
   ]
  },
  {
   "cell_type": "code",
   "execution_count": 3,
   "id": "2beecb50",
   "metadata": {},
   "outputs": [
    {
     "name": "stdout",
     "output_type": "stream",
     "text": [
      "<class 'str'>\n",
      "<class 'int'>\n",
      "<class 'bool'>\n"
     ]
    }
   ],
   "source": [
    "# สร้างตัวแปรที่แทนชื่อของคุณ, อายุ, และกำหนดว่าสมัครเรียน workshop\n",
    "name = \"Nonthiwat\"\n",
    "age = 20\n",
    "is_workshop = True \n",
    "\n",
    "print(type(name))\n",
    "print(type(age))\n",
    "print(type(is_workshop))"
   ]
  },
  {
   "cell_type": "markdown",
   "id": "2f05021e",
   "metadata": {},
   "source": [
    "\n",
    "**Exercise**  \n",
    "1. สร้างตัวแปรเพื่อเก็บข้อมูล “ชื่อร้านค้า” (เป็นข้อความ) และ “จำนวนสินค้าที่มี” (เป็นจำนวนเต็ม)  \n",
    "2. สร้างตัวแปรที่แทนว่า “ร้านเปิดให้บริการอยู่หรือไม่” (True/False)  \n",
    "3. print ชนิดข้อมูล (type) ของแต่ละตัวแปร\n"
   ]
  },
  {
   "cell_type": "code",
   "execution_count": 4,
   "id": "17dbab84",
   "metadata": {},
   "outputs": [],
   "source": [
    "# Code Here:\n",
    "\n"
   ]
  },
  {
   "cell_type": "markdown",
   "id": "1209d4ec",
   "metadata": {},
   "source": [
    "<details>\n",
    "<summary><strong>คลิกเพื่อดูเฉลย</strong></summary>\n",
    "Exercise เฉลย\n",
    "\n",
    "ข้อ 1\n",
    "```python\n",
    "shop_name = \"Coffee House\"\n",
    "product_count = 45\n",
    "```\n",
    "ข้อ 2\n",
    "```python\n",
    "is_open = True\n",
    "```\n",
    "ข้อ 3\n",
    "```python\n",
    "print(type(shop_name))      # <class 'str'>\n",
    "print(type(product_count))  # <class 'int'>\n",
    "print(type(is_open))        # <class 'bool'>\n",
    "```\n",
    "</details>"
   ]
  },
  {
   "cell_type": "markdown",
   "id": "a4c5d6db",
   "metadata": {},
   "source": [
    "\n",
    "## 3. Basic Operations (การคำนวณพื้นฐาน)\n",
    "\n",
    "**ทำไปทำไม?**  \n",
    "การวิเคราะห์ข้อมูล ต้องคำนวณบวก ลบ คูณ หาร เทียบค่า หรือตรวจสอบเงื่อนไขเป็นประจำ\n",
    "\n",
    "**สถานการณ์จริง:**  \n",
    "- คำนวณคะแนนสอบ, ยอดขาย, หรือหาว่าค่าหนึ่งมากกว่าอีกค่าหรือไม่  \n",
    "- ตรวจสอบว่าสินค้าขายดีเกินเป้าหมายหรือเปล่า\n",
    "\n",
    "**โจทย์:**  \n",
    "- ลองคำนวณผลรวมยอดขายสองวัน  \n",
    "- เช็คว่ายอดขายวันที่สองมากกว่าวันแรกไหม\n"
   ]
  },
  {
   "cell_type": "code",
   "execution_count": 5,
   "id": "020113e4",
   "metadata": {},
   "outputs": [
    {
     "name": "stdout",
     "output_type": "stream",
     "text": [
      "ยอดขายรวม: 2200\n",
      "วันที่สองขายดีกว่าวันแรกหรือไม่? True\n"
     ]
    }
   ],
   "source": [
    "sale_day1 = 1000\n",
    "sale_day2 = 1200\n",
    "\n",
    "total_sale = sale_day1 + sale_day2\n",
    "print(\"ยอดขายรวม:\", total_sale)\n",
    "\n",
    "print(\"วันที่สองขายดีกว่าวันแรกหรือไม่?\", sale_day2 > sale_day1)\n"
   ]
  },
  {
   "cell_type": "markdown",
   "id": "fe1c50d8",
   "metadata": {},
   "source": [
    "**Exercise**  \n",
    "1. ให้รับสมมติว่าวันนี้ขายสินค้า A ได้ 10 ชิ้น ชิ้นละ 35 บาท และสินค้า B ได้ 5 ชิ้น ชิ้นละ 120 บาท  \n",
    "    - คำนวณยอดขายรวมของวันนี้  \n",
    "2. ตรวจสอบว่ายอดขายของสินค้าชนิดไหนสูงกว่ากัน (A หรือ B)\n"
   ]
  },
  {
   "cell_type": "code",
   "execution_count": 6,
   "id": "4d047096",
   "metadata": {},
   "outputs": [],
   "source": [
    "# Code Here:\n",
    "\n"
   ]
  },
  {
   "cell_type": "markdown",
   "id": "4b899d90",
   "metadata": {},
   "source": [
    "<details>\n",
    "<summary><strong>คลิกเพื่อดูเฉลย</strong></summary>\n",
    "Exercise เฉลย\n",
    "\n",
    "ข้อ 1\n",
    "```python\n",
    "A_qty = 10\n",
    "A_price = 35\n",
    "B_qty = 5\n",
    "B_price = 120\n",
    "\n",
    "A_total = A_qty * A_price\n",
    "B_total = B_qty * B_price\n",
    "total_sales = A_total + B_total\n",
    "print(\"ยอดขายรวมของวันนี้:\", total_sales)\n",
    "```\n",
    "ข้อ 2\n",
    "```python\n",
    "if A_total > B_total:\n",
    "    print(\"สินค้าชนิด A มียอดขายสูงกว่า\")\n",
    "elif B_total > A_total:\n",
    "    print(\"สินค้าชนิด B มียอดขายสูงกว่า\")\n",
    "else:\n",
    "    print(\"ยอดขายเท่ากัน\")\n",
    "```\n",
    "</details>"
   ]
  },
  {
   "cell_type": "markdown",
   "id": "b3635778",
   "metadata": {},
   "source": [
    "\n",
    "## 4. Lists and Basic List Operations (การใช้ลิสต์)\n",
    "\n",
    "**ทำไปทำไม?**  \n",
    "ลิสต์ คือ \"กล่องใส่ข้อมูลหลายค่า\" (ยอดขายแต่ละวัน, ชื่อลูกค้า ฯลฯ)  \n",
    "การวิเคราะห์ข้อมูลจริง ๆ มักต้องเก็บข้อมูลแบบหลายรายการ\n",
    "\n",
    "**สถานการณ์จริง:**  \n",
    "- คุณได้รับยอดขาย 1 สัปดาห์ ต้องเก็บ/นับ/หายอดสูงสุด  \n",
    "- อยากดูชื่อลูกค้า top 3 ที่ซื้อบ่อย\n",
    "\n",
    "**โจทย์:**  \n",
    "- สร้าง list ของยอดขาย 7 วัน  \n",
    "- พิมพ์ยอดขายวันที่ 1, 7  \n",
    "- เพิ่มยอดขายวันที่ 8  \n",
    "- ลบยอดขายวันสุดท้าย\n"
   ]
  },
  {
   "cell_type": "code",
   "execution_count": 7,
   "id": "3d1420b4",
   "metadata": {},
   "outputs": [
    {
     "name": "stdout",
     "output_type": "stream",
     "text": [
      "ยอดขายวันแรก: 1200\n",
      "ยอดขายวันสุดท้าย: 1400\n",
      "[1200, 1050, 950, 1300, 1100, 1250, 1400, 1350]\n",
      "[1200, 1050, 950, 1300, 1100, 1250, 1400]\n"
     ]
    }
   ],
   "source": [
    "sales = [1200, 1050, 950, 1300, 1100, 1250, 1400]\n",
    "print(\"ยอดขายวันแรก:\", sales[0])\n",
    "print(\"ยอดขายวันสุดท้าย:\", sales[-1])\n",
    "\n",
    "sales.append(1350)  # เพิ่มวันที่ 8\n",
    "print(sales)\n",
    "\n",
    "sales.pop()         # ลบวันสุดท้าย\n",
    "print(sales)\n"
   ]
  },
  {
   "cell_type": "markdown",
   "id": "b9029015",
   "metadata": {},
   "source": [
    "**Exercise**  \n",
    "1. สร้าง list ที่เก็บจำนวนลูกค้าที่มาซื้อของแต่ละวันในรอบสัปดาห์ (7 วัน)  \n",
    "2. ให้ print จำนวนนับลูกค้าในวันแรก และวันสุดท้าย  \n",
    "3. เพิ่มข้อมูลลูกค้าในวันพิเศษ (เช่น มีงานโปรโมชั่น)  \n",
    "4. ลบข้อมูลของวันที่ยอดน้อยที่สุด"
   ]
  },
  {
   "cell_type": "code",
   "execution_count": 8,
   "id": "0dfe41f2",
   "metadata": {},
   "outputs": [],
   "source": [
    "# Code Here:\n",
    "\n"
   ]
  },
  {
   "cell_type": "markdown",
   "id": "e511bbb2",
   "metadata": {},
   "source": [
    "<details>\n",
    "<summary><strong>คลิกเพื่อดูเฉลย</strong></summary>\n",
    "Exercise เฉลย\n",
    "\n",
    "ข้อ 1\n",
    "```python\n",
    "customers = [12, 18, 20, 15, 22, 19, 25]\n",
    "```\n",
    "ข้อ 2\n",
    "```python\n",
    "print(\"ลูกค้าวันแรก:\", customers[0])\n",
    "print(\"ลูกค้าวันสุดท้าย:\", customers[-1])\n",
    "```\n",
    "ข้อ 3\n",
    "```python\n",
    "customers.append(30)  # วันโปรโมชั่น\n",
    "print(customers)\n",
    "```\n",
    "ข้อ 4\n",
    "```python\n",
    "min_value = min(customers)\n",
    "min_index = customers.index(min_value)\n",
    "customers.pop(min_index)\n",
    "print(\"หลังลบวันที่คนน้อยสุด:\", customers)\n",
    "```\n",
    "</details>"
   ]
  },
  {
   "cell_type": "markdown",
   "id": "b377d0db",
   "metadata": {},
   "source": [
    "## 5. Conditional Statements (if-else)\n",
    "\n",
    "**ทำไปทำไม?**  \n",
    "เวลาวิเคราะห์ข้อมูล มักต้อง \"ตัดสินใจ\" ว่าข้อมูลเข้าเงื่อนไขไหม (เช่น ขายเกินเป้าหมาย = โบนัส!)\n",
    "\n",
    "**สถานการณ์จริง:**  \n",
    "- ถ้ายอดขายวันนี้มากกว่า 1,000 บาท ให้แสดง \"ยอดเยี่ยม\"\n",
    "- ตรวจสอบว่าคะแนนสอบผ่านหรือไม่\n",
    "\n",
    "**โจทย์:**  \n",
    "- ลองเขียน if-else เช็คว่าวันนี้ยอดขายถึงเป้าหมายไหม"
   ]
  },
  {
   "cell_type": "code",
   "execution_count": 9,
   "id": "1e4001cf",
   "metadata": {},
   "outputs": [
    {
     "name": "stdout",
     "output_type": "stream",
     "text": [
      "วันนี้ยังไม่ถึงเป้า ลองใหม่พรุ่งนี้นะ!\n"
     ]
    }
   ],
   "source": [
    "target = 1200\n",
    "today_sale = 1150\n",
    "\n",
    "if today_sale >= target:\n",
    "    print(\"วันนี้ยอดขายถึงเป้าหมาย! 🎉\")\n",
    "else:\n",
    "    print(\"วันนี้ยังไม่ถึงเป้า ลองใหม่พรุ่งนี้นะ!\")"
   ]
  },
  {
   "cell_type": "markdown",
   "id": "ac7da3a2",
   "metadata": {},
   "source": [
    "**Exercise**  \n",
    "1. สมมติว่าคะแนนสอบของคุณคือ 73  \n",
    "    - ถ้าคะแนนมากกว่าหรือเท่ากับ 60 ให้แสดงผลว่า \"ผ่าน\"  \n",
    "    - ถ้าน้อยกว่า 60 ให้แสดงผลว่า \"ไม่ผ่าน\"\n",
    "2. สมมติว่าวันนี้ยอดขาย 980 บาท ถ้าเกินหรือเท่ากับ 1,000 บาท ให้ print “ได้ของแถม!”  \n",
    "    - ถ้าไม่ถึงให้ print “ไม่ได้ของแถม”"
   ]
  },
  {
   "cell_type": "code",
   "execution_count": 10,
   "id": "1411ee70",
   "metadata": {},
   "outputs": [],
   "source": [
    "# Code Here:\n",
    "\n"
   ]
  },
  {
   "cell_type": "markdown",
   "id": "69a383f8",
   "metadata": {},
   "source": [
    "<details>\n",
    "<summary><strong>คลิกเพื่อดูเฉลย</strong></summary>\n",
    "Exercise เฉลย\n",
    "\n",
    "ข้อ 1\n",
    "```python\n",
    "score = 73\n",
    "if score >= 60:\n",
    "    print(\"ผ่าน\")\n",
    "else:\n",
    "    print(\"ไม่ผ่าน\")\n",
    "```\n",
    "ข้อ 2\n",
    "```python\n",
    "today_sale = 980\n",
    "if today_sale >= 1000:\n",
    "    print(\"ได้ของแถม!\")\n",
    "else:\n",
    "    print(\"ไม่ได้ของแถม\")\n",
    "```\n",
    "</details>"
   ]
  },
  {
   "cell_type": "markdown",
   "id": "a3f5108e",
   "metadata": {},
   "source": [
    "\n",
    "## 6. Loops (for/while)\n",
    "\n",
    "**ทำไปทำไม?**  \n",
    "ถ้าต้อง \"ตรวจสอบ/คำนวณ\" กับข้อมูลหลายรายการ (list) ซ้ำ ๆ  \n",
    "เช่น หาผลรวมยอดขาย 7 วัน หรือเช็คลูกค้าทุกคน\n",
    "\n",
    "**สถานการณ์จริง:**  \n",
    "- หายอดขายรวมทั้งสัปดาห์  \n",
    "- ตรวจสอบทุกวันว่าวันไหนยอดขายเกิน 1200\n",
    "\n",
    "**โจทย์:**  \n",
    "- ใช้ for loop รวมยอดขายทั้ง 7 วัน  \n",
    "- ใช้ for loop พิมพ์วันที่มียอดขายมากกว่า 1200\n"
   ]
  },
  {
   "cell_type": "code",
   "execution_count": 11,
   "id": "45f093bf",
   "metadata": {},
   "outputs": [
    {
     "name": "stdout",
     "output_type": "stream",
     "text": [
      "ยอดขายรวมทั้งสัปดาห์: 8250\n",
      "วันที่ 4 ขายเกิน 1200 บาท\n",
      "วันที่ 6 ขายเกิน 1200 บาท\n",
      "วันที่ 7 ขายเกิน 1200 บาท\n"
     ]
    }
   ],
   "source": [
    "sales = [1200, 1050, 950, 1300, 1100, 1250, 1400]\n",
    "total = 0\n",
    "for sale in sales:\n",
    "    total += sale\n",
    "print(\"ยอดขายรวมทั้งสัปดาห์:\", total)\n",
    "\n",
    "for day, sale in enumerate(sales,1):\n",
    "    if sale > 1200:\n",
    "        print(f\"วันที่ {day} ขายเกิน 1200 บาท\")\n"
   ]
  },
  {
   "cell_type": "markdown",
   "id": "184200f8",
   "metadata": {},
   "source": [
    "\n",
    "**Exercise**  \n",
    "1. จาก list ยอดขาย 7 วัน ให้ใช้ for loop หาจำนวนวันที่ยอดขายมากกว่า 1,000 บาท  \n",
    "2. ใช้ for loop print \"Good Day!\" เฉพาะวันที่มียอดขายมากกว่า 1,100 บาท  \n",
    "3. ลองใช้ while loop เพื่อ print ตัวเลข 1 ถึง 5 ทีละบรรทัด"
   ]
  },
  {
   "cell_type": "code",
   "execution_count": 12,
   "id": "87deb94d",
   "metadata": {},
   "outputs": [],
   "source": [
    "# Code Here:\n",
    "\n"
   ]
  },
  {
   "cell_type": "markdown",
   "id": "2dc76dd0",
   "metadata": {},
   "source": [
    "<details>\n",
    "<summary><strong>คลิกเพื่อดูเฉลย</strong></summary>\n",
    "Exercise เฉลย\n",
    "\n",
    "ข้อ 1\n",
    "```python\n",
    "count = 0\n",
    "for sale in sales:\n",
    "    if sale > 1000:\n",
    "        count += 1\n",
    "print(\"จำนวนวันที่ยอดขาย > 1,000 บาท:\", count)\n",
    "```\n",
    "ข้อ 2\n",
    "```python\n",
    "for sale in sales:\n",
    "    if sale > 1100:\n",
    "        print(\"Good Day!\")\n",
    "```\n",
    "ข้อ 3\n",
    "```python\n",
    "i = 1\n",
    "while i <= 5:\n",
    "    print(i)\n",
    "    i += 1\n",
    "```\n",
    "</details>"
   ]
  },
  {
   "cell_type": "markdown",
   "id": "b01faf50",
   "metadata": {},
   "source": [
    "\n",
    "## 7. Writing Your Own Functions\n",
    "\n",
    "**ทำไปทำไม?**  \n",
    "การเขียนฟังก์ชันช่วยให้เรา \"แบ่งงาน\" ที่ต้องทำซ้ำ ๆ เช่น การคำนวณ หรือการประมวลผลข้อมูลออกมาเป็นบล็อก ๆ ที่นำกลับมาใช้ใหม่ได้ ไม่ต้องเขียนซ้ำหลายรอบ\n",
    "\n",
    "**สถานการณ์จริง:**  \n",
    "- คุณต้องคำนวณโบนัสให้พนักงานทุกคนจากยอดขาย  \n",
    "- สร้างฟังก์ชันสำหรับตรวจสอบว่าลูกค้าได้ของแถมหรือไม่จากยอดซื้อ\n",
    "\n",
    "**โจทย์:**  \n",
    "- สร้างฟังก์ชันชื่อ `check_bonus` ที่รับยอดขายแล้ว print ข้อความ “ได้โบนัส!” ถ้ายอดขายเกิน 2000 บาท\n"
   ]
  },
  {
   "cell_type": "code",
   "execution_count": 13,
   "id": "d40cf5eb",
   "metadata": {
    "slideshow": {
     "slide_type": "slide"
    }
   },
   "outputs": [
    {
     "name": "stdout",
     "output_type": "stream",
     "text": [
      "ได้โบนัส!\n",
      "ไม่ได้โบนัส\n"
     ]
    }
   ],
   "source": [
    "# โจทย์ตัวอย่าง\n",
    "def check_bonus(sale):\n",
    "    if sale > 2000:\n",
    "        print(\"ได้โบนัส!\")\n",
    "    else:\n",
    "        print(\"ไม่ได้โบนัส\")\n",
    "\n",
    "check_bonus(2500)\n",
    "check_bonus(1500)\n"
   ]
  },
  {
   "cell_type": "markdown",
   "id": "7454bdf2",
   "metadata": {},
   "source": [
    "\n",
    "**Exercise**  \n",
    "1. สร้างฟังก์ชันชื่อ `welcome_user` รับชื่อและ print ข้อความ \"ยินดีต้อนรับ ...!\"\n",
    "2. สร้างฟังก์ชันชื่อ `is_pass` รับคะแนน ถ้าคะแนน >= 50 ให้ print \"สอบผ่าน\" ถ้าไม่ถึง print \"สอบไม่ผ่าน\"\n"
   ]
  },
  {
   "cell_type": "code",
   "execution_count": 14,
   "id": "cf4eaa83",
   "metadata": {},
   "outputs": [],
   "source": [
    "# Code Here:\n",
    "\n"
   ]
  },
  {
   "cell_type": "markdown",
   "id": "cd26fc4f",
   "metadata": {},
   "source": [
    "<details>\n",
    "<summary><strong>คลิกเพื่อดูเฉลย</strong></summary>\n",
    "Exercise เฉลย\n",
    "\n",
    "ข้อ 1\n",
    "```python\n",
    "def welcome_user(name):\n",
    "    print(\"ยินดีต้อนรับ\", name + \"!\")\n",
    "\n",
    "welcome_user(\"Nonthiwat\")\n",
    "```\n",
    "ข้อ 2\n",
    "```python\n",
    "def is_pass(score):\n",
    "    if score >= 50:\n",
    "        print(\"สอบผ่าน\")\n",
    "    else:\n",
    "        print(\"สอบไม่ผ่าน\")\n",
    "\n",
    "is_pass(60)\n",
    "is_pass(40)\n",
    "```\n",
    "</details>"
   ]
  },
  {
   "cell_type": "markdown",
   "id": "90bebd20",
   "metadata": {},
   "source": [
    "\n",
    "## 8. Single-Parameter Functions\n",
    "\n",
    "**ทำไปทำไม?**  \n",
    "การใส่ parameter ให้กับฟังก์ชัน ทำให้เราประยุกต์ใช้งานกับข้อมูลที่หลากหลายขึ้น แค่ส่งข้อมูลใหม่เข้าไป ก็ได้ผลลัพธ์ใหม่ทันที\n",
    "\n",
    "**สถานการณ์จริง:**  \n",
    "- ต้องการฟังก์ชันสำหรับคำนวณ vat ให้สินค้าราคาต่าง ๆ\n",
    "- สร้างฟังก์ชันสำหรับตรวจสอบว่าสินค้าชิ้นไหนเป็นของขวัญ (เช่น ถ้าราคาสูงกว่า 1000)\n",
    "\n",
    "**โจทย์:**  \n",
    "- สร้างฟังก์ชัน `add_vat` รับราคาสินค้า แล้ว return ราคาหลังบวก vat 7%\n"
   ]
  },
  {
   "cell_type": "code",
   "execution_count": 15,
   "id": "0df5935e",
   "metadata": {},
   "outputs": [
    {
     "name": "stdout",
     "output_type": "stream",
     "text": [
      "1070.0\n"
     ]
    }
   ],
   "source": [
    "# โจทย์ตัวอย่าง\n",
    "def add_vat(price):\n",
    "    return price * 1.07\n",
    "\n",
    "print(add_vat(1000))  # 1070\n"
   ]
  },
  {
   "cell_type": "markdown",
   "id": "37651b5d",
   "metadata": {},
   "source": [
    "\n",
    "**Exercise**  \n",
    "1. สร้างฟังก์ชัน `square` รับตัวเลขแล้ว return ค่ากำลังสอง  \n",
    "2. สร้างฟังก์ชัน `is_even` รับตัวเลข ถ้าเป็นเลขคู่ return True, ถ้าเป็นเลขคี่ return False\n"
   ]
  },
  {
   "cell_type": "code",
   "execution_count": 16,
   "id": "2db7f131",
   "metadata": {},
   "outputs": [],
   "source": [
    "# Code Here:\n",
    "\n"
   ]
  },
  {
   "cell_type": "markdown",
   "id": "85efe3ea",
   "metadata": {},
   "source": [
    "<details>\n",
    "<summary><strong>คลิกเพื่อดูเฉลย</strong></summary>\n",
    "Exercise เฉลย\n",
    "\n",
    "ข้อ 1\n",
    "```python\n",
    "def square(x):\n",
    "    return x ** 2\n",
    "\n",
    "print(square(6))  # 36\n",
    "```\n",
    "ข้อ 2\n",
    "```python\n",
    "def is_even(n):\n",
    "    return n % 2 == 0\n",
    "\n",
    "print(is_even(10))  # True\n",
    "print(is_even(7))   # False\n",
    "```\n",
    "</details>"
   ]
  },
  {
   "cell_type": "markdown",
   "id": "c89607ca",
   "metadata": {},
   "source": [
    "\n",
    "## 9. Multi-Parameter Functions\n",
    "\n",
    "**ทำไปทำไม?**  \n",
    "ฟังก์ชันที่รับข้อมูลมากกว่าหนึ่งตัว เช่น จำนวนและราคา ช่วยให้สามารถประมวลผลที่ซับซ้อนขึ้นในครั้งเดียว เช่น ยอดขายรวม หรือชื่อเต็มลูกค้า\n",
    "\n",
    "**สถานการณ์จริง:**  \n",
    "- คำนวณยอดขายแต่ละบิลจาก “จำนวน” กับ “ราคาต่อชิ้น”  \n",
    "- นำข้อมูลชื่อจริงกับนามสกุลมารวมกันเป็นชื่อเต็ม\n",
    "\n",
    "**โจทย์:**  \n",
    "- สร้างฟังก์ชัน `calc_total` รับจำนวนและราคาต่อชิ้น แล้ว return ยอดขายรวม\n"
   ]
  },
  {
   "cell_type": "code",
   "execution_count": 17,
   "id": "19238aa0",
   "metadata": {},
   "outputs": [
    {
     "name": "stdout",
     "output_type": "stream",
     "text": [
      "297\n"
     ]
    }
   ],
   "source": [
    "# โจทย์ตัวอย่าง\n",
    "def calc_total(qty, price):\n",
    "    return qty * price\n",
    "print(calc_total(3, 99))  # 297"
   ]
  },
  {
   "cell_type": "markdown",
   "id": "cf80159f",
   "metadata": {},
   "source": [
    "\n",
    "**Exercise**  \n",
    "1. สร้างฟังก์ชัน `greet_fullname` รับชื่อกับนามสกุล แล้ว print \"Hello, ... ...\"\n",
    "2. สร้างฟังก์ชัน `is_discount` รับราคาสินค้าและเปอร์เซ็นต์ส่วนลด คืนค่าราคาสินค้าหลังหักส่วนลด\n"
   ]
  },
  {
   "cell_type": "code",
   "execution_count": 18,
   "id": "76294915",
   "metadata": {},
   "outputs": [],
   "source": [
    "# Code Here:\n",
    "\n"
   ]
  },
  {
   "cell_type": "markdown",
   "id": "d2e4121a",
   "metadata": {},
   "source": [
    "<details>\n",
    "<summary><strong>คลิกเพื่อดูเฉลย</strong></summary>\n",
    "Exercise เฉลย\n",
    "ข้อ 1\n",
    "```python\n",
    "def greet_fullname(first, last):\n",
    "    print(\"Hello,\", first, last)\n",
    "\n",
    "greet_fullname(\"Somchai\", \"Jaidee\")\n",
    "```\n",
    "ข้อ 2\n",
    "```python\n",
    "def is_discount(price, percent):\n",
    "    return price * (1 - percent / 100)\n",
    "\n",
    "print(is_discount(1000, 15))  # 850\n",
    "```\n",
    "</details>"
   ]
  },
  {
   "cell_type": "markdown",
   "id": "810208d1",
   "metadata": {},
   "source": [
    "\n",
    "## 10. Lambda Functions\n",
    "\n",
    "**ทำไปทำไม?**  \n",
    "lambda function ใช้เขียนฟังก์ชันสั้น ๆ ได้ทันที เหมาะสำหรับงานที่ใช้ฟังก์ชันครั้งเดียว หรือใช้กับ map/filter\n",
    "\n",
    "**สถานการณ์จริง:**  \n",
    "- ต้องการคูณราคาสินค้าทุกชิ้นใน list ด้วย 1.07 (vat)\n",
    "- แปลงชื่อทั้งหมดให้เป็นตัวพิมพ์ใหญ่\n",
    "\n",
    "**โจทย์:**  \n",
    "- เขียน lambda function สำหรับบวกเลขสองจำนวน\n"
   ]
  },
  {
   "cell_type": "code",
   "execution_count": 19,
   "id": "cd327992",
   "metadata": {},
   "outputs": [
    {
     "name": "stdout",
     "output_type": "stream",
     "text": [
      "30\n"
     ]
    }
   ],
   "source": [
    "# โจทย์ตัวอย่าง\n",
    "add = lambda x, y: x + y\n",
    "print(add(10, 20))  # 30\n"
   ]
  },
  {
   "cell_type": "markdown",
   "id": "576afcc7",
   "metadata": {},
   "source": [
    "\n",
    "**Exercise**  \n",
    "1. เขียน lambda function รับตัวเลขแล้ว return ค่ายกกำลังสาม  \n",
    "2. เขียน lambda function รับข้อความแล้วเติม \"!\" ต่อท้ายข้อความ\n"
   ]
  },
  {
   "cell_type": "code",
   "execution_count": 20,
   "id": "f979bcf1",
   "metadata": {},
   "outputs": [],
   "source": [
    "# Code Here:\n",
    "\n"
   ]
  },
  {
   "cell_type": "markdown",
   "id": "1fba665f",
   "metadata": {},
   "source": [
    "<details>\n",
    "<summary><strong>คลิกเพื่อดูเฉลย</strong></summary>\n",
    "Exercise เฉลย\n",
    "\n",
    "ข้อ 1\n",
    "```python\n",
    "cube = lambda n: n ** 3\n",
    "print(cube(4))  # 64\n",
    "```\n",
    "ข้อ 2\n",
    "```python\n",
    "add_exclaim = lambda s: s + \"!\"\n",
    "print(add_exclaim(\"Python\"))  # Python!\n",
    "```\n",
    "</details>"
   ]
  },
  {
   "cell_type": "markdown",
   "id": "3ed36a17",
   "metadata": {},
   "source": [
    "\n",
    "## 11. map()\n",
    "\n",
    "**ทำไปทำไม?**  \n",
    "map() ใช้เปลี่ยนค่าทุกค่าใน list เช่น เพิ่ม vat, แปลงชื่อเป็นตัวใหญ่ ฯลฯ ได้ในบรรทัดเดียว\n",
    "\n",
    "**สถานการณ์จริง:**  \n",
    "- เพิ่ม 10% ให้ราคาสินค้าทั้ง list  \n",
    "- แปลงชื่อให้ขึ้นต้นตัวใหญ่ทุกคน\n",
    "\n",
    "**โจทย์:**  \n",
    "- มี list `prices = [50, 100, 150]` ใช้ map เพิ่ม vat 7% ให้ทุกชิ้น\n"
   ]
  },
  {
   "cell_type": "code",
   "execution_count": 21,
   "id": "d4877f35",
   "metadata": {},
   "outputs": [
    {
     "name": "stdout",
     "output_type": "stream",
     "text": [
      "[53.5, 107.0, 160.5]\n"
     ]
    }
   ],
   "source": [
    "# โจทย์ตัวอย่าง\n",
    "prices = [50, 100, 150]\n",
    "vat_prices = list(map(lambda p: p * 1.07, prices))\n",
    "print(vat_prices)\n"
   ]
  },
  {
   "cell_type": "markdown",
   "id": "b12039aa",
   "metadata": {},
   "source": [
    "\n",
    "**Exercise**  \n",
    "1. มี list `names = ['peter', 'sue', 'bob']` ใช้ map แปลงชื่อเป็นตัวใหญ่ทั้งหมด  \n",
    "2. มี list `nums = [1, 2, 3, 4]` ใช้ map คูณ 5 ให้ทุกตัวเลข\n"
   ]
  },
  {
   "cell_type": "code",
   "execution_count": 22,
   "id": "853bb456",
   "metadata": {},
   "outputs": [],
   "source": [
    "# Code Here:\n",
    "\n"
   ]
  },
  {
   "cell_type": "markdown",
   "id": "cc530079",
   "metadata": {},
   "source": [
    "<details>\n",
    "<summary><strong>คลิกเพื่อดูเฉลย</strong></summary>\n",
    "Exercise เฉลย\n",
    "\n",
    "ข้อ 1\n",
    "```python\n",
    "names = ['peter', 'sue', 'bob']\n",
    "upper_names = list(map(lambda n: n.upper(), names))\n",
    "print(upper_names)\n",
    "```\n",
    "ข้อ 2\n",
    "```python\n",
    "nums = [1, 2, 3, 4]\n",
    "times5 = list(map(lambda n: n * 5, nums))\n",
    "print(times5)\n",
    "``` \n",
    "</details>"
   ]
  },
  {
   "cell_type": "markdown",
   "id": "81b3740c",
   "metadata": {},
   "source": [
    "\n",
    "## 12. filter()\n",
    "\n",
    "**ทำไปทำไม?**  \n",
    "filter() ใช้คัดเลือกเฉพาะข้อมูลที่เข้าเงื่อนไข เช่น ราคาสินค้าสูงกว่า 100, คะแนนที่ผ่าน\n",
    "\n",
    "**สถานการณ์จริง:**  \n",
    "- เลือกยอดขายที่เกิน 1000  \n",
    "- เลือกชื่อที่มีอักษรมากกว่า 4 ตัว\n",
    "\n",
    "**โจทย์:**  \n",
    "- มี list `[55, 105, 200, 99]` ให้ใช้ filter เลือกค่าที่มากกว่า 100\n"
   ]
  },
  {
   "cell_type": "code",
   "execution_count": 23,
   "id": "abc81b9d",
   "metadata": {},
   "outputs": [
    {
     "name": "stdout",
     "output_type": "stream",
     "text": [
      "[105, 200]\n"
     ]
    }
   ],
   "source": [
    "# โจทย์ตัวอย่าง\n",
    "lst = [55, 105, 200, 99]\n",
    "over100 = list(filter(lambda x: x > 100, lst))\n",
    "print(over100)  # [105, 200]\n"
   ]
  },
  {
   "cell_type": "markdown",
   "id": "9d28b5fb",
   "metadata": {},
   "source": [
    "\n",
    "**Exercise**  \n",
    "1. มี list `['Ann', 'Patty', 'Sue', 'Lisa']` filter เลือกชื่อที่ยาวมากกว่า 3 ตัวอักษร  \n",
    "2. มี list `[5, 12, 17, 24]` filter เลือกเลขคู่เท่านั้น\n"
   ]
  },
  {
   "cell_type": "code",
   "execution_count": 24,
   "id": "fdb7749c",
   "metadata": {},
   "outputs": [],
   "source": [
    "# Code Here:\n",
    "\n"
   ]
  },
  {
   "cell_type": "markdown",
   "id": "b7c927d1",
   "metadata": {},
   "source": [
    "<details>\n",
    "<summary><strong>คลิกเพื่อดูเฉลย</strong></summary>\n",
    "Exercise เฉลย\n",
    "\n",
    "ข้อ 1\n",
    "```python\n",
    "names = ['Ann', 'Patty', 'Sue', 'Lisa']\n",
    "long_names = list(filter(lambda n: len(n) > 3, names))\n",
    "print(long_names)  # ['Patty', 'Lisa']\n",
    "```\n",
    "ข้อ 2\n",
    "```python\n",
    "nums = [5, 12, 17, 24]\n",
    "even_nums = list(filter(lambda x: x % 2 == 0, nums))\n",
    "print(even_nums)  # [12, 24]\n",
    "```\n",
    "</details>"
   ]
  },
  {
   "cell_type": "markdown",
   "id": "bb3c1d9a",
   "metadata": {},
   "source": [
    "\n",
    "## 13. การใช้ List ร่วมกับ Loop และ Function\n",
    "\n",
    "**ทำไปทำไม?**  \n",
    "บ่อยครั้งต้องประมวลผลหรือเช็คค่าทุกตัวใน list เช่น รวมยอดขาย, ตรวจสอบคะแนนทุกคน ฯลฯ\n",
    "\n",
    "**สถานการณ์จริง:**  \n",
    "- วนหาผลรวมยอดขาย  \n",
    "- วนเช็คว่าวันไหนยอดขายสูงสุด\n",
    "\n",
    "**โจทย์:**  \n",
    "- มี list `[20, 50, 30, 80]` ใช้ for loop หาผลรวม\n"
   ]
  },
  {
   "cell_type": "code",
   "execution_count": 25,
   "id": "859c0885",
   "metadata": {},
   "outputs": [
    {
     "name": "stdout",
     "output_type": "stream",
     "text": [
      "ผลรวมยอดขาย: 180\n"
     ]
    }
   ],
   "source": [
    "# โจทย์ตัวอย่าง\n",
    "sales = [20, 50, 30, 80]\n",
    "total = 0\n",
    "for s in sales:\n",
    "    total += s\n",
    "print(\"ผลรวมยอดขาย:\", total)\n"
   ]
  },
  {
   "cell_type": "markdown",
   "id": "31f75333",
   "metadata": {},
   "source": [
    "\n",
    "**Exercise**  \n",
    "1. มี list `['tim', 'bob', 'amy']` ให้ใช้ for loop กับ capitalize() เพื่อ print ชื่อที่ขึ้นต้นตัวใหญ่  \n",
    "2. มี list `[3, 7, 5, 8]` ให้ใช้ for loop หาเลขที่มากกว่า 5 และ print ออกมา\n"
   ]
  },
  {
   "cell_type": "code",
   "execution_count": 26,
   "id": "0803c033",
   "metadata": {},
   "outputs": [],
   "source": [
    "# Code Here:\n",
    "\n"
   ]
  },
  {
   "cell_type": "markdown",
   "id": "77631226",
   "metadata": {},
   "source": [
    "# Test Outline"
   ]
  },
  {
   "cell_type": "markdown",
   "id": "f30830b5",
   "metadata": {},
   "source": [
    "<details>\n",
    "<summary><strong>คลิกเพื่อดูเฉลย</strong></summary>\n",
    "Exercise เฉลย\n",
    "\n",
    "ข้อ 1\n",
    "```python\n",
    "names = ['tim', 'bob', 'amy']\n",
    "for n in names:\n",
    "    print(n.capitalize())\n",
    "```\n",
    "ข้อ 2\n",
    "```python\n",
    "nums = [3, 7, 5, 8]\n",
    "for n in nums:\n",
    "    if n > 5:\n",
    "        print(n)\n",
    "```\n",
    "</details>"
   ]
  }
 ],
 "metadata": {
  "kernelspec": {
   "display_name": "jupyter-server-4xBHm7e9",
   "language": "python",
   "name": "python3"
  },
  "language_info": {
   "codemirror_mode": {
    "name": "ipython",
    "version": 3
   },
   "file_extension": ".py",
   "mimetype": "text/x-python",
   "name": "python",
   "nbconvert_exporter": "python",
   "pygments_lexer": "ipython3",
   "version": "3.11.5"
  }
 },
 "nbformat": 4,
 "nbformat_minor": 5
}
