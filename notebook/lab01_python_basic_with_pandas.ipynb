{
 "cells": [
  {
   "cell_type": "markdown",
   "id": "1d1e129c",
   "metadata": {},
   "source": [
    "# Python: Lab 01 พื้นฐานการเขียนโปรแกรมด้วย Pandas"
   ]
  },
  {
   "cell_type": "markdown",
   "id": "f9becfc3",
   "metadata": {},
   "source": [
    "> 🔍 **ทำไมต้องเรียนรู้พื้นฐาน Python?**\n",
    "> ในโลกของธุรกิจยุคใหม่ ข้อมูลจำนวนมากถูกรวบรวมไว้ในรูปแบบดิจิทัล เช่น ยอดขาย ลูกค้า หรือพฤติกรรมการใช้งานเว็บไซต์\n",
    "> การใช้ Python ช่วยให้เราสามารถจัดการและวิเคราะห์ข้อมูลเหล่านี้ได้อย่างรวดเร็วและมีประสิทธิภาพ"
   ]
  },
  {
   "cell_type": "markdown",
   "id": "2ca10bf9",
   "metadata": {},
   "source": [
    "## พื้นฐาน Python\n",
    "\n",
    "[Python](https://www.python.org/) คือ ภาษาโปรแกรมคอมพิวเตอร์ ถูกสร้างขึ้นโดย Guido van Rossum และ Release ให้ใช้ตั้งแต่ปี ค.ศ. 1991\n",
    "\n",
    "ทำไมต้อง Python\n",
    "1. การเขียน และอ่าน สามารถเข้าใจได้ง่ายกว่าภาษาอื่น ๆ\n",
    "2. โค้ดชุดเดียวกัน ใช้ได้ในทุก ๆ Operating Systems (Windows, Mac, Linux, Raspberry Pi, etc).\n",
    "3. มี Library ที่หลากหลายที่ช่วยสนับสนุนงานด้าน Data Science\n"
   ]
  },
  {
   "cell_type": "markdown",
   "id": "62a28679",
   "metadata": {},
   "source": [
    "วิธีการดู Version ของ Python ที่ใช้อยู่ สามารถดูได้โดยใช้คำสั่งดังนี้"
   ]
  },
  {
   "cell_type": "markdown",
   "id": "5a887ebc",
   "metadata": {},
   "source": [
    "> 💡 **บริบทการทำงานจริง:**\n",
    "> เมื่อต้องเขียนหรือรันโค้ด Python บนเครื่องใหม่หรือแชร์กับทีม การตรวจสอบเวอร์ชัน Python และไลบรารีสำคัญมาก เพื่อให้แน่ใจว่าโค้ดจะรันได้เหมือนกันทุกเครื่อง"
   ]
  },
  {
   "cell_type": "code",
   "execution_count": null,
   "id": "991ca0bb",
   "metadata": {},
   "outputs": [],
   "source": [
    "!python --version"
   ]
  },
  {
   "cell_type": "markdown",
   "metadata": {
    "vscode": {
     "languageId": "ini"
    }
   },
   "source": [
    "`!pip` คือ Magic Command ใน Jupyter Notebook ที่ใช้สำหรับติดตั้งไลบรารี Python โดยตรงจาก Notebook โดยไม่ต้องออกไปติดตั้งผ่าน Command Line หรือ Terminal\n",
    "\n",
    "Magic Command นี้ช่วยให้การติดตั้งไลบรารีสะดวกและรวดเร็วขึ้น โดยเฉพาะในกรณีที่ทำงานในสภาพแวดล้อมแบบ Interactive เช่น Jupyter Notebook"
   ]
  },
  {
   "cell_type": "code",
   "execution_count": null,
   "metadata": {},
   "outputs": [],
   "source": [
    "print(\"==\" * 20)\n",
    "# ดูตำแหน่ง Directory ปัจจุบัน\n",
    "!pwd\n",
    "print(\"==\" * 20)\n",
    "# ดูไฟล์ทั้งหมดใน Directory ปัจจุบัน\n",
    "!ls\n",
    "print(\"==\" * 20)\n",
    "# วัดเวลาการรันโค้ด\n",
    "%time print(\"Hello World\")"
   ]
  },
  {
   "cell_type": "markdown",
   "id": "b7fa58f0",
   "metadata": {},
   "source": [
    "วิธีการดู Library ที่ติดตั้งไว้แล้ว สามารถดูได้โดยใช้คำสั่งดังนี้"
   ]
  },
  {
   "cell_type": "code",
   "execution_count": null,
   "id": "43ea01eb",
   "metadata": {},
   "outputs": [],
   "source": [
    "!pip freeze"
   ]
  },
  {
   "cell_type": "markdown",
   "id": "3d51eb66",
   "metadata": {},
   "source": [
    "ตัวอย่างการให้โปรแกรมพิมพ์คำว่า \"*Hello World*\""
   ]
  },
  {
   "cell_type": "code",
   "execution_count": null,
   "id": "ed17a103",
   "metadata": {},
   "outputs": [],
   "source": [
    "print(\"Hello World\")"
   ]
  },
  {
   "cell_type": "markdown",
   "id": "9c06e543",
   "metadata": {},
   "source": [
    "> 🛠 **การใช้ฟังก์ชันเพื่อจัดระบบงานวิเคราะห์ข้อมูล**\n",
    "> การวิเคราะห์ข้อมูลมักมีขั้นตอนซ้ำ ๆ เช่น การทำความสะอาดหรือการสรุปข้อมูล\n",
    "> การเขียนเป็นฟังก์ชันจะช่วยให้ทำซ้ำได้ง่าย และแบ่งปันโค้ดกับทีมได้สะดวก"
   ]
  },
  {
   "cell_type": "markdown",
   "id": "1e459901",
   "metadata": {},
   "source": [
    "หากต้องการดูว่า Function / Moodule ที่จะใช้งานมีคำอธิบายอย่างไรบ้าง สามารถทำได้ด้วย `help(..)`, `?`, `??`"
   ]
  },
  {
   "cell_type": "code",
   "execution_count": null,
   "id": "9d0701ce",
   "metadata": {},
   "outputs": [],
   "source": [
    "help(print)"
   ]
  },
  {
   "cell_type": "code",
   "execution_count": null,
   "id": "37543704",
   "metadata": {},
   "outputs": [],
   "source": [
    "print?"
   ]
  },
  {
   "cell_type": "code",
   "execution_count": null,
   "id": "8fbed195",
   "metadata": {},
   "outputs": [],
   "source": [
    "print??"
   ]
  },
  {
   "cell_type": "markdown",
   "id": "8661cabb",
   "metadata": {},
   "source": [
    "การ Comment สามารถทำได้โดยใช้เครื่องหมาย `#` นำหน้าบรรทัดที่ต้องการ Comment\n",
    "\n",
    "**หมายเหตุ** สิ่งที่อยู่หลัง Comment นั้นจะไม่ถูกประมวลผลเมื่อทำการใช้งานโปรแกรม"
   ]
  },
  {
   "cell_type": "code",
   "execution_count": null,
   "id": "878754d4",
   "metadata": {},
   "outputs": [],
   "source": [
    "# This is my comment"
   ]
  },
  {
   "cell_type": "markdown",
   "id": "7e1958b3",
   "metadata": {},
   "source": [
    "ใน Material การสอนชุดนี้จะไม่ได้ปูพื้นฐานการเขียนโปรแกรมภาษา Python แต่จะอธิบายควบคู่ไปกับการใช้งานจริง\n",
    "\n",
    "อย่างไรก็ตาม หากผู้เรียนต้องการเรียนรู้เพิ่มเติม สามารถศึกษาได้จากแหล่งข้อมูลดังต่อไปนี้\n",
    "\n",
    "**Basic:** Python Introduction by W3Schools - [link](https://www.w3schools.com/python/python_intro.asp)\n",
    "\n",
    "**Colab: Google Colaboratory เครื่องมือคู่ใจนักวิทยาศาสตร์ข้อมูล** - [link](https://colab.research.google.com/notebooks/welcome.ipynb)\n",
    "- เป็นเครื่องมือที่ช่วยให้เราสามารถเขียนโค้ด Python และรันโค้ดได้ในเบราว์เซอร์ โดยไม่ต้องติดตั้ง Python บนเครื่องของเราเอง\n",
    "- Colab เป็นเครื่องมือที่เหมาะสำหรับการเรียนรู้และทดลองเขียนโค้ด Python โดยเฉพาะในด้าน Data Science และ Machine Learning\n",
    "- Colab มีฟีเจอร์ที่ช่วยให้การทำงานกับข้อมูลขนาดใหญ่เป็นไปได้อย่างราบรื่น เช่น การใช้ GPU และ TPU สำหรับการประมวลผลที่รวดเร็วขึ้น\n",
    "\n",
    "**หนังสือแนะนำ ที่ใช้ Python ในการวิเคราะห์ข้อมูล ที่มีโค้ดตัวอย่าง:**\n",
    "Python Data Science Handbook by Jake VanderPlas - [link](https://github.com/jakevdp/PythonDataScienceHandbook/tree/master)\n",
    "\n",
    "![Cover Python Data Science Handbook](../images/PDSH-cover.png)"
   ]
  },
  {
   "cell_type": "markdown",
   "id": "4e8fd0cb",
   "metadata": {},
   "source": [
    "## Library Pandas"
   ]
  },
  {
   "cell_type": "markdown",
   "id": "bd2b111b",
   "metadata": {},
   "source": [
    "[Pandas](https://pandas.pydata.org/) คือ Library ในภาษา Python ที่ทำให้ผู้ใช้งานสามารถจัดการ และเตรียมข้อมูล (Data Cleansing / Wrangling) เช่น การโหลดข้อมูลไฟล์ .csv การแสดงข้อมูลให้ออกมาในรูปแบบตารางหรือกราฟ หรือการเตรียมข้อมูลเพื่อนำไปใช้ต่อในแบบจำลอง (Statistical / Machine Learning Models) โดยรูปแบบการทำงานจะเป็นการแบ่งข้อมูลเป็น Row กับ Column เหมือนอย่างใน Excel โดยมีฟังก์ชันการคำนวณและวิเคราะห์ค่าทางสถิติในข้อมูลต่าง ๆ เตรียมไว้ให้หมดแล้ว"
   ]
  },
  {
   "cell_type": "markdown",
   "id": "f13d1518",
   "metadata": {},
   "source": [
    "### การติดตั้ง\n",
    "\n",
    "การติดตั้ง Library Pandas สามารถทำได้โดยการคำสั่งดังต่อไปนี้"
   ]
  },
  {
   "cell_type": "code",
   "execution_count": null,
   "id": "6b3dec30",
   "metadata": {},
   "outputs": [],
   "source": [
    "!pip install pandas xlrd"
   ]
  },
  {
   "cell_type": "markdown",
   "id": "f3ab1591",
   "metadata": {},
   "source": [
    "### การเข้าถึงการใช้งาน\n",
    "การเข้าถึงการใช้งาน Library ของ Pandas ด้วยการ `import`"
   ]
  },
  {
   "cell_type": "code",
   "execution_count": null,
   "id": "bfeb29b7",
   "metadata": {},
   "outputs": [],
   "source": [
    "import pandas as pd"
   ]
  },
  {
   "cell_type": "markdown",
   "id": "f71666eb",
   "metadata": {},
   "source": [
    "`as` คือการเปลี่ยนชื่อ Library ที่โหลดเข้ามา โดยจะทำให้เวลาเรียกใช้ pandas สามารถเรียกใช้โดยการเรียก `pd` ก็เพียงพอ"
   ]
  },
  {
   "cell_type": "markdown",
   "id": "0259d602",
   "metadata": {},
   "source": [
    "## การใช้งาน Pandas และส่วนประกอบพื้นฐาน"
   ]
  },
  {
   "cell_type": "markdown",
   "id": "61534994",
   "metadata": {},
   "source": [
    "### การโหลดข้อมูลและอ่านข้อมูลด้วย Pandas"
   ]
  },
  {
   "cell_type": "markdown",
   "id": "d3c69c13",
   "metadata": {},
   "source": [
    "การโหลดข้อมูลจากไฟล์ .csv ด้วย Pandas สามารถทำได้โดยใช้ [`pd.read_csv(..)`](https://pandas.pydata.org/docs/reference/api/pandas.read_csv.html)\n",
    "\n",
    "ในที่นี้ เราจะโหลดข้อมูล  จาก `../data/campaign_data.csv` ซึ่งเป็นข้อมูลการทำการตลาดของบริษัทแห่งหนึ่ง โดยมีข้อมูลที่สำคัญ ๆ ได้แก่"
   ]
  },
  {
   "cell_type": "code",
   "execution_count": null,
   "id": "37584d50",
   "metadata": {},
   "outputs": [],
   "source": [
    "data_source = \"../data/campaign_data.csv\"\n",
    "data = pd.read_csv(data_source)"
   ]
  },
  {
   "cell_type": "markdown",
   "id": "edf6f516",
   "metadata": {},
   "source": [
    "> 🧮 **ความสำคัญของตัวแปรในงานวิเคราะห์ข้อมูล**\n",
    "> ตัวแปรใน Python คือภาชนะเก็บข้อมูล เช่น ยอดขายของแต่ละเดือน หรือจำนวนลูกค้าแต่ละวัน\n",
    "> การเข้าใจวิธีใช้ตัวแปรจะช่วยให้สามารถจัดเก็บและประมวลผลข้อมูลที่หลากหลายได้อย่างเป็นระบบ"
   ]
  },
  {
   "cell_type": "markdown",
   "id": "9614f510",
   "metadata": {},
   "source": [
    "โดยการแสดงผลข้อมูล สามารถทำได้โดยพิมชื่อตัวแปรตรง ๆ ซึ่งจะเทียบเท่ากับการใช้งานคำสั่ง [`display(..)`](https://ipython.readthedocs.io/en/stable/api/generated/IPython.display.html)"
   ]
  },
  {
   "cell_type": "code",
   "execution_count": null,
   "id": "8ea64d52",
   "metadata": {},
   "outputs": [],
   "source": [
    "x=1\n",
    "y=2"
   ]
  },
  {
   "cell_type": "code",
   "execution_count": null,
   "id": "5fdefcbd",
   "metadata": {},
   "outputs": [],
   "source": [
    "display(x)\n",
    "display(y)"
   ]
  },
  {
   "cell_type": "code",
   "execution_count": null,
   "id": "245d97ed",
   "metadata": {},
   "outputs": [],
   "source": [
    "data"
   ]
  },
  {
   "cell_type": "code",
   "execution_count": null,
   "metadata": {},
   "outputs": [],
   "source": [
    "# Set the display options\n",
    "pd.set_option('display.max_columns', None)"
   ]
  },
  {
   "cell_type": "code",
   "execution_count": null,
   "metadata": {},
   "outputs": [],
   "source": [
    "data"
   ]
  },
  {
   "cell_type": "markdown",
   "id": "2aa7f1ca",
   "metadata": {},
   "source": [
    "ผลลัพธ์ที่ได้จะอยู่ในรูปแบบของตาราง เรียกว่า [_**DataFrame**_](https://pandas.pydata.org/pandas-docs/stable/reference/api/pandas.DataFrame.html) ที่แบ่งข้อมูลตามแถวและคอลัมน์ หรือเหมือน Excel ที่เราคุ้นเคย"
   ]
  },
  {
   "cell_type": "markdown",
   "id": "2b742502",
   "metadata": {},
   "source": [
    "ส่วนประกอบที่ย่อยมาจาก DataFrame จะเรียกว่า [_**Series**_](https://pandas.pydata.org/pandas-docs/stable/reference/api/pandas.Series.html)\n",
    "\n",
    "Series คือข้อมูลแถวเดียวที่มีประเภทของข้อมูลเดียวกัน เช่น [1, 2, 3, 4]\n",
    "\n",
    "โดยที่ DataFrame คือ Series หลาย ๆ ชุดมารวมกัน ดังที่เห็นในตารางข้องต้น"
   ]
  },
  {
   "cell_type": "markdown",
   "id": "ea3fa095",
   "metadata": {},
   "source": [
    "การดูขนาดข้อมูล (Dimension) สามารถทำได้ด้วยคำสั่ง [`.shape`](https://pandas.pydata.org/docs/reference/api/pandas.DataFrame.shape.html)"
   ]
  },
  {
   "cell_type": "code",
   "execution_count": null,
   "id": "60dadc45",
   "metadata": {},
   "outputs": [],
   "source": [
    "data.shape"
   ]
  },
  {
   "cell_type": "code",
   "execution_count": null,
   "id": "4b0d4b98",
   "metadata": {},
   "outputs": [],
   "source": [
    "from IPython.display import Markdown, display\n",
    "\n",
    "rows, cols = data.shape\n",
    "display(Markdown(f\"ข้อมูลมีประมาณ: **{rows}** แถว และ **{cols}** คอลัมน์\"))"
   ]
  },
  {
   "cell_type": "markdown",
   "id": "f319cbe4",
   "metadata": {},
   "source": [
    "วิธีการดูประเภทของข้อมูล สามารถทำได้ด้วยคำสั่ง [`.dtypes`](https://pandas.pydata.org/pandas-docs/stable/reference/api/pandas.DataFrame.dtypes.html)"
   ]
  },
  {
   "cell_type": "code",
   "execution_count": null,
   "id": "6643ab9e",
   "metadata": {},
   "outputs": [],
   "source": [
    "data.dtypes"
   ]
  },
  {
   "cell_type": "markdown",
   "id": "5d3d34fd",
   "metadata": {},
   "source": [
    "ในกรณีตัวอย่างด้านบนจะมีข้อมูลประเภท\n",
    "- 5 คอลัมน์ ป็นข้อมูลประเภท int64 (ตัวเลขจำนวนเต็ม)\n",
    "- 7 คอลัมน์ ป็นข้อมูลประเภท float (ตัวเลขจำนวนจริง หรือทศนิยม)\n",
    "- 11 คอลัมน์ ป็นข้อมูลประเภท object (ออบเจ็ค ในกรณีนี้คือข้อมูลตัวอักษร)"
   ]
  },
  {
   "cell_type": "markdown",
   "id": "7e3456d8",
   "metadata": {},
   "source": [
    "การดูข้อมูลเฉพาะ 5 แถวแรก สามารถดูได้ด้วยคำสั่ง [`.head(..)`](https://pandas.pydata.org/docs/reference/api/pandas.DataFrame.head.html)"
   ]
  },
  {
   "cell_type": "code",
   "execution_count": null,
   "id": "0a8afa95",
   "metadata": {},
   "outputs": [],
   "source": [
    "data.head()"
   ]
  },
  {
   "cell_type": "markdown",
   "id": "94dea2e4",
   "metadata": {},
   "source": [
    "หรือ 5 แถวสุดท้ายด้วย [`.tail()`](https://pandas.pydata.org/pandas-docs/stable/reference/api/pandas.DataFrame.tail.html)"
   ]
  },
  {
   "cell_type": "code",
   "execution_count": null,
   "id": "c625920d",
   "metadata": {},
   "outputs": [],
   "source": [
    "data.tail()"
   ]
  },
  {
   "cell_type": "code",
   "execution_count": null,
   "id": "bf3c4cf6",
   "metadata": {},
   "outputs": [],
   "source": [
    "data.sample??"
   ]
  },
  {
   "cell_type": "code",
   "execution_count": null,
   "id": "0ed4a629",
   "metadata": {},
   "outputs": [],
   "source": [
    "data.sample(n=100)"
   ]
  },
  {
   "cell_type": "markdown",
   "id": "5a27c571",
   "metadata": {},
   "source": [
    "### ดัชนี (Index)"
   ]
  },
  {
   "cell_type": "markdown",
   "id": "aa8b8abf",
   "metadata": {},
   "source": [
    "ดัชนี ([Index](pandas.Index)) คือ ชุดข้อมูลที่ใช้อ้างอิงข้อมูลในแต่ละแถว"
   ]
  },
  {
   "cell_type": "code",
   "execution_count": null,
   "id": "435daa56",
   "metadata": {},
   "outputs": [],
   "source": [
    "data"
   ]
  },
  {
   "cell_type": "markdown",
   "id": "5e7d4c6a",
   "metadata": {},
   "source": [
    "จาก DataFrame ข้างต้น `Index = 0` จะอ้างอิงถึงข้อมูลแถวที่มี `account_name = Account 1`\n",
    "\n",
    "โดยสามารถอ้างอิงถึงแถวดังกล่าวด้วย Index = 0 โดย [`.loc(..)`](https://pandas.pydata.org/docs/reference/api/pandas.DataFrame.loc.html)"
   ]
  },
  {
   "cell_type": "code",
   "execution_count": null,
   "id": "84a728eb",
   "metadata": {},
   "outputs": [],
   "source": [
    "data.loc[0]"
   ]
  },
  {
   "cell_type": "code",
   "execution_count": null,
   "id": "b0f740d0",
   "metadata": {},
   "outputs": [],
   "source": [
    "data.loc[700]"
   ]
  },
  {
   "cell_type": "markdown",
   "id": "7a4906ed",
   "metadata": {},
   "source": [
    "หากต้องการให้คอลัมน์อื่นเป็น Index สามารถใช้ [`.set_index(..)`](https://pandas.pydata.org/docs/reference/api/pandas.DataFrame.set_index.html) ได้ เช่นต้อนการให้คอลัมน์ PassengerId เป็น Index แทน\n"
   ]
  },
  {
   "cell_type": "code",
   "execution_count": null,
   "id": "47b72f0f",
   "metadata": {},
   "outputs": [],
   "source": [
    "data_date_as_index = data.set_index('utc_date')\n",
    "data_date_as_index"
   ]
  },
  {
   "cell_type": "markdown",
   "id": "e103f746",
   "metadata": {},
   "source": [
    "ในทางกลับกัน สามารถใช้คำสั่ง [`.reset_index(..)`](https://pandas.pydata.org/docs/reference/api/pandas.DataFrame.reset_index.html) เพื่อทำการสลาย Index หรือต้องการ Reset Index ใหม่"
   ]
  },
  {
   "cell_type": "code",
   "execution_count": null,
   "id": "be858bef",
   "metadata": {},
   "outputs": [],
   "source": [
    "data_reset_index = data_date_as_index.reset_index()\n",
    "data_reset_index"
   ]
  },
  {
   "cell_type": "code",
   "execution_count": null,
   "metadata": {},
   "outputs": [],
   "source": [
    "data_date_as_index.reset_index?"
   ]
  },
  {
   "cell_type": "markdown",
   "id": "ef492e66",
   "metadata": {},
   "source": [
    "การเข้าใจเรื่องดัชนี (Index) จะทำให้เข้าใจเรื่อง groupby ในลำดับถัดไป"
   ]
  },
  {
   "cell_type": "markdown",
   "id": "95207e3a",
   "metadata": {},
   "source": [
    "### คอลัมน์ (Column)"
   ]
  },
  {
   "cell_type": "markdown",
   "id": "0329add1",
   "metadata": {},
   "source": [
    "หากต้องการทราบชื่อคอลัมน์ที่มี สามารถทำได้โดยใช้คำสั่ง [`.columns`](https://pandas.pydata.org/docs/reference/api/pandas.DataFrame.columns.html)"
   ]
  },
  {
   "cell_type": "code",
   "execution_count": null,
   "id": "a83edf53",
   "metadata": {},
   "outputs": [],
   "source": [
    "data.columns"
   ]
  },
  {
   "cell_type": "code",
   "execution_count": null,
   "metadata": {},
   "outputs": [],
   "source": [
    "# แปลงข้อมูลคอลัมท์ เป็น list\n",
    "data.columns.to_list()"
   ]
  },
  {
   "cell_type": "markdown",
   "id": "31a070a5",
   "metadata": {},
   "source": [
    "โดยสามารถอ้างอิงข้อมูล Column ด้วยชื่อได้จากคำสั่งดังนี้"
   ]
  },
  {
   "cell_type": "code",
   "execution_count": null,
   "id": "bd5a5b6e",
   "metadata": {},
   "outputs": [],
   "source": [
    "data['device_models']"
   ]
  },
  {
   "cell_type": "code",
   "execution_count": null,
   "metadata": {},
   "outputs": [],
   "source": [
    "data.device_models"
   ]
  },
  {
   "cell_type": "markdown",
   "id": "c2655a03",
   "metadata": {},
   "source": [
    "ในกรณีข้างต้นจะคืนค่าของ Column `device_models` (Column ขวา) พร้อมกับ Index ออกมา (Column ซ้าย) เป็นชุดข้อมูลประเภท `pd.Series`\n",
    "\n",
    "แต่หากระบุชื่อ Column มากกว่า 1 Column จะคือค่าออกมาเป็น `pd.DataFrame`"
   ]
  },
  {
   "cell_type": "code",
   "execution_count": null,
   "id": "5de5756d",
   "metadata": {},
   "outputs": [],
   "source": [
    "data"
   ]
  },
  {
   "cell_type": "code",
   "execution_count": null,
   "id": "2038e364",
   "metadata": {},
   "outputs": [],
   "source": [
    "data[['device_viewed', 'device_models','browser']]"
   ]
  },
  {
   "cell_type": "markdown",
   "id": "7c146200",
   "metadata": {},
   "source": [
    "การเรียงลำดับข้อมูล สามารถใช้คำสั่ง [`.sort_values(..)`](https://pandas.pydata.org/pandas-docs/stable/reference/api/pandas.DataFrame.sort_values.html) หรือ [`.sort_index(..)`](https://pandas.pydata.org/pandas-docs/stable/reference/api/pandas.DataFrame.sort_index.html)\n",
    "\n",
    "เช่น หากต้องการเรียงลำดับข้อมูลตามชื่อ `country`"
   ]
  },
  {
   "cell_type": "code",
   "execution_count": null,
   "id": "fdb97f5e",
   "metadata": {},
   "outputs": [],
   "source": [
    "data.sort_values('paid_clicks')"
   ]
  },
  {
   "cell_type": "markdown",
   "id": "51e8e30b",
   "metadata": {},
   "source": [
    "หากต้องการเรียงลำดับแบบย้อนกลับสามารถใส่ `ascending=False` ได้ดังนี้"
   ]
  },
  {
   "cell_type": "code",
   "execution_count": null,
   "id": "3a9e8c18",
   "metadata": {},
   "outputs": [],
   "source": [
    "data.sort_values('paid_clicks', ascending=False)"
   ]
  },
  {
   "cell_type": "markdown",
   "id": "f0a9bfdd",
   "metadata": {},
   "source": [
    "## การใช้งาน Pandas ในเลือกข้อมูล"
   ]
  },
  {
   "cell_type": "markdown",
   "id": "f38ad592",
   "metadata": {},
   "source": [
    "### การเลือกบางส่วนของ Dataframe (Selection / Filter)"
   ]
  },
  {
   "cell_type": "markdown",
   "id": "5cb86edd",
   "metadata": {},
   "source": [
    "การเลือกข้อมูลจาก DataFrame ที่สอดคล้องกับเงื่อนไข สามารถทำได้ด้วยด้วยคำสั่ง [`.loc[..]`](https://pandas.pydata.org/docs/reference/api/pandas.DataFrame.loc.html)\n",
    "\n",
    "ในตัวอย่างด้านล่างนี้ จะเป็นการเลือกข้อมูลผู้โดยสารเสียชีวิต ซึ่งมีค่า `Survived = 0`"
   ]
  },
  {
   "cell_type": "code",
   "execution_count": null,
   "id": "bd7a5ce0",
   "metadata": {},
   "outputs": [],
   "source": [
    "# คัด dataframe เฉพาะ Traffic Source (traffic_source = TikTok Ads)\n",
    "data.loc[data[\"traffic_source\"] == \"TikTok Ads\"]"
   ]
  },
  {
   "cell_type": "markdown",
   "id": "796f0400",
   "metadata": {},
   "source": [
    "ในกรณีการเลือกข้อมูลทั่วไป สามารถละ `.loc` ออกไปได้"
   ]
  },
  {
   "cell_type": "code",
   "execution_count": null,
   "id": "489293a1",
   "metadata": {},
   "outputs": [],
   "source": [
    "data[data[\"traffic_source\"] == \"TikTok Ads\"]"
   ]
  },
  {
   "cell_type": "markdown",
   "id": "6e33672a",
   "metadata": {},
   "source": [
    "โดยที่ Operator นอกเหนือจาก `==` จะการเปรียบเทียบเหมือนภาษาโปรแกรมอื่น ๆ เช่น `>`, `>=`, `<`, `<=`\n",
    "\n",
    "โดยที่จะมีคำสั่งพิเศษอื่น ๆ เช่น [`.isnull()`](https://pandas.pydata.org/docs/reference/api/pandas.isnull.html), [`.notnull()`](https://pandas.pydata.org/docs/reference/api/pandas.notnull.html), [`.isin(..)`](https://pandas.pydata.org/docs/reference/api/pandas.Series.isin.html), ..."
   ]
  },
  {
   "cell_type": "code",
   "execution_count": null,
   "id": "73932fb9",
   "metadata": {},
   "outputs": [],
   "source": [
    "data[data['device_models'].isin(['Linux PC', 'Windows PC'])]"
   ]
  },
  {
   "cell_type": "markdown",
   "id": "c518558e",
   "metadata": {},
   "source": [
    "### การเชื่อมเงื่อนไข"
   ]
  },
  {
   "cell_type": "markdown",
   "id": "6ea5d280",
   "metadata": {},
   "source": [
    "การเชื่อมเงื่อนไขที่สอดคล้องมากกว่า 1 เงื่อนไข โดยใช้ `&` (and) หรือ `|` (or) เป็น operator ในการเชื่อม 2 เงื่อนไข\n",
    "\n",
    "แนะนำให้ใส่วงเล็บ `(..)` ครอบในแต่ละเงื่อนไข เพื่อความถูกต้องและชัดเจนในการประมวลผล"
   ]
  },
  {
   "cell_type": "code",
   "execution_count": null,
   "id": "30cf5811",
   "metadata": {},
   "outputs": [],
   "source": [
    "# 1. สื่อสารผ่านทาง TikTok Ads\n",
    "# และ\n",
    "# 2. มีคนดูผ่าน Desktop\n",
    "data[(data['traffic_source'] == 'TikTok Ads') & (data['device_viewed'] == 'Desktop')]"
   ]
  },
  {
   "cell_type": "code",
   "execution_count": null,
   "id": "17cbdff7",
   "metadata": {},
   "outputs": [],
   "source": [
    "# 1. Canada\n",
    "# หรือ\n",
    "# 2. LinkedIn Ads\n",
    "data[(data['country'] == 'Canada') | (data['ad_spend'] >= 500)]"
   ]
  },
  {
   "cell_type": "markdown",
   "id": "1a13a50f",
   "metadata": {},
   "source": [
    "## การกำหนดค่าให้แก่คอลัมม์ (Assigning data)"
   ]
  },
  {
   "cell_type": "markdown",
   "id": "a59995d0",
   "metadata": {},
   "source": [
    "ทำการสร้างคอลัมม์ใหม่ ที่มีค่าในคอลัมน์เป็นคำว่า \"PEA\""
   ]
  },
  {
   "cell_type": "code",
   "execution_count": null,
   "id": "63048b12",
   "metadata": {},
   "outputs": [],
   "source": [
    "data['company'] = 'PEA'\n",
    "data"
   ]
  },
  {
   "cell_type": "markdown",
   "id": "17f624bb",
   "metadata": {},
   "source": [
    "## การลบ Column (Drop Column)"
   ]
  },
  {
   "cell_type": "markdown",
   "id": "16ee3e32",
   "metadata": {},
   "source": [
    "การลบ Column สามารถทำได้ด้วยด้วยคำสั่ง [`.drop(..)`](https://pandas.pydata.org/pandas-docs/stable/reference/api/pandas.DataFrame.drop.html)\n",
    "\n",
    "ในตัวอย่างด้านล่าง เราต้องการลบ Column ที่ชื่อว่า `company`"
   ]
  },
  {
   "cell_type": "code",
   "execution_count": null,
   "id": "ed688ba1",
   "metadata": {},
   "outputs": [],
   "source": [
    "data.drop(columns=['company'])\n",
    "data"
   ]
  },
  {
   "cell_type": "code",
   "execution_count": null,
   "id": "afa35c61",
   "metadata": {},
   "outputs": [],
   "source": [
    "data.drop(columns=['company'], inplace=True)\n",
    "data"
   ]
  },
  {
   "cell_type": "markdown",
   "id": "be7326c5",
   "metadata": {},
   "source": [
    "> 🛠 **การใช้ฟังก์ชันเพื่อจัดระบบงานวิเคราะห์ข้อมูล**\n",
    "> การวิเคราะห์ข้อมูลมักมีขั้นตอนซ้ำ ๆ เช่น การทำความสะอาดหรือการสรุปข้อมูล\n",
    "> การเขียนเป็นฟังก์ชันจะช่วยให้ทำซ้ำได้ง่าย และแบ่งปันโค้ดกับทีมได้สะดวก"
   ]
  },
  {
   "cell_type": "markdown",
   "id": "c3fc1dd4",
   "metadata": {},
   "source": [
    "## ฟังก์ชันการสรุปข้อมูลเชิงสถิติของข้อมูล (Summary Functions)"
   ]
  },
  {
   "cell_type": "markdown",
   "id": "d409ba4d",
   "metadata": {},
   "source": [
    "### ดู Distribution ของข้อมูล"
   ]
  },
  {
   "cell_type": "code",
   "execution_count": null,
   "id": "a8596061",
   "metadata": {},
   "outputs": [],
   "source": [
    "data.describe()"
   ]
  },
  {
   "cell_type": "code",
   "execution_count": null,
   "id": "ec2dddca",
   "metadata": {},
   "outputs": [],
   "source": [
    "data.describe?"
   ]
  },
  {
   "cell_type": "code",
   "execution_count": null,
   "id": "5f9b4514",
   "metadata": {},
   "outputs": [],
   "source": [
    "data.describe(include='all')"
   ]
  },
  {
   "cell_type": "markdown",
   "id": "f0476f8c",
   "metadata": {},
   "source": [
    "### ดูค่า mean โดยเจาะจงคอลัมน์"
   ]
  },
  {
   "cell_type": "code",
   "execution_count": null,
   "id": "7ad627dc",
   "metadata": {},
   "outputs": [],
   "source": [
    "data['paid_clicks'].mean()"
   ]
  },
  {
   "cell_type": "markdown",
   "id": "5d529470",
   "metadata": {},
   "source": [
    "### ดูค่าทั้งหมดของคอลัมม์ traffic_source ที่ไม่ซ้ำกัน (Unique)"
   ]
  },
  {
   "cell_type": "code",
   "execution_count": null,
   "id": "22cb5c5f",
   "metadata": {},
   "outputs": [],
   "source": [
    "data['traffic_source'].unique()"
   ]
  },
  {
   "cell_type": "markdown",
   "id": "2d372948",
   "metadata": {},
   "source": [
    "### ดูค่าทั้งหมดของคอลัมม์พร้อมทั้งนับจำนวนในแต่ละค่า"
   ]
  },
  {
   "cell_type": "code",
   "execution_count": null,
   "id": "6b176700",
   "metadata": {},
   "outputs": [],
   "source": [
    "data['traffic_source'].value_counts()"
   ]
  },
  {
   "cell_type": "markdown",
   "id": "2f8c09dc",
   "metadata": {},
   "source": [
    "## การจัดกลุ่มและเรียงข้อมูล (Grouping & Sorting)"
   ]
  },
  {
   "cell_type": "markdown",
   "id": "97b4b9cf",
   "metadata": {},
   "source": [
    "Pandas ได้เตรียมคำสั่งที่สะดวกสำหรับใช้ในการแบ่งกลุ่มข้อมูลที่อยู่ภายในตารางเพื่อจะนำคำนวณค่าต่าง ๆ แยกในแต่ละกลุ่ม\n",
    "\n",
    "การแยกกลุ่มของข้อมูลสามารถทำได้ด้วยฟังก์ชัน [`.groupby(..)`](https://pandas.pydata.org/pandas-docs/stable/reference/api/pandas.DataFrame.groupby.html) ซึ่งมีหน้าที่แบ่งกลุ่มข้อมูลเพื่อนำมาประมวลผลต่อ\n",
    "\n",
    "การใช้ groupby นั้นค่อนข้างมีความซับซ้อนเข้าใจยาก แต่หากเข้าใจและใช้เป็นแล้วจะเป็นประโยชน์ในการจัดการและวิเคราะห์ข้อมูลเป็นอย่างมาก\n",
    "\n",
    "เพื่อให้เห็นภาพการใช้งาน จะนำแสดงตัวอย่างผ่าน Use Cases ต่าง ๆ"
   ]
  },
  {
   "cell_type": "markdown",
   "id": "1aade369",
   "metadata": {},
   "source": [
    "### นับจำนวนรูปแบบการแสดงผล(device_viewed) ที่เกิดขึ้นตาม utc_date"
   ]
  },
  {
   "cell_type": "code",
   "execution_count": null,
   "id": "f4eaf81d",
   "metadata": {},
   "outputs": [],
   "source": [
    "data.groupby('device_viewed')['utc_date'].count()"
   ]
  },
  {
   "cell_type": "markdown",
   "id": "c9c42919",
   "metadata": {},
   "source": [
    "### หาค่า `ad_spend` ที่มากที่สุด ในแต่ละประเทศ ของแต่ละ traffic_source"
   ]
  },
  {
   "cell_type": "code",
   "execution_count": null,
   "id": "7a221d9c",
   "metadata": {},
   "outputs": [],
   "source": [
    "data.groupby(['country', 'traffic_source'])['ad_spend'].max()"
   ]
  },
  {
   "cell_type": "code",
   "execution_count": null,
   "id": "2d430b5f",
   "metadata": {},
   "outputs": [],
   "source": [
    "data.groupby(['country', 'traffic_source'])['ad_spend'].agg(['min', 'max', 'mean', 'sum'])"
   ]
  },
  {
   "cell_type": "markdown",
   "id": "5e73983c",
   "metadata": {},
   "source": [
    "### หา `ad_spend` ที่น้อยที่สุด, จำนวน `page_clicks` มากที่สุด, ค่าเฉลี่ย `gross_profit` ในแต่ละ `traffic_source`"
   ]
  },
  {
   "cell_type": "markdown",
   "id": "84b0343e",
   "metadata": {},
   "source": [
    "เมื่อต้องการเรียกใช้การรวม (Aggregate) ที่แตกต่างกันในคอลัมน์ต่างๆ ควรใช้คำสั่ง .agg()\n"
   ]
  },
  {
   "cell_type": "code",
   "execution_count": null,
   "id": "90f0a567",
   "metadata": {},
   "outputs": [],
   "source": [
    "data.groupby('traffic_source').agg({\n",
    "    'ad_spend': 'min',\n",
    "    'page_clicks': 'max',\n",
    "    'gross_profit': 'mean'\n",
    "})"
   ]
  },
  {
   "cell_type": "markdown",
   "id": "aac500b5",
   "metadata": {},
   "source": [
    "### ใช้คำสั่ง reset_index() เพื่อทำการสลายดัชนี (index)"
   ]
  },
  {
   "cell_type": "markdown",
   "id": "a4b297a1",
   "metadata": {},
   "source": [
    "ในบางครั้ง เราไม่ต้องการให้คอลัมม์ใดคอลัมม์หนึ่งเป็นดัชนี (Index) ของ Dataframe "
   ]
  },
  {
   "cell_type": "code",
   "execution_count": null,
   "id": "a5ab7480",
   "metadata": {},
   "outputs": [],
   "source": [
    "data.groupby('traffic_source').agg({\n",
    "    'ad_spend': 'min',\n",
    "    'page_clicks': 'max',\n",
    "    'gross_profit': 'mean'\n",
    "}).reset_index()"
   ]
  },
  {
   "cell_type": "markdown",
   "id": "7dc25a3c",
   "metadata": {},
   "source": [
    "### เรียงลำดับข้อมูลเพื่อหา traffic_source ที่มี gross_profit มากที่สุด"
   ]
  },
  {
   "cell_type": "code",
   "execution_count": null,
   "id": "4b88cec2",
   "metadata": {},
   "outputs": [],
   "source": [
    "data.groupby('traffic_source')['gross_profit'].mean().reset_index().sort_values(by='gross_profit', ascending=False)"
   ]
  },
  {
   "cell_type": "code",
   "execution_count": null,
   "id": "1ff546a8",
   "metadata": {},
   "outputs": [],
   "source": [
    "data.groupby('traffic_source')['gross_profit'].mean().reset_index().sort_values(by='gross_profit', ascending=True)"
   ]
  },
  {
   "cell_type": "code",
   "execution_count": null,
   "metadata": {},
   "outputs": [],
   "source": [
    "data.groupby('traffic_source').agg({'ad_spend': 'mean',\n",
    "                                    'gross_profit': 'mean'}).reset_index().sort_values(by='gross_profit', ascending=False)"
   ]
  },
  {
   "cell_type": "markdown",
   "id": "65054938",
   "metadata": {},
   "source": [
    "ในกรณีข้างต้นจะเห็นได้ว่า `traffic_source` (`traffic_source = Reddit Ads`) มีค่าเฉลี่ย `gross_profit` มากที่สุด"
   ]
  },
  {
   "cell_type": "markdown",
   "id": "31e58642",
   "metadata": {},
   "source": [
    "## การเปลี่ยนชื่อคอลัมม์ของข้อมูล (Renaming)"
   ]
  },
  {
   "cell_type": "markdown",
   "id": "8d1fbc7b",
   "metadata": {},
   "source": [
    "ในบางครั้ง เราอาจต้องการเปลี่ยนชื่อคอลัมม์ของข้อมูลให้เป็นชื่อที่สามารถเข้าใจได้ง่ายขึ้น สามารถใช้คำสั่ง [`.rename(..)`](https://pandas.pydata.org/pandas-docs/stable/reference/api/pandas.DataFrame.rename.html)\n",
    "\n",
    "เช่น ต้องกาเปลี่ยนชื่อคอลัมม์ SibSp ให้เป็น numberofSibling"
   ]
  },
  {
   "cell_type": "code",
   "execution_count": null,
   "id": "95dd021b",
   "metadata": {},
   "outputs": [],
   "source": [
    "data.head()"
   ]
  },
  {
   "cell_type": "code",
   "execution_count": null,
   "id": "f4db5f03",
   "metadata": {},
   "outputs": [],
   "source": [
    "data.rename(columns={'roas': 'return_on_ad_spend'}).head()"
   ]
  },
  {
   "cell_type": "code",
   "execution_count": null,
   "id": "c38d16f4",
   "metadata": {},
   "outputs": [],
   "source": [
    "data = data.rename(columns={'roas': 'return_on_ad_spend'})\n",
    "data"
   ]
  },
  {
   "cell_type": "code",
   "execution_count": null,
   "id": "d45d80ed",
   "metadata": {},
   "outputs": [],
   "source": [
    "data.rename(columns={'return_on_ad_spend': 'roas'}, inplace=True)\n",
    "data"
   ]
  },
  {
   "cell_type": "markdown",
   "id": "865249ad",
   "metadata": {},
   "source": [
    "> 🧮 **ความสำคัญของตัวแปรในงานวิเคราะห์ข้อมูล**\n",
    "> ตัวแปรใน Python คือภาชนะเก็บข้อมูล เช่น ยอดขายของแต่ละเดือน หรือจำนวนลูกค้าแต่ละวัน\n",
    "> การเข้าใจวิธีใช้ตัวแปรจะช่วยให้สามารถจัดเก็บและประมวลผลข้อมูลที่หลากหลายได้อย่างเป็นระบบ"
   ]
  },
  {
   "cell_type": "markdown",
   "id": "14d4d84a",
   "metadata": {},
   "source": [
    "ข้อควรระวัง การใช้งานด้วยคำสั่งข้างต้นจะยังไม่ได้เป็นบันทึกกลับไปยังข้อมูลต้นฉบับ หากต้องการสามารถทำได้โดย\n",
    "1. Assign ค่ากลับไปยังตัวแปรเดิม\n",
    "2. ใส่ `inplace=True` ในคำสั่ง"
   ]
  },
  {
   "cell_type": "code",
   "execution_count": null,
   "id": "a1972afa",
   "metadata": {},
   "outputs": [],
   "source": [
    "# 1. Re-assigne\n",
    "# data = data.rename(columns={'SibSp': 'numberofSibling'})\n",
    "# or\n",
    "# 2. inplace=True\n",
    "# data.rename(columns={'SibSp': 'numberofSibling'}, inplace=True)"
   ]
  },
  {
   "cell_type": "markdown",
   "id": "04df4ff2",
   "metadata": {},
   "source": [
    "## การเชื่อมข้อมูล (Merge / Join)"
   ]
  },
  {
   "cell_type": "markdown",
   "id": "b170cb7b",
   "metadata": {},
   "source": [
    "มีหลากหลายวิธีในการนำข้อมูลที่มีอยู่ DataFrame สองอันขึ้นไปมารวมเข้าด้วยกัน เช่น [`.merge(..)`](https://pandas.pydata.org/docs/reference/api/pandas.DataFrame.merge.html) หรือ [`.join(..)`](https://pandas.pydata.org/docs/reference/api/pandas.DataFrame.join.html)\n",
    "\n",
    "โดยในที่นี้ จะยกตัวอย่างการใช้งานคำสั่ง [`.merge(..)`](https://pandas.pydata.org/docs/reference/api/pandas.DataFrame.merge.html)"
   ]
  },
  {
   "cell_type": "code",
   "execution_count": null,
   "id": "07e90b67",
   "metadata": {},
   "outputs": [],
   "source": [
    "# ทำการคัดแยกข้อมูล เพื่อยกเป็นตัวอย่างในการ merge\n",
    "df_1 = data[['utc_date', 'traffic_source','account_name',\n",
    "             'campaign_manager', 'device_viewed', 'device_models',\n",
    "             'browser','template_name','country',\n",
    "             'state','campaign_url']]\n",
    "df_2 = data[['utc_date', 'impressions', 'page_clicks', \n",
    "             'revenue', 'blocked_clicks', 'ad_spend',\n",
    "             'paid_clicks', 'count_of_ads_returned', 'roas',\n",
    "             'rpc','cpc','cpa','gross_profit']]"
   ]
  },
  {
   "cell_type": "code",
   "execution_count": null,
   "id": "1b4e6b92",
   "metadata": {},
   "outputs": [],
   "source": [
    "df_1.head(3)"
   ]
  },
  {
   "cell_type": "code",
   "execution_count": null,
   "id": "f0ca39ce",
   "metadata": {},
   "outputs": [],
   "source": [
    "df_2.head(3)"
   ]
  },
  {
   "cell_type": "markdown",
   "id": "4c31941e",
   "metadata": {},
   "source": [
    "ทำการเชื่อมสอง Dataframe โดยใช้ PassengerId เป็นตัวเชื่อม ผลลัพธ์ที่ได้จะประกอบไปด้วยคอลัมม์ของ df_1 และ df_2 รวมกัน"
   ]
  },
  {
   "cell_type": "code",
   "execution_count": null,
   "id": "4ad44b43",
   "metadata": {},
   "outputs": [],
   "source": [
    "df_1.merge(df_2, on='utc_date', how='inner')"
   ]
  },
  {
   "cell_type": "markdown",
   "id": "64a284a5",
   "metadata": {},
   "source": [
    "ตัวอย่างด้านบนคือกรณีการเชื่อมข้อมูลแบบ inner (Inner join) นั่นคือการเชื่อมข้อมูลโดยเก็บเฉพาะที่มีตัวเชื่อมเหมือนกันทั้งสองตาราง \n",
    "\n",
    "แต่นอกจากนี้แล้ว ยังมีการเชื่อมข้อมูลอีก 3 แบบ คือ\n",
    "- left โดยเก็บที่ Dataframe ฝั่งซ้ายมีทั้งหมดโดยไม่สน Dataframe ฝั่งขวา\n",
    "- right โดยเก็บที่ Dataframe ฝั่งขวามีทั้งหมดโดยไม่สน Dataframe ฝั่งซ้าย\n",
    "- outer เก็บทั้งที่ Dataframe ฝั่งซ้ายมีและ Dataframe ฝั่งขวามี\n",
    "\n",
    "สามารถกำหนดว่าจะเชื่อมโยงด้วยรูปแบบใดโดยตั้งที่พารามิเตอร์ how โดยที่ถ้าไม่ใส่ (หรือค่าตั้งต้น) จะเท่ากับ how='inner'\n",
    "\n",
    "Operation นี้ เทียบเท่ากับการ JOIN ใน Database (https://www.w3schools.com/sql/sql_join.asp)"
   ]
  },
  {
   "cell_type": "markdown",
   "id": "d01318f5",
   "metadata": {},
   "source": [
    "# สรุป"
   ]
  },
  {
   "cell_type": "markdown",
   "id": "e65c63f7",
   "metadata": {},
   "source": [
    "Lab 1: พื้นฐานการเขียนโปรแกรมด้วย Pandas\n",
    "\n",
    "จาก Lab นี้เราได้เรียนรู้ Operation เบื้องต้นในการทำงานกับข้อมูลผ่านโปรแกรมภาษา Python และ Library พื้้นฐาน เช่น Pandas โดยมีการแสดงตัวอย่างดังต่อไปนี้\n",
    "\n",
    "* การนำเข้า Library\n",
    "* การทำงานของ Index และ Column\n",
    "* การเลือกข้อมูล หรือการปรับเปลี่ยนข้อมูล\n",
    "* การสรุปผลทางสถิติ\n",
    "* การจัดกลุ่ม (Aggregation)\n",
    "* การเชื่อมข้อมูล (Merge / Join)\n",
    "\n",
    "ซึ่งจะเป็นพื้นฐานในการทำงานใน Process ถัดไป\n"
   ]
  },
  {
   "cell_type": "markdown",
   "id": "688bf492",
   "metadata": {},
   "source": [
    "\n",
    "\n",
    "---\n",
    "\n"
   ]
  },
  {
   "cell_type": "markdown",
   "id": "df915dd3",
   "metadata": {},
   "source": [
    "# พื้นที่สำหรับการทดลอง\n",
    "\n",
    "ให้ทดลองใช้ Library Pandas ด้วยตัวเอง"
   ]
  },
  {
   "cell_type": "markdown",
   "metadata": {},
   "source": [
    "## การอ่านข้อมูลหลายไฟล์ด้วย Python"
   ]
  },
  {
   "cell_type": "markdown",
   "metadata": {},
   "source": [
    "🎯 เป้าหมายการเรียนรู้ (Learning Objectives)\n",
    "\n",
    "- ใช้ Python อ่านไฟล์ .csv หลายไฟล์ในโฟลเดอร์เดียวกันได้\n",
    "\n",
    "- รวมไฟล์ทั้งหมดให้เป็น DataFrame เดียว\n",
    "\n",
    "- เพิ่มคอลัมน์ใหม่เพื่อบอกว่าแถวข้อมูลมาจากไฟล์ไหน\n",
    "\n"
   ]
  },
  {
   "cell_type": "code",
   "execution_count": null,
   "id": "f671f24b",
   "metadata": {},
   "outputs": [],
   "source": [
    "# Code Here\n",
    "import pandas as pd\n",
    "import os\n",
    "import glob\n",
    "\n",
    "list_of_files = glob.glob('../data/volta_transaction/*.xls')\n",
    "list_of_files"
   ]
  },
  {
   "cell_type": "code",
   "execution_count": null,
   "metadata": {},
   "outputs": [],
   "source": [
    "print(f\"จำนวนไฟล์ทั้งหมดที่พบ: {len(list_of_files)}\")"
   ]
  },
  {
   "cell_type": "markdown",
   "metadata": {},
   "source": [
    "เรียกดูชื่อ sheet ทั้งหมดในไฟล์ Excel"
   ]
  },
  {
   "cell_type": "code",
   "execution_count": null,
   "metadata": {},
   "outputs": [],
   "source": [
    "first_file = list_of_files[0]\n",
    "sheet_names = pd.ExcelFile(first_file).sheet_names\n",
    "sheet_names\n"
   ]
  },
  {
   "cell_type": "markdown",
   "metadata": {},
   "source": [
    "Check data: ข้อมูลที่อ่านเข้ามาแล้ว เป็นอย่างไร ก่อนที่จะอ่านไฟล์์ทั้งหมด\n"
   ]
  },
  {
   "cell_type": "code",
   "execution_count": null,
   "metadata": {},
   "outputs": [],
   "source": [
    "df_1 = pd.read_excel(first_file, sheet_name=sheet_names[0])\n",
    "df_1.head(10)"
   ]
  },
  {
   "cell_type": "code",
   "execution_count": null,
   "metadata": {},
   "outputs": [],
   "source": [
    "# จะเห็นได้ว่า df_1 มี header อยู่ที่แถวที่ 2\n",
    "df_1 = pd.read_excel(first_file, sheet_name=sheet_names[0], header=2)\n",
    "df_1.head(10)"
   ]
  },
  {
   "cell_type": "code",
   "execution_count": null,
   "metadata": {},
   "outputs": [],
   "source": [
    "%%time\n",
    "# รวมไฟล์ทั้งหมดเข้า DataFrame เดียว\n",
    "dfs = []\n",
    "for file in list_of_files:\n",
    "    df_temp = pd.read_excel(file, sheet_name=sheet_names[0], header=2)\n",
    "    dfs.append(df_temp)\n",
    "\n",
    "df_all = pd.concat(dfs, ignore_index=True)\n"
   ]
  },
  {
   "cell_type": "markdown",
   "metadata": {},
   "source": [
    "ใช้ Try-Except เพื่อจัดการกับข้อผิดพลาดที่อาจเกิดขึ้น ขณะอ่านไฟล์"
   ]
  },
  {
   "cell_type": "code",
   "execution_count": null,
   "metadata": {},
   "outputs": [],
   "source": [
    "%%time\n",
    "\n",
    "dfs = []\n",
    "for file in list_of_files:\n",
    "    try:\n",
    "        df_temp = pd.read_excel(file, sheet_name=sheet_names[0], header=2)\n",
    "        dfs.append(df_temp)\n",
    "    except Exception as e:\n",
    "        print(f\"❌ Error reading {file}: {e}\")\n",
    "\n",
    "df_all = pd.concat(dfs, ignore_index=True)"
   ]
  },
  {
   "cell_type": "code",
   "execution_count": null,
   "metadata": {},
   "outputs": [],
   "source": [
    "df_all.shape"
   ]
  },
  {
   "cell_type": "code",
   "execution_count": null,
   "metadata": {},
   "outputs": [],
   "source": [
    "df_all.columns"
   ]
  },
  {
   "cell_type": "code",
   "execution_count": null,
   "metadata": {},
   "outputs": [],
   "source": [
    "df_all.info()"
   ]
  },
  {
   "cell_type": "code",
   "execution_count": null,
   "metadata": {},
   "outputs": [],
   "source": [
    "# เปลี่ยนชื่อคอลัมน์ของ df_all ให้อยู่ในรูปแบบ sneak case และสอดคล้องกันมากขึ้น\n",
    "df_all.columns = (\n",
    "    df_all.columns\n",
    "    .str.strip()\n",
    "    .str.replace(r\"[ \\n]+\", \"_\", regex=True)\n",
    "    .str.replace(r\"[().]\", \"\", regex=True)\n",
    "    .str.lower()\n",
    ")"
   ]
  },
  {
   "cell_type": "code",
   "execution_count": null,
   "metadata": {},
   "outputs": [],
   "source": [
    "df_all.info()"
   ]
  },
  {
   "cell_type": "code",
   "execution_count": null,
   "metadata": {},
   "outputs": [],
   "source": [
    "df_all.to_csv('../output/volta_transaction.csv', index=False)"
   ]
  }
 ],
 "metadata": {
  "colab": {
   "collapsed_sections": [],
   "name": "lab1_python_basic.ipynb",
   "provenance": [],
   "toc_visible": true
  },
  "kernelspec": {
   "display_name": ".venv",
   "language": "python",
   "name": "python3"
  },
  "language_info": {
   "codemirror_mode": {
    "name": "ipython",
    "version": 3
   },
   "file_extension": ".py",
   "mimetype": "text/x-python",
   "name": "python",
   "nbconvert_exporter": "python",
   "pygments_lexer": "ipython3",
   "version": "3.12.9"
  },
  "toc": {
   "base_numbering": 1,
   "nav_menu": {},
   "number_sections": true,
   "sideBar": true,
   "skip_h1_title": false,
   "title_cell": "Table of Contents",
   "title_sidebar": "Contents",
   "toc_cell": false,
   "toc_position": {
    "height": "calc(100% - 180px)",
    "left": "10px",
    "top": "150px",
    "width": "345.6px"
   },
   "toc_section_display": true,
   "toc_window_display": true
  },
  "varInspector": {
   "cols": {
    "lenName": 16,
    "lenType": 16,
    "lenVar": 40
   },
   "kernels_config": {
    "python": {
     "delete_cmd_postfix": "",
     "delete_cmd_prefix": "del ",
     "library": "var_list.py",
     "varRefreshCmd": "print(var_dic_list())"
    },
    "r": {
     "delete_cmd_postfix": ") ",
     "delete_cmd_prefix": "rm(",
     "library": "var_list.r",
     "varRefreshCmd": "cat(var_dic_list()) "
    }
   },
   "types_to_exclude": [
    "module",
    "function",
    "builtin_function_or_method",
    "instance",
    "_Feature"
   ],
   "window_display": false
  }
 },
 "nbformat": 4,
 "nbformat_minor": 0
}
