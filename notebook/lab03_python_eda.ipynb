{
 "cells": [
  {
   "cell_type": "markdown",
   "metadata": {
    "id": "lEYcDPKQAPrP"
   },
   "source": [
    "# Python: Lab 2 สำรวจข้อมูลเบื้องต้น (Exploratory Data Analysis)\n",
    "\n"
   ]
  },
  {
   "cell_type": "markdown",
   "metadata": {
    "id": "KmAbXCA8_ovp"
   },
   "source": [
    "การทำ Exploratory Data Analysis (EDA) หรือกระบวนการตรวจสอบ สำรวจข้อมูลเบื้องต้น จะช่วยให้สามารถเห็นภาพรวมการกระจายของข้อมูลที่กำลังจะทำการวิเคราะห์ \n",
    "\n",
    "ใน Lab นี้ จะทำการสอน EDA ด้วย Library ที่ชื่อว่า Seaborn \n",
    "\n",
    "\n"
   ]
  },
  {
   "cell_type": "markdown",
   "metadata": {
    "id": "GoYzs0wHAZ6o"
   },
   "source": [
    "## Seaborn คืออะไร "
   ]
  },
  {
   "cell_type": "markdown",
   "metadata": {
    "id": "uYvqKEYjBAwx"
   },
   "source": [
    "[Seaborn](https://seaborn.pydata.org/introduction.html) คือ Library ที่ช่วยในการแสดงข้อมูลทางสถิติ ซึ่งเป็น Library ในภาษา Python ยอดนิยมสำหรับการทำ EDA\n",
    "\n",
    "โดยมีการทำงานบนพื้นฐานของ [Matplotlib](https://matplotlib.org/) และมีอินเทอร์เฟซระดับสูงสำหรับการวาดภาพกราฟฟิกทางสถิติ\n",
    "\n",
    "\n"
   ]
  },
  {
   "cell_type": "markdown",
   "metadata": {
    "id": "HbJa4Chf3tCX"
   },
   "source": [
    "### การติดตั้ง\n",
    "\n",
    "การติดตั้ง Library Seaborn ควบคู่กับ Matplotlib สามารถทำได้โดยการคำสั่งดังต่อไปนี้"
   ]
  },
  {
   "cell_type": "code",
   "execution_count": null,
   "metadata": {
    "colab": {
     "base_uri": "https://localhost:8080/"
    },
    "executionInfo": {
     "elapsed": 3803,
     "status": "ok",
     "timestamp": 1623814661031,
     "user": {
      "displayName": "Tae Jt",
      "photoUrl": "",
      "userId": "15717801353048019289"
     },
     "user_tz": -420
    },
    "id": "5Vgh_CCO3qRE",
    "outputId": "4555c3f2-dd1e-4189-e284-c7911d770056"
   },
   "outputs": [],
   "source": [
    "!pip install matplotlib seaborn"
   ]
  },
  {
   "cell_type": "markdown",
   "metadata": {
    "id": "pDBnSbGq3znn"
   },
   "source": [
    "### การเข้าถึงการใช้งาน\n",
    "การเข้าถึงการใช้งาน Library ของ Seaborn และ Matplotlib ด้วยการ `import`"
   ]
  },
  {
   "cell_type": "code",
   "execution_count": null,
   "metadata": {
    "executionInfo": {
     "elapsed": 896,
     "status": "ok",
     "timestamp": 1623815006681,
     "user": {
      "displayName": "Tae Jt",
      "photoUrl": "",
      "userId": "15717801353048019289"
     },
     "user_tz": -420
    },
    "id": "rAGyL6Tx32hS"
   },
   "outputs": [],
   "source": [
    "import seaborn as sns\n",
    "import matplotlib.pyplot as plt"
   ]
  },
  {
   "cell_type": "markdown",
   "metadata": {
    "id": "k3yx7xVx36ri"
   },
   "source": [
    "`as` คือการเปลี่ยนชื่อ Library ที่โหลดเข้ามา โดยจะทำให้เวลาเรียกใช้ Seaborn สามารถเรียกใช้โดยการเรียก `sns` ก็เพียงพอ"
   ]
  },
  {
   "cell_type": "markdown",
   "metadata": {
    "id": "vVtSNGOmIdVU"
   },
   "source": [
    "### นำเข้า Library อื่น ๆ ด้วยการ import"
   ]
  },
  {
   "cell_type": "code",
   "execution_count": null,
   "metadata": {
    "executionInfo": {
     "elapsed": 2,
     "status": "ok",
     "timestamp": 1623815008835,
     "user": {
      "displayName": "Tae Jt",
      "photoUrl": "",
      "userId": "15717801353048019289"
     },
     "user_tz": -420
    },
    "id": "TZtMimvHIg7M"
   },
   "outputs": [],
   "source": [
    "import pandas as pd\n",
    "import numpy as np\n",
    "\n",
    "# สองบรรทัดด้านล่างเพื่อให้การแสดงผลไม่มี Warning\n",
    "import warnings\n",
    "warnings.filterwarnings('ignore')"
   ]
  },
  {
   "cell_type": "markdown",
   "metadata": {
    "id": "hNictIMcBEil"
   },
   "source": [
    "## ดาวน์โหลดข้อมูลและอ่านข้อมูลด้วย Pandas"
   ]
  },
  {
   "cell_type": "markdown",
   "metadata": {
    "id": "7RmopCmMBmyZ"
   },
   "source": [
    "สำหรับ Lab นี้ เราจะใช้ข้อมูลราคาค่าโดยสารจากบริการเรียกรถประเภทหนึ่ง (ride-hailing service) ซึ่งถูกรวบรวมไว้ในชุดข้อมูล Dynamic Pricing Dataset จาก Kaggle โดยข้อมูลจำลองนี้สะท้อนสถานการณ์จริงในการกำหนดราคาค่าโดยสารที่เปลี่ยนแปลงไปตามเงื่อนไขต่าง ๆ เช่น จำนวนผู้โดยสาร ความต้องการในช่วงเวลาใดเวลาหนึ่ง ประเภทของยานพาหนะ และสถานที่ให้บริการ\n",
    "\n",
    "ที่มาของข้อมูล: [Dynamic Pricing Dataset - Maximize revenue and profitability by dynamic pricing](https://www.kaggle.com/datasets/arashnic/dynamic-pricing-dataset)\n",
    "\n",
    "โดยใน Lab นี้ ข้อมูลจะถูกเตรียมไว้ให้ที่ Folder `data` ที่ไฟล์ `dynamic_pricing.csv`\n",
    "![Dynamic Pricing](../images/dynamic-pricing-machine-learning-strategies-examples.png)\n"
   ]
  },
  {
   "cell_type": "markdown",
   "metadata": {
    "id": "zRpPAJEDALqk"
   },
   "source": [
    "### นำเข้าข้อมูล"
   ]
  },
  {
   "cell_type": "markdown",
   "metadata": {
    "id": "kDZ7jLfU6RXU"
   },
   "source": [
    "เริ่มจากการโหลดข้อมูล `.csv` ผ่าน Library Pandas"
   ]
  },
  {
   "cell_type": "code",
   "execution_count": null,
   "metadata": {
    "executionInfo": {
     "elapsed": 353,
     "status": "ok",
     "timestamp": 1623815127660,
     "user": {
      "displayName": "Tae Jt",
      "photoUrl": "",
      "userId": "15717801353048019289"
     },
     "user_tz": -420
    },
    "id": "lSe3RikiDYKA"
   },
   "outputs": [],
   "source": [
    "df = pd.read_csv('../data/dynamic_pricing.csv')"
   ]
  },
  {
   "cell_type": "code",
   "execution_count": null,
   "metadata": {
    "colab": {
     "base_uri": "https://localhost:8080/",
     "height": 252
    },
    "executionInfo": {
     "elapsed": 384,
     "status": "ok",
     "timestamp": 1623815130684,
     "user": {
      "displayName": "Tae Jt",
      "photoUrl": "",
      "userId": "15717801353048019289"
     },
     "user_tz": -420
    },
    "id": "UwRzQ5Z3IrDT",
    "outputId": "3b03a2c2-25f1-4942-e57e-d5262153c090"
   },
   "outputs": [],
   "source": [
    "df.head()"
   ]
  },
  {
   "cell_type": "markdown",
   "metadata": {
    "id": "EtF1462PI9le"
   },
   "source": [
    "ลำดับถัดไป คือ การดูรายละเอียดของแต่ละคอลัมม์ได้ที่ ไฟล์ `data_description.txt` ด้วยคำสั่งการอ่าน text file ดังนี้"
   ]
  },
  {
   "cell_type": "code",
   "execution_count": null,
   "metadata": {
    "colab": {
     "base_uri": "https://localhost:8080/"
    },
    "executionInfo": {
     "elapsed": 393,
     "status": "ok",
     "timestamp": 1623815252662,
     "user": {
      "displayName": "Tae Jt",
      "photoUrl": "",
      "userId": "15717801353048019289"
     },
     "user_tz": -420
    },
    "id": "M_hT1C2hJQXB",
    "outputId": "f1c9e6ea-607f-4876-905f-ad7d21a6e074"
   },
   "outputs": [],
   "source": [
    "with open('../data/data_description.txt', 'r') as text:\n",
    "    data_description = text.read()\n",
    "    print(data_description)"
   ]
  },
  {
   "cell_type": "markdown",
   "metadata": {
    "id": "MRx7FW7aUMYC"
   },
   "source": [
    "## การสำรวจและวิเคราะห์ข้อมูลเบื้องต้น\n",
    "### ทำไมต้องทำ EDA ในงาน Dynamic Pricing?\n",
    "ในการบริหารธุรกิจบริการเรียกรถ เราต้องเข้าใจว่า \"ราคา\" ที่ลูกค้าเห็นถูกกำหนดจากอะไร เช่น:\n",
    "- จำนวนผู้โดยสารเยอะ ทำให้ราคาสูงขึ้นหรือไม่?\n",
    "- ประเภทของรถมีผลต่อราคาไหม?\n",
    "- ช่วงเวลาการจอง เช่น ดึก/เย็น ทำให้ราคาสูงขึ้นหรือไม่?\n",
    "\n",
    "EDA ช่วยให้เราเข้าใจแนวโน้มเหล่านี้ เพื่อเตรียมข้อมูลไปสร้างโมเดล Dynamic Pricing"
   ]
  },
  {
   "cell_type": "markdown",
   "metadata": {
    "id": "l9KvY9pUUSXt"
   },
   "source": [
    "สำหรับการวิเคราะห์ จะประกอบด้วยขั้นตอนดังนี้\n",
    "\n",
    "\n",
    "\n",
    "1.   การวิเคราะห์ข้อมูลแบบตัวแปรเดียว (Univariate Data Analysis) โดยให้ความสนใจเฉพาะคอลัมม์ Historical_Cost_of_Ride หรือราคาค่าโดยสารที่เคยเรียกเก็บในอดีต ซึ่งเป็นตัวแปรตามในข้อมูลนี้\n",
    "2.   การวิเคราะห์พหุตัวแปร (Multivariate Analysis) เพื่อดูความสัมพันธ์ระหว่าง Historical_Cost_of_Ride และปัจจัยอื่นๆ\n",
    "3.   ทำการวิเคราะห์ missing df "
   ]
  },
  {
   "cell_type": "markdown",
   "metadata": {},
   "source": [
    "---\n",
    "### Basic Info"
   ]
  },
  {
   "cell_type": "code",
   "execution_count": null,
   "metadata": {
    "colab": {
     "base_uri": "https://localhost:8080/"
    },
    "executionInfo": {
     "elapsed": 381,
     "status": "ok",
     "timestamp": 1623815330355,
     "user": {
      "displayName": "Tae Jt",
      "photoUrl": "",
      "userId": "15717801353048019289"
     },
     "user_tz": -420
    },
    "id": "-JGkbUayV41p",
    "outputId": "443394b7-5777-4d36-a554-3af7bb5396e4"
   },
   "outputs": [],
   "source": [
    "# ดูชื่อของคอลัมม์ทั้งหมดของข้อมูล\n",
    "df.columns"
   ]
  },
  {
   "cell_type": "code",
   "execution_count": null,
   "metadata": {
    "colab": {
     "base_uri": "https://localhost:8080/"
    },
    "executionInfo": {
     "elapsed": 338,
     "status": "ok",
     "timestamp": 1623815353192,
     "user": {
      "displayName": "Tae Jt",
      "photoUrl": "",
      "userId": "15717801353048019289"
     },
     "user_tz": -420
    },
    "id": "XQnYbrgd76SY",
    "outputId": "b494ab3c-083c-41cd-e53b-8635cd5e8dc4"
   },
   "outputs": [],
   "source": [
    "# ดูจำนวนแถวและคอลัมน์ของข้อมูล\n",
    "df.shape"
   ]
  },
  {
   "cell_type": "code",
   "execution_count": null,
   "metadata": {},
   "outputs": [],
   "source": [
    "# ดูคอลัมน์และประเภทข้อมูลของแต่ละคอลัมน์\n",
    "# df.info() # ดูข้อมูลทั้งหมด\n",
    "df.info(show_counts=True) #จะแสดงจำนวนข้อมูล (non-null) ต่อคอลัมน์ แม้ว่าจะไม่มี missing value"
   ]
  },
  {
   "cell_type": "markdown",
   "metadata": {
    "id": "_DRXM4u-Vqx0"
   },
   "source": [
    "### 1. การวิเคราะห์ข้อมูลแบบตัวแปรเดียว (Univariate Data Analysis) สำหรับ Historical_Cost_of_Ride"
   ]
  },
  {
   "cell_type": "markdown",
   "metadata": {
    "id": "3jZdtj7hXWnc"
   },
   "source": [
    "เนื่องจาก Historical_Cost_of_Ride หรือราคาค่าโดยสารที่เคยเรียกเก็บในอดีต คือเป้าหมายสำหรับการวิเคราะห์ จึงทำการวิเคราะห์คุณลักษณะและข้อมูลเชิงสถิติของตัวแปรนี้เป็นอันดับแรก"
   ]
  },
  {
   "cell_type": "code",
   "execution_count": null,
   "metadata": {},
   "outputs": [],
   "source": [
    "# แสดงสถิติพื้นฐานของข้อมูลทั้งหมดใน DataFrame\n",
    "df.describe()"
   ]
  },
  {
   "cell_type": "code",
   "execution_count": null,
   "metadata": {
    "colab": {
     "base_uri": "https://localhost:8080/",
     "height": 1000
    },
    "executionInfo": {
     "elapsed": 376,
     "status": "ok",
     "timestamp": 1623815472061,
     "user": {
      "displayName": "Tae Jt",
      "photoUrl": "",
      "userId": "15717801353048019289"
     },
     "user_tz": -420
    },
    "id": "BwUu_LXD8XLn",
    "outputId": "6aabc8bd-761f-4a5d-be1b-d6043de8ebd4"
   },
   "outputs": [],
   "source": [
    "# แสดงสถิติพื้นฐานของข้อมูลทั้งหมดใน DataFrame (แบบ transpose เพื่อให้อ่านง่ายขึ้น)\n",
    "df.describe().T"
   ]
  },
  {
   "cell_type": "code",
   "execution_count": null,
   "metadata": {
    "colab": {
     "base_uri": "https://localhost:8080/"
    },
    "executionInfo": {
     "elapsed": 325,
     "status": "ok",
     "timestamp": 1623815487969,
     "user": {
      "displayName": "Tae Jt",
      "photoUrl": "",
      "userId": "15717801353048019289"
     },
     "user_tz": -420
    },
    "id": "6op4g-btWh7Y",
    "outputId": "5db8e5b9-3a38-482b-963e-42f95614a616"
   },
   "outputs": [],
   "source": [
    "# ดูข้อมูลสถิติพื้นฐานของ Historical_Cost_of_Ride\n",
    "df['Historical_Cost_of_Ride'].describe()"
   ]
  },
  {
   "cell_type": "code",
   "execution_count": null,
   "metadata": {
    "colab": {
     "base_uri": "https://localhost:8080/",
     "height": 290
    },
    "executionInfo": {
     "elapsed": 1153,
     "status": "ok",
     "timestamp": 1623815514567,
     "user": {
      "displayName": "Tae Jt",
      "photoUrl": "",
      "userId": "15717801353048019289"
     },
     "user_tz": -420
    },
    "id": "tHcRo_NbX5sk",
    "outputId": "e9efe77e-d699-4d37-9975-35303b0b2a33"
   },
   "outputs": [],
   "source": [
    "import matplotlib.pyplot as plt\n",
    "# ดูลักษณะการกระจายตัว หรือ Histogram ของ Historical_Cost_of_Ride \n",
    "fig, axes  = plt.subplots(1,3, figsize=(20, 5))\n",
    "# Histogram\n",
    "sns.histplot(df['Historical_Cost_of_Ride'], alpha=0.5, kde=True, bins=30, ax=axes[0])\n",
    "axes[0].set_xlabel('Historical Cost of Rides')\n",
    "axes[0].set_ylabel('Frequency')\n",
    "axes[0].axvline(df['Historical_Cost_of_Ride'].mean(), color='red', linestyle='dashed', linewidth=1)\n",
    "axes[0].axvline(df['Historical_Cost_of_Ride'].median(), color='blue', linestyle='dashed', linewidth=1)\n",
    "axes[0].set_title('Distribution of Historical Cost of Ride')\n",
    "# Boxplot\n",
    "sns.boxplot(x=df['Historical_Cost_of_Ride'], ax=axes[1], boxprops=dict(alpha=0.5))\n",
    "axes[1].set_xlabel('Historical Cost of Ride')\n",
    "axes[1].set_title('Boxplot of Historical Cost of Ride')\n",
    "# Violinplot\n",
    "sns.violinplot(x=df['Historical_Cost_of_Ride'], ax=axes[2],)\n",
    "axes[2].set_xlabel('Historical Cost of Ride')\n",
    "axes[2].set_title('Violinplot of Historical Cost of Ride')\n",
    "plt.show()"
   ]
  },
  {
   "cell_type": "markdown",
   "metadata": {
    "id": "P1lqmdNPYKZI"
   },
   "source": [
    "## 🔍 การวิเคราะห์ผล \n",
    "1. Histogram + KDE จะเห็นได้ว่า\n",
    "\n",
    "- การกระจายของราคาค่าโดยสารมีลักษณะ เบ้ขวา (Right-skewed) เล็กน้อย\n",
    "- ค่าเฉลี่ย (เส้นประสีแดง) อยู่สูงกว่าค่ามัธยฐาน (เส้นประสีน้ำเงิน) → แสดงว่ามีค่าโดยสารที่สูงผิดปกติ (outliers) อยู่ด้านขวา\n",
    "- ช่วงราคาที่พบมากที่สุดอยู่ระหว่าง 300 – 500 หน่วย\n",
    "\n",
    "2. Boxplot จะเห็นได้ว่า\n",
    "- กล่อง (IQR) อยู่ในช่วงประมาณ 250 – 600\n",
    "- ค่ามัธยฐานอยู่เกือบกึ่งกลาง → ข้อมูลกระจายค่อนข้างสมดุล\n",
    "- ไม่มี outliers แสดงเป็นจุด (ซึ่งอาจถูกตัดทิ้งไว้แล้ว หรือใช้การจัดกลุ่มที่ไม่แสดงจุดพิเศษ)\n",
    "- Boxplot ยืนยันว่าข้อมูลส่วนใหญ่อยู่ในช่วงราคาที่ปกติ\n",
    "\n",
    "3. Violinplot จะเห็นได้ว่า\n",
    "- รูปทรงของ violin แสดงความหนาแน่นของข้อมูลในแต่ละช่วงซึ่งมีความหนาแน่นสูงสุดในช่วงกลาง (ประมาณ 350–500)\n",
    "- มีขนาดที่ยาวในส่วนปลายด้านล่างและบน แสดงว่ามีบางกรณีราคาต่ำมากและสูงมาก\n",
    "- ความหนาแน่นต่ำบริเวณราคาสูงเกิน 700 แต่อาจเป็นช่วงที่สำคัญสำหรับการวิเคราะห์ premium ride"
   ]
  },
  {
   "cell_type": "markdown",
   "metadata": {},
   "source": [
    "## Visualization ด้วย pandas สามารถทำได้ง่าย ๆ"
   ]
  },
  {
   "cell_type": "code",
   "execution_count": null,
   "metadata": {
    "colab": {
     "base_uri": "https://localhost:8080/",
     "height": 282
    },
    "executionInfo": {
     "elapsed": 382,
     "status": "ok",
     "timestamp": 1623815569989,
     "user": {
      "displayName": "Tae Jt",
      "photoUrl": "",
      "userId": "15717801353048019289"
     },
     "user_tz": -420
    },
    "id": "S6yirBzg8sbX",
    "outputId": "5ccb383d-bc62-42d0-ce15-dcc3c1abdab3"
   },
   "outputs": [],
   "source": [
    "df['Historical_Cost_of_Ride'].plot.hist(bins=30, alpha=0.7, edgecolor='black')\n",
    "plt.title('Histogram of Historical Cost of Ride')\n",
    "plt.show()"
   ]
  },
  {
   "cell_type": "markdown",
   "metadata": {},
   "source": [
    "ศึกษาเพิ่มเติมได้ที่ [pandas visualization](https://pandas.pydata.org/pandas-docs/stable/user_guide/visualization.html)"
   ]
  },
  {
   "cell_type": "code",
   "execution_count": null,
   "metadata": {},
   "outputs": [],
   "source": [
    "# List all plot methods available for a pandas DataFrame\n",
    "print([method for method in dir(df.plot) if not method.startswith('_')])"
   ]
  },
  {
   "cell_type": "markdown",
   "metadata": {
    "id": "Xqo3g1mTamNG"
   },
   "source": [
    "### 2. การวิเคราะห์พหุตัวแปร (Multivariate Analysis) เพื่อดูความสัมพันธ์ระหว่าง Historical Cost of Ride และปัจจัยอื่นๆ\n",
    "🧠 ทำไปทำไม?\n",
    "1. เพื่อเข้าใจปัจจัยที่มีอิทธิพลร่วม\n",
    "ตัวแปรหนึ่งอาจไม่มีผลชัดเจนเมื่อดูแยกกัน (univariate หรือ bivariate)\n",
    "แต่เมื่อนำมาวิเคราะห์พร้อมกัน อาจพบ interaction หรือความสัมพันธ์ที่ซ่อนอยู่\n",
    "\n",
    "ตัวอย่าง:\n",
    "\n",
    "จำนวนผู้โดยสารมาก อาจทำให้ราคาสูง → แต่เฉพาะในช่วงเย็น\n",
    "\n",
    "ประเภทรถ Premium ราคาสูง → แต่เฉพาะเมื่อคะแนนรีวิวสูง\n",
    "\n",
    "2. เพื่อเตรียมข้อมูลสำหรับสร้างโมเดล (Modeling)\n",
    "ถ้าเราต้องการทำนาย Historical_Cost_of_Ride ด้วย Machine Learning (เช่น Linear Regression, Random Forest ฯลฯ)\n",
    "เราต้องเข้าใจว่า ตัวแปรใดควรใช้ร่วมกัน และมีความสัมพันธ์อย่างไร\n",
    "\n",
    "3. เพื่อลดการตัดสินใจผิดพลาดจากการดูข้อมูลแบบแยกส่วน\n",
    "Multivariate Analysis ช่วยป้องกันความเข้าใจผิดจากการดูความสัมพันธ์แบบ 1:1 ที่อาจหลอกตาได้\n",
    "\n",
    "เช่น:\n",
    "การดูแค่ Vehicle_Type กับราคา อาจคิดว่า Premium แพงเสมอ\n",
    "แต่ถ้ารวม Duration และ Loyalty_Status อาจพบว่าบางคนได้โปรโมชัน\n",
    "\n",
    "📌 ใช้ในสถานการณ์ใด?\n",
    "|**สถานการณ์**|**ตัวอย่างการวิเคราะห์ Multivariate**|\n",
    "|---|---|\n",
    "|การตั้งราคาขาย (Dynamic Pricing)|ราคาควรขึ้น/ลงตาม Vehicle_Type, Time_of_Booking, Demand, Ratings|\n",
    "|การให้ส่วนลดหรือโปรโมชัน|ลูกค้าเก่าที่เดินทางนานและให้คะแนนดี อาจควรได้ส่วนลด|\n",
    "|การจัดการทรัพยากรคนขับ (Supply)|วิเคราะห์ว่าช่วงไหนที่ควรเพิ่มหรือลดคนขับเพื่อลดต้นทุน|\n",
    "|การทำนายราคาค่าโดยสารในอนาคต|ใช้หลายปัจจัยร่วมกันเพื่อสร้างโมเดลทำนายราคาล่วงหน้า|\n"
   ]
  },
  {
   "cell_type": "markdown",
   "metadata": {
    "id": "nvNg0EEvayMd"
   },
   "source": [
    "#### ดูความสัมพันธ์ระหว่าง Historical Cost of Ride และปัจจัยอื่นที่เป็นตัวเลข (Numerical features)"
   ]
  },
  {
   "cell_type": "code",
   "execution_count": null,
   "metadata": {},
   "outputs": [],
   "source": [
    "# เลือกคอลัมท์ ที่เป็นตัวเลขทั้งหมด\n",
    "numeric_columns = df.select_dtypes(include=['int','float']).columns.tolist()\n",
    "numeric_columns"
   ]
  },
  {
   "cell_type": "code",
   "execution_count": null,
   "metadata": {},
   "outputs": [],
   "source": [
    "# เลือกคอลัมท์ ที่เป็น categorical ทั้งหมด\n",
    "categorical_columns = df.select_dtypes(include=['object']).columns.tolist()\n",
    "categorical_columns"
   ]
  },
  {
   "cell_type": "code",
   "execution_count": null,
   "metadata": {
    "colab": {
     "base_uri": "https://localhost:8080/",
     "height": 300
    },
    "executionInfo": {
     "elapsed": 573,
     "status": "ok",
     "timestamp": 1623815617045,
     "user": {
      "displayName": "Tae Jt",
      "photoUrl": "",
      "userId": "15717801353048019289"
     },
     "user_tz": -420
    },
    "id": "GdrPh23Za8YA",
    "outputId": "202fad27-f4d4-4cbb-fbc5-06dc2151c321"
   },
   "outputs": [],
   "source": [
    "# Scatter plot ระหว่าง Historical_Cost_of_Ride (ราคาค่าโดยสารที่เคยเรียกเก็บในอดีต) และ Expected_Ride_Duration (พืระยะเวลาการเดินทางที่คาดไว้)\n",
    "sns.scatterplot(data=df, x='Expected_Ride_Duration', y='Historical_Cost_of_Ride')\n",
    "plt.title('Scatter plot of Expected Ride Duration vs Historical Cost of Ride')\n",
    "plt.xlabel('Expected Ride Duration')\n",
    "plt.ylabel('Historical Cost of Ride')\n",
    "plt.show()\n"
   ]
  },
  {
   "cell_type": "code",
   "execution_count": null,
   "metadata": {},
   "outputs": [],
   "source": [
    "# สร้าง scatter plot ระหว่าง Historical_Cost_of_Ride (ราคาค่าโดยสารที่เคยเรียกเก็บในอดีต) และ Expected_Ride_Duration (ระยะเวลาการเดินทางที่คาดไว้)\n",
    "# พร้อมแยกสีตาม Vehicle_Type (ประเภทการเดินทาง) และแสดงเส้นแนวโน้ม (trend line) สำหรับแต่ละประเภท\n",
    "sns.lmplot(data=df, x='Expected_Ride_Duration', y='Historical_Cost_of_Ride', hue='Vehicle_Type',scatter_kws={'alpha':0.3}, line_kws={'alpha':0.9})\n",
    "plt.title('Scatter plot of Expected Ride Duration vs Historical Cost of Ride with trend line')\n",
    "plt.xlabel('ระยะเวลาการเดินทางที่คาดไว้')\n",
    "plt.ylabel('ราคาค่าโดยสารที่เคยเรียกเก็บในอดีต')\n",
    "plt.show()"
   ]
  },
  {
   "cell_type": "code",
   "execution_count": null,
   "metadata": {},
   "outputs": [],
   "source": [
    "# แสดงรายชื่อฟอนต์ทั้งหมดที่ติดตั้งในระบบ\n",
    "from matplotlib import font_manager\n",
    "print([f.name for f in font_manager.fontManager.ttflist])"
   ]
  },
  {
   "cell_type": "code",
   "execution_count": null,
   "metadata": {},
   "outputs": [],
   "source": [
    "import matplotlib.pyplot as plt\n",
    "import matplotlib\n",
    "\n",
    "# 1. โหลดฟอนต์ภาษาไทย เช่น 'Sarabun', 'TH Sarabun New'\n",
    "matplotlib.rcParams['font.family'] = 'Sarabun'  # หรือใช้ 'TH Sarabun New'\n",
    "# 2. วาดกราฟ\n",
    "fig, axes  = plt.subplots(1,2, figsize=(20, 5))\n",
    "\n",
    "# ใช้ scatterplot เพื่อแสดง hue และ regplot สำหรับเส้น regression\n",
    "sns.scatterplot(ax=axes[0], data=df, x='Expected_Ride_Duration', y='Historical_Cost_of_Ride', hue='Vehicle_Type', alpha=0.5)\n",
    "# Draw regression line for each Vehicle_Type\n",
    "for vtype, color in zip(df['Vehicle_Type'].unique(), sns.color_palette()):\n",
    "\tsns.regplot(\n",
    "\t\tax=axes[0],\n",
    "\t\tdata=df[df['Vehicle_Type'] == vtype],\n",
    "\t\tx='Expected_Ride_Duration',\n",
    "\t\ty='Historical_Cost_of_Ride',\n",
    "\t\tscatter=False,\n",
    "\t\tcolor=color,\n",
    "\t\tlabel=f\"Trend: {vtype}\"\n",
    "\t)\n",
    "axes[0].set_title('ความสัมพันธ์ระหว่างระยะเวลาเดินทางที่คาดไว้ กับ ราคาค่าโดยสารในอดีต', fontsize=14)\n",
    "axes[0].set_xlabel('ระยะเวลาเดินทางที่คาดไว้ (นาที)')\n",
    "axes[0].set_ylabel('ราคาค่าโดยสารในอดีต')\n",
    "\n",
    "# Boxplot\n",
    "sns.boxplot(ax=axes[1], data=df, x='Vehicle_Type', y='Historical_Cost_of_Ride', hue='Vehicle_Type')\n",
    "axes[1].set_title('ราคาค่าโดยสารในอดีต ตามประเภทการเดินทาง', fontsize=14)\n",
    "axes[1].set_xlabel('ประเภทการเดินทาง')\n",
    "axes[1].set_ylabel('ราคาค่าโดยสารในอดีต')\n",
    "plt.show()\n"
   ]
  },
  {
   "cell_type": "markdown",
   "metadata": {
    "id": "dtJSO7_fcXHe"
   },
   "source": [
    "🤔 จะเห็นได้ว่า Expected_Ride_Duration มีความสัมพันธ์เชิงเส้นกับ Historical_Cost_of_Ride\n",
    "หมายความว่า ยิ่งระยะเวลาเดินทางที่คาดไว้มีค่าสูง ราคาค่าโดยสารในอดีตก็มีแนวโน้มเพิ่มสูงขึ้นตามไปด้วย ซึ่งสอดคล้องกับหลักการคิดราคาของบริการเรียกรถที่มักกำหนดราคาตามระยะทางหรือระยะเวลาเดินทาง นอกจากนี้ ยังสามารถสังเกตได้ว่า ประเภทรถ (Vehicle_Type) มีผลต่อระดับราคาด้วย โดยรถประเภท Premium มีราคาสูงกว่า Economy อย่างชัดเจนแม้จะอยู่ในช่วงเวลาเดินทางเดียวกัน"
   ]
  },
  {
   "cell_type": "code",
   "execution_count": null,
   "metadata": {
    "colab": {
     "base_uri": "https://localhost:8080/",
     "height": 300
    },
    "executionInfo": {
     "elapsed": 474,
     "status": "ok",
     "timestamp": 1623815661516,
     "user": {
      "displayName": "Tae Jt",
      "photoUrl": "",
      "userId": "15717801353048019289"
     },
     "user_tz": -420
    },
    "id": "HxIM0Vayb-CY",
    "outputId": "cc426143-2c14-4618-f615-4b91d3703cee"
   },
   "outputs": [],
   "source": [
    "# สร้างกราฟ scatter plot เพื่อดูความสัมพันธ์ระหว่างจำนวนผู้โดยสารกับราคาค่าโดยสารในอดีต\n",
    "sns.scatterplot(data=df, x='Number_of_Riders', y='Historical_Cost_of_Ride')\n",
    "plt.title('Scatter plot of Number of Riders vs Historical Cost of Ride')\n",
    "plt.xlabel('Number of Riders')\n",
    "plt.ylabel('Historical Cost of Ride')\n",
    "plt.show()"
   ]
  },
  {
   "cell_type": "markdown",
   "metadata": {
    "id": "jPp7mN_1dwFs"
   },
   "source": [
    "🔍 วิเคราะห์\n",
    "- การกระจายของจุดแสดงว่า ไม่มีแนวโน้มความสัมพันธ์เชิงเส้นชัดเจน ระหว่างจำนวนผู้โดยสารกับราคาค่าโดยสาร\n",
    "- ราคาค่าโดยสารมีค่ากระจายกว้างตั้งแต่ ประมาณ 0 ถึง 800+ หน่วย โดยไม่มีแนวโน้มเพิ่มขึ้นชัดเจนตามจำนวนผู้โดยสารโดยตรง (demand)"
   ]
  },
  {
   "cell_type": "code",
   "execution_count": null,
   "metadata": {},
   "outputs": [],
   "source": [
    "# สร้างกราฟ scatter plot เพื่อดูความสัมพันธ์ระหว่างจำนวนคนขับกับราคาค่าโดยสารในอดีต\n",
    "sns.scatterplot(data=df, x='Number_of_Drivers', y='Historical_Cost_of_Ride')\n",
    "plt.title('Scatter plot of Number of Drivers vs Historical Cost of Ride')\n",
    "plt.xlabel('Number of Drivers')\n",
    "plt.ylabel('Historical Cost of Ride')\n",
    "plt.show()"
   ]
  },
  {
   "cell_type": "markdown",
   "metadata": {},
   "source": [
    "🔍 วิเคราะห์\n",
    "- จุดส่วนใหญ่กระจุกอยู่ในช่วง จำนวนคนขับระหว่าง 5 – 30 คน"
   ]
  },
  {
   "cell_type": "code",
   "execution_count": null,
   "metadata": {},
   "outputs": [],
   "source": [
    "sns.kdeplot(\n",
    "    data=df,\n",
    "    x='Number_of_Drivers',\n",
    "    y='Historical_Cost_of_Ride',\n",
    "    fill=True,\n",
    "    cmap='viridis',\n",
    "    thresh=0.05,\n",
    "    cbar=True\n",
    ")\n",
    "plt.title('KDE plot of Number of Drivers vs Historical Cost of Ride')\n",
    "plt.xlabel('Number of Drivers')\n",
    "plt.ylabel('Historical Cost of Ride')\n",
    "plt.show()"
   ]
  },
  {
   "cell_type": "markdown",
   "metadata": {},
   "source": [
    "🔍 Marginal Plot\n",
    "📌 จุดประสงค์ของ Marginal Plot:\n",
    "- แสดงการกระจาย (distribution) ของแต่ละตัวแปร แยกตามแกน เช่น:\n",
    "        - Boxplot หรือ Histogram ของ Number_of_Drivers ด้านบน (แกน X)\n",
    "        - Boxplot หรือ KDE ของ Historical_Cost_of_Ride ด้านข้าง (แกน Y)\n",
    "- ช่วยให้เข้าใจโครงสร้างของข้อมูลมากขึ้นนอกเหนือจากความสัมพันธ์ระหว่างกัน"
   ]
  },
  {
   "cell_type": "code",
   "execution_count": null,
   "metadata": {},
   "outputs": [],
   "source": [
    "import matplotlib.gridspec as gridspec\n",
    "\n",
    "# สร้าง layout\n",
    "fig = plt.figure(figsize=(8, 8))\n",
    "gs = gridspec.GridSpec(4, 4)\n",
    "\n",
    "# KDE plot (ตรงกลาง)\n",
    "ax_main = fig.add_subplot(gs[1:4, 0:3])\n",
    "sns.kdeplot(\n",
    "    data=df,\n",
    "    x='Number_of_Drivers',\n",
    "    y='Historical_Cost_of_Ride',\n",
    "    fill=True,\n",
    "    cmap='viridis',\n",
    "    thresh=0.05,\n",
    "    ax=ax_main\n",
    ")\n",
    "ax_main.set_xlabel(\"Number of Drivers\")\n",
    "ax_main.set_ylabel(\"Historical Cost of Ride\")\n",
    "ax_main.set_title(\"KDE with Marginal Boxplots\")\n",
    "\n",
    "# Boxplot ด้านบน (แกน X)\n",
    "ax_x = fig.add_subplot(gs[0, 0:3], sharex=ax_main)\n",
    "sns.boxplot(\n",
    "    data=df,\n",
    "    x='Number_of_Drivers',\n",
    "    ax=ax_x\n",
    ")\n",
    "ax_x.set_ylabel(\"\")\n",
    "ax_x.set_xlabel(\"\")\n",
    "ax_x.tick_params(axis=\"x\", labelbottom=False)\n",
    "\n",
    "# Boxplot ด้านขวา (แกน Y)\n",
    "ax_y = fig.add_subplot(gs[1:4, 3], sharey=ax_main)\n",
    "sns.boxplot(\n",
    "    data=df,\n",
    "    y='Historical_Cost_of_Ride',\n",
    "    ax=ax_y,\n",
    "    orient=\"h\"\n",
    ")\n",
    "ax_y.set_ylabel(\"\")\n",
    "ax_y.set_xlabel(\"\")\n",
    "ax_y.tick_params(axis=\"y\", labelleft=False)\n",
    "\n",
    "plt.tight_layout()\n",
    "plt.show()\n"
   ]
  },
  {
   "cell_type": "code",
   "execution_count": null,
   "metadata": {},
   "outputs": [],
   "source": [
    "# KDE + Marginal Histogram\n",
    "\n",
    "# สร้าง layout\n",
    "fig = plt.figure(figsize=(8, 8))\n",
    "gs = gridspec.GridSpec(4, 4)\n",
    "\n",
    "# KDE Plot ตรงกลาง\n",
    "ax_main = fig.add_subplot(gs[1:4, 0:3])\n",
    "sns.kdeplot(\n",
    "    data=df,\n",
    "    x='Number_of_Drivers',\n",
    "    y='Historical_Cost_of_Ride',\n",
    "    fill=True,\n",
    "    cmap='viridis',\n",
    "    thresh=0.05,\n",
    "    ax=ax_main\n",
    ")\n",
    "ax_main.set_xlabel(\"Number of Drivers\")\n",
    "ax_main.set_ylabel(\"Historical Cost of Ride\")\n",
    "ax_main.set_title(\"KDE Plot with Marginal Histograms\")\n",
    "\n",
    "# Histogram ด้านบน (สำหรับแกน X)\n",
    "ax_x = fig.add_subplot(gs[0, 0:3], sharex=ax_main)\n",
    "sns.histplot(\n",
    "    data=df,\n",
    "    x='Number_of_Drivers',\n",
    "    bins=30,\n",
    "    kde=False,\n",
    "    color='skyblue',\n",
    "    ax=ax_x\n",
    ")\n",
    "ax_x.set_ylabel(\"\")\n",
    "ax_x.set_xlabel(\"\")\n",
    "ax_x.tick_params(axis=\"x\", labelbottom=False)\n",
    "\n",
    "# Histogram ด้านขวา (สำหรับแกน Y)\n",
    "ax_y = fig.add_subplot(gs[1:4, 3], sharey=ax_main)\n",
    "sns.histplot(\n",
    "    data=df,\n",
    "    y='Historical_Cost_of_Ride',\n",
    "    bins=30,\n",
    "    kde=False,\n",
    "    color='skyblue',\n",
    "    ax=ax_y\n",
    ")\n",
    "ax_y.set_xlabel(\"\")\n",
    "ax_y.set_ylabel(\"\")\n",
    "ax_y.tick_params(axis=\"y\", labelleft=False)\n",
    "\n",
    "plt.tight_layout()\n",
    "plt.show()\n"
   ]
  },
  {
   "cell_type": "code",
   "execution_count": null,
   "metadata": {},
   "outputs": [],
   "source": [
    "sns.jointplot(\n",
    "    data=df,\n",
    "    x='Number_of_Drivers',\n",
    "    y='Historical_Cost_of_Ride',\n",
    "    cmap='viridis',\n",
    "    kind='hex',              # หรือ 'scatter', 'hex'\n",
    "    marginal_kws=dict(fill=True),\n",
    "    color='skyblue'\n",
    ")"
   ]
  },
  {
   "cell_type": "markdown",
   "metadata": {},
   "source": [
    "🔍 วิเคราะห์\n",
    "1. ศูนย์กลางความหนาแน่นสูงสุด:\n",
    "    - อยู่ที่ช่วง จำนวนคนขับประมาณ 10–25 คน\n",
    "    - และราคาค่าโดยสารประมาณ 300–500 หน่วย\n",
    "    - แสดงว่า “สถานการณ์ปกติ” มักจะเกิดในช่วงคนขับระดับนี้ และราคากลางถึงสูง\n",
    "\n",
    "2. พื้นที่ความหนาแน่นต่ำ (สีน้ำเงิน–ม่วง):\n",
    "   - พบมากขึ้นเมื่อจำนวนคนขับเกิน 50 คน\n",
    "   - และเมื่อราคาสูงเกิน 600 หน่วย หรือ ต่ำกว่า 100 หน่วย\n",
    "   - แสดงว่าเป็นสถานการณ์ที่พบไม่บ่อย อาจเป็นช่วง peak hour หรือมี demand/supply ผิดปกติ\n",
    "\n",
    "3. แนวโน้มโดยรวม:\n",
    "   - ความหนาแน่นไม่ได้เรียงในแนวเส้นตรง → ไม่มีความสัมพันธ์เชิงเส้นชัดเจน\n",
    "   - แต่มีการกระจุกตัวที่น่าสนใจ ซึ่งอาจสะท้อนพฤติกรรมตลาดหรือการตั้งราคาแบบ dynamic"
   ]
  },
  {
   "cell_type": "markdown",
   "metadata": {
    "id": "Ub2VxFOZgC_d"
   },
   "source": [
    "#### ดูความสัมพันธ์ระหว่าง Historical_Cost_of_Ride และปัจจัยอื่นที่เป็นหมวดหมู่ (Categorical features)\n",
    "\n",
    "🧠 ทำไปทำไม?\n",
    "1. เพื่อดู “แนวโน้มราคา” แยกตามหมวดหมู่\n",
    "ช่วยให้เห็นว่าแต่ละกลุ่ม (category) ส่งผลต่อราคาค่าโดยสารอย่างไร เช่น:\n",
    "- รถ Premium มีราคาสูงกว่า Economy จริงไหม?\n",
    "- ลูกค้า Silver จ่ายแพงกว่ากลุ่ม Regular หรือไม่?\n",
    "- พื้นที่ Urban มีราคาสูงกว่าชนบทหรือไม่?\n",
    "  \n",
    "2. เพื่อระบุ “feature ที่สำคัญ” สำหรับโมเดล\n",
    "- ถ้าค่าราคาแตกต่างกันมากในแต่ละกลุ่ม นั่นแปลว่า feature นั้น มีผลจริง ต่อราคา → ควรนำไปใช้ในโมเดลทำนาย (เช่น Dynamic Pricing)\n",
    "\n",
    "3. เพื่อหาความผิดปกติ / Outlier เฉพาะกลุ่ม\n",
    "Boxplot แสดง Outliers ได้ดี → ช่วยให้เห็นว่ามีกลุ่มไหนราคาผิดปกติหรือสูงมากกว่าปกติ เช่น:\n",
    "- Economy แต่มีราคาสูงผิดปกติ\n",
    "- Suburban ที่ควรราคาถูก แต่กลับมีราคาสูงมากในบางเคส\n",
    "\n",
    "📊 ใช้ในสถานการณ์ใด?\n",
    "|สถานการณ์ธุรกิจ|ตัวอย่างการวิเคราะห์\n",
    "|---|---|\n",
    "|วิเคราะห์การตั้งราคา|Premium vs Economy มีราคาต่างกันชัดเจนหรือไม่\n",
    "|การออกแบบโปรโมชัน|หากกลุ่ม Silver จ่ายสูงกว่าชัดเจน อาจให้ reward เพิ่ม\n",
    "|การระบุตลาดเป้าหมาย|พื้นที่ใดจ่ายแพงกว่าปกติ อาจเป็นกลุ่มลูกค้าพรีเมียม\n",
    "|สร้าง feature ใหม่|หากบาง group มีแนวโน้มราคาชัดเจน อาจ encode กลุ่มนั้นเป็น feature\n",
    "\n",
    "🔧 ทำไมใช้ทั้ง boxplot และ violinplot?\n",
    "|Plot|\tจุดเด่น\n",
    "|---|---|\n",
    "|Boxplot|แสดงค่ากลาง (median), IQR, outliers ได้ดี\n",
    "|Violinplot|เห็นรูปทรงการกระจายของข้อมูล (distribution shape) ว่าบิดเบี้ยวหรือกระจุกตัวหรือไม่\n",
    "\n",
    "ใช้คู่กันจะได้ภาพที่ ทั้งแม่นยำและเข้าใจง่าย\n",
    "\n"
   ]
  },
  {
   "cell_type": "markdown",
   "metadata": {
    "id": "PNlfLF_C7VDG"
   },
   "source": [
    "การแสดง Box plot เพื่อแสดงค่าควอไทร์ของข้อมูล รวมไปถึงแสดงถึง Outlier ของข้อมูล\n",
    "ดูวิธีการใช้งานเพิ่มเติมได้ที่นี่: https://seaborn.pydata.org/generated/seaborn.boxplot.html?highlight=boxplot#seaborn.boxplot"
   ]
  },
  {
   "cell_type": "code",
   "execution_count": null,
   "metadata": {},
   "outputs": [],
   "source": [
    "for col in categorical_columns:\n",
    "    fig, axes  = plt.subplots(1,2, figsize=(20, 5))\n",
    "    # Boxplot\n",
    "    sns.boxplot(x=col, y='Historical_Cost_of_Ride', data=df, ax=axes[0])\n",
    "    axes[0].set_title(f'Boxplot of {col} vs Historical Cost of Ride')\n",
    "    # Violinplot\n",
    "    sns.violinplot(x=col, y='Historical_Cost_of_Ride', data=df, ax=axes[1])\n",
    "    axes[1].set_title(f'Violinplot of {col} vs Historical Cost of Ride')\n",
    "    plt.show()"
   ]
  },
  {
   "cell_type": "markdown",
   "metadata": {},
   "source": [
    "ตัวอย่าง การวิเคราะห์เชิงลึกที่ผสมผสานระหว่างการ แปลงข้อมูลเชิงตัวเลขเป็นกลุ่ม (categorization) + การสำรวจข้อมูล (EDA) เพื่อตอบคำถามว่า:\n",
    "\n",
    "❓ “คะแนนความพึงพอใจของลูกค้า (Average_Ratings) มีความสัมพันธ์กับราคาค่าโดยสาร (Historical_Cost_of_Ride) หรือไม่?”"
   ]
  },
  {
   "cell_type": "markdown",
   "metadata": {},
   "source": [
    "✅ การแปลงคะแนนเฉลี่ยเป็นกลุ่ม:\n",
    "- เพื่อเปลี่ยน Average_Ratings (ที่เป็นค่าต่อเนื่อง เช่น 4.3, 4.8) ให้กลายเป็นกลุ่มคุณภาพ (average, good)\n",
    "- สะดวกต่อการเปรียบเทียบ → เช่น การทำ boxplot หรือ countplot"
   ]
  },
  {
   "cell_type": "code",
   "execution_count": null,
   "metadata": {},
   "outputs": [],
   "source": [
    "# สร้างกราฟฮิสโตแกรมเพื่อดูการกระจายของคะแนนความพึงพอใจ (Average_Ratings)\n",
    "df['Average_Ratings'].hist(bins=30, alpha=0.7, edgecolor='black')\n",
    "plt.title('Histogram of Average Ratings')\n",
    "plt.xlabel('Average Ratings')\n",
    "plt.ylabel('Frequency')\n",
    "plt.show()"
   ]
  },
  {
   "cell_type": "markdown",
   "metadata": {},
   "source": [
    "ข้อสังเกตุ: การกระจายตัวของ Average_Ratings ค่อนข้างสม่ำเสมอ ค่ามาที่สุดอยู่ที่ 5.0 ค่าน้อที่สุดอยูที่ 3.5 \n",
    "- ค่า Average_Ratings กระจายตัวอยู่ทั่วช่วง โดย ไม่มีการกระจุกตัวเพียงจุดเดียว\n",
    "- สะท้อนว่า ระบบได้รับการรีวิวที่หลากหลายจากลูกค้าหลายระดับ\n",
    "- ข้อมูลนี้อาจจะมี Bias เนื่องจาก ไม่มี Average_Ratings ที่เป็นตระดับต่ำกว่า 3.5"
   ]
  },
  {
   "cell_type": "markdown",
   "metadata": {},
   "source": [
    "ใช้ Percentile ในการแบ่งกลุ่ม\n",
    "- 0–25%: ต่ำ (fair)\n",
    "- 25–50%: ปานกลาง (average)\n",
    "- 50–75%: ดี (good)\n",
    "- 75–100%: ดีมาก (excellent)"
   ]
  },
  {
   "cell_type": "code",
   "execution_count": null,
   "metadata": {},
   "outputs": [],
   "source": [
    "# คำนวณ percentiles\n",
    "percentiles = np.percentile(df['Average_Ratings'], [0, 25, 50, 75, 100])\n",
    "print(\"Percentiles of Average Ratings:\")\n",
    "for i, p in enumerate(percentiles):\n",
    "    print(f\"{i*25}th percentile: {p}\")"
   ]
  },
  {
   "cell_type": "code",
   "execution_count": null,
   "metadata": {},
   "outputs": [],
   "source": [
    "# แปลงคอลัมน์ Average_Ratings เป็นกลุ่มตาม percentiles\n",
    "df['Average_Ratings_Class'] = pd.cut(df['Average_Ratings'], bins=percentiles, include_lowest=True, labels=['fair', 'average', 'good', 'excellent'])\n",
    "df['Average_Ratings_Class'].value_counts()"
   ]
  },
  {
   "cell_type": "code",
   "execution_count": null,
   "metadata": {},
   "outputs": [],
   "source": [
    "df.head()"
   ]
  },
  {
   "cell_type": "markdown",
   "metadata": {},
   "source": [
    "**ดูจำนวนลูกค้าแต่ละกลุ่ม (countplot):**\n",
    "เพื่อตรวจสอบว่าแต่ละกลุ่มมีจำนวนข้อมูลเพียงพอสำหรับเปรียบเทียบหรือไม่\n",
    "ถ้ามี bias เช่น กลุ่ม good มากเกินไป → อาจต้องระวังในการตีความผลลัพธ์"
   ]
  },
  {
   "cell_type": "code",
   "execution_count": null,
   "metadata": {},
   "outputs": [],
   "source": [
    "# นับจำนวนข้อมูลในแต่ละกลุ่มของ Average_Ratings_Class และแสดงผลด้วย countplot\n",
    "sns.countplot(data=df, x='Average_Ratings_Class', hue='Average_Ratings_Class')"
   ]
  },
  {
   "cell_type": "markdown",
   "metadata": {},
   "source": [
    "ใส่ label บนแท่ง countplot:ช่วยให้ผู้อ่านกราฟเข้าใจจำนวนแต่ละกลุ่มอย่างรวดเร็ว โดยไม่ต้องเดาตัวเลขจากความสูงของแท่ง\n",
    "```python\n",
    "ax.annotate(f'{height}', ...)\n",
    "```"
   ]
  },
  {
   "cell_type": "code",
   "execution_count": null,
   "metadata": {},
   "outputs": [],
   "source": [
    "# นับจำนวนข้อมูลในแต่ละกลุ่มของ Average_Ratings_Class และแสดงผลด้วย countplot พร้อมแสดงจำนวนบนแต่ละแท่ง\n",
    "ax = sns.countplot(data=df, x='Average_Ratings_Class', hue='Average_Ratings_Class')\n",
    "for p in ax.patches:\n",
    "    height = p.get_height()\n",
    "    ax.annotate(f'{height}', (p.get_x() + p.get_width() / 2, height), ha='center', va='bottom')\n",
    "plt.show()"
   ]
  },
  {
   "cell_type": "markdown",
   "metadata": {},
   "source": [
    "เปรียบเทียบค่าโดยสารด้วย boxplot (ตามกลุ่ม Rating):\n",
    "- เพื่อดูว่า ลูกค้าที่ให้คะแนนดี (excellent) จ่ายค่าโดยสารต่างจากลูกค้าที่ให้คะแนนเฉลี่ย (fair) หรือไม่\n",
    "\n",
    "- วิเคราะห์ได้ว่า หาก excellent มีราคาสูง → อาจเป็นลูกค้า premium ที่ยอมจ่ายแพง"
   ]
  },
  {
   "cell_type": "code",
   "execution_count": null,
   "metadata": {},
   "outputs": [],
   "source": [
    "# สร้าง boxplot เพื่อเปรียบเทียบราคาค่าโดยสารในอดีต (Historical_Cost_of_Ride) ตามกลุ่มคะแนนความพึงพอใจ (Average_Ratings_Class)\n",
    "sns.boxplot(data=df, x='Average_Ratings_Class', y='Historical_Cost_of_Ride', hue='Average_Ratings_Class')"
   ]
  },
  {
   "cell_type": "markdown",
   "metadata": {},
   "source": [
    "วิเคราะห์ราคากับระยะเวลา โดยแยกกลุ่ม Rating (Scatter + Trendline):\n",
    "- เพื่อดูว่าในแต่ละกลุ่ม Rating ความสัมพันธ์ระหว่าง ระยะเวลาเดินทาง (Expected_Ride_Duration) กับราคาค่าโดยสาร เป็นอย่างไร\n",
    "\n",
    "- เส้นแนวโน้ม (trend line) ของแต่ละกลุ่มจะช่วยให้เห็นว่า:\n",
    "\n",
    "    - กลุ่ม excellent มี slope ราคาแรงกว่ากลุ่ม อื่นๆ หรือไม่?\n",
    "\n",
    "    - อธิบายพฤติกรรมลูกค้าที่ต่างกัน → ลูกค้ากลุ่มดีอาจเดินทางไกลและยอมจ่ายแพง\n"
   ]
  },
  {
   "cell_type": "code",
   "execution_count": null,
   "metadata": {},
   "outputs": [],
   "source": [
    "# สร้าง scatter plot ระหว่าง Historical_Cost_of_Ride (ราคาค่าโดยสารที่เคยเรียกเก็บในอดีต) และ Expected_Ride_Duration (ระยะเวลาการเดินทางที่คาดไว้)\n",
    "# พร้อมแยกสีตาม Vehicle_Type (ประเภทการเดินทาง) และแสดงเส้นแนวโน้ม (trend line) สำหรับแต่ละประเภท\n",
    "sns.lmplot(data=df, x='Expected_Ride_Duration', y='Historical_Cost_of_Ride', hue='Average_Ratings_Class', scatter_kws={'alpha': 0.2})\n",
    "plt.title('Scatter plot of Expected Ride Duration vs Historical Cost of Ride with trend line')\n",
    "plt.xlabel('ระยะเวลาการเดินทางที่คาดไว้')\n",
    "plt.ylabel('ราคาค่าโดยสารที่เคยเรียกเก็บในอดีต')\n",
    "plt.show()"
   ]
  },
  {
   "cell_type": "markdown",
   "metadata": {},
   "source": [
    "🎯 สรุป:\n",
    "- แบ่งกลุ่มลูกค้าตามคะแนนความพึงพอใจ\n",
    "- วิเคราะห์พฤติกรรมการใช้จ่ายของแต่ละกลุ่ม\n",
    "- เข้าใจแนวโน้มราคาและระยะทางของลูกค้าแต่ละประเภท"
   ]
  },
  {
   "cell_type": "markdown",
   "metadata": {},
   "source": [
    "การวิเคราะห์ความสัมพันธ์ระหว่าง ราคาค่าโดยสาร (Historical_Cost_of_Ride) กับ ตัวแปรเชิงหมวดหมู่ (Categorical Features) โดยเน้นไปที่การสำรวจความสัมพันธ์ระหว่าง:\n",
    "\n",
    "- Location_Category กับ Customer_Loyalty_Status (2 ตัวแปรเชิงกลุ่ม)\n",
    "\n",
    "- Time_of_Booking กับราคาค่าโดยสาร (ผ่าน Expected_Ride_Duration)"
   ]
  },
  {
   "cell_type": "markdown",
   "metadata": {},
   "source": [
    "Heatmap ของ Crosstab\n",
    "- เพื่อดูว่า กลุ่มลูกค้า (Loyalty Status) แต่ละประเภทมีสัดส่วนอย่างไรในแต่ละพื้นที่ (Location_Category) เช่น:\n",
    "\n",
    "    - พื้นที่เมือง (Urban) มีลูกค้า Silver เยอะไหม?\n",
    "\n",
    "    - ชนบทมีลูกค้า Regular มากกว่า?"
   ]
  },
  {
   "cell_type": "code",
   "execution_count": null,
   "metadata": {},
   "outputs": [],
   "source": [
    "# สร้าง Crosstab (ตารางความถี่) ระหว่าง Location_Category และ Customer_Loyalty_Status\n",
    "ct = pd.crosstab(df['Location_Category'], df['Customer_Loyalty_Status'])\n",
    "\n",
    "# สร้าง Heatmap เพื่อแสดงความถี่ของแต่ละกลุ่ม\n",
    "sns.heatmap(ct, annot=True, fmt='d', cmap='Blues')\n",
    "plt.title('Heatmap of Location vs Customer Loyalty')\n",
    "plt.ylabel('Location Category')\n",
    "plt.xlabel('Customer Loyalty Status')\n",
    "plt.show()\n"
   ]
  },
  {
   "cell_type": "markdown",
   "metadata": {},
   "source": [
    "🧠 ข้อสังเกต\n",
    "✅ 1. กลุ่มลูกค้า Silver มีจำนวนมากที่สุดในทุกพื้นที่\n",
    "- โดยเฉพาะในพื้นที่ Urban (127 คน) และ Suburban (123 คน)\n",
    "\n",
    "- สะท้อนว่ากลุ่ม Silver อาจเป็นกลุ่มที่ใช้บริการบ่อย หรือมี engagement สูง\n",
    "\n",
    "- ควรเป็นกลุ่มเป้าหมายสำคัญในการออกแบบแผนราคาหรือโปรโมชัน\n",
    "  \n",
    "✅ 2. พื้นที่ Urban มีลูกค้าทุกกลุ่มกระจายตัวค่อนข้างสมดุล\n",
    "    Gold: 109\n",
    "    Regular: 110\n",
    "    Silver: 127\n",
    "- อาจแสดงว่าเมืองใหญ่มีลูกค้าทุกประเภท ทำให้ ต้องมีกลยุทธ์ที่หลากหลาย\n",
    "  \n",
    "✅ 3. พื้นที่ Suburban มีลูกค้า Gold น้อยที่สุด (92 คน)\n",
    "- อาจสะท้อนถึงพฤติกรรมลูกค้าในเขตชานเมืองที่ไม่ใช่กลุ่มจ่ายสูง\n",
    "- เหมาะสำหรับ บริการราคาประหยัด (Economy) มากกว่า Premium\n",
    "  \n",
    "✅ 4. Rural ยังคงมีการกระจายที่ดี โดยเฉพาะกลุ่ม Silver\n",
    "- บ่งบอกว่ากลุ่มลูกค้าภักดีมีอยู่ทั่วถึง แม้ในพื้นที่ห่างไกล\n",
    "- ควรพิจารณาโปรโมชันรักษาลูกค้าเก่าในเขต Rural"
   ]
  },
  {
   "cell_type": "markdown",
   "metadata": {},
   "source": [
    "lmplot — ความสัมพันธ์ Duration กับ Cost แยกตาม Time_of_Booking\n",
    "- เพื่อดูว่าแต่ละช่วงเวลา (Time_of_Booking: เช่น Morning, Night) มีแนวโน้มราคาค่าโดยสารต่างกันอย่างไร เมื่อ ระยะเวลาเดินทาง (Expected_Ride_Duration) เปลี่ยนแปลง"
   ]
  },
  {
   "cell_type": "code",
   "execution_count": null,
   "metadata": {},
   "outputs": [],
   "source": [
    "# สร้างกราฟ lmplot เพื่อดูความสัมพันธ์ระหว่าง Expected_Ride_Duration กับ Historical_Cost_of_Ride โดยแยกสีตาม Time_of_Booking\n",
    "sns.lmplot(data=df, x='Expected_Ride_Duration', y='Historical_Cost_of_Ride', hue='Time_of_Booking', scatter_kws={'alpha': 0.2})"
   ]
  },
  {
   "cell_type": "markdown",
   "metadata": {},
   "source": [
    "📈 วิเคราะห์ที่ได้:\n",
    "- ถ้าเส้นของช่วง Afernoon ชันกว่าช่วงอื่น → อาจแปลว่า เวลาเดินทางช่วงบ่ายมีราคาสูงกว่าช่วงอื่น\n",
    "\n",
    "- เปรียบเทียบ slope ของแต่ละกลุ่ม เพื่อดู “ความชันของการคิดราคา”"
   ]
  },
  {
   "cell_type": "markdown",
   "metadata": {},
   "source": [
    "### การสรุปข้อมูลเชิงตารางสรุปแบบเข้าใจง่าย ด้วยการใช้ `pivot_table` ของ pandas\n",
    "\n",
    "การทำ Pivot Table"
   ]
  },
  {
   "cell_type": "code",
   "execution_count": null,
   "metadata": {},
   "outputs": [],
   "source": [
    "# Pivot Table: หาราคาค่าโดยสารเฉลี่ย แยกตามประเภทพาหนะและช่วงเวลาการจอง\n",
    "pivot = df.pivot_table(\n",
    "    values='Historical_Cost_of_Ride',\n",
    "    index='Vehicle_Type',            # row: ประเภทรถ\n",
    "    columns='Time_of_Booking',       # column: เวลาในการจอง\n",
    "    aggfunc='mean',                  # การรวม: ค่าเฉลี่ย\n",
    "    margins=True,                    # เพิ่มแถว/คอลัมน์รวมทั้งหมด\n",
    "    margins_name='Average'\n",
    ")\n",
    "\n",
    "# แสดงผลลัพธ์\n",
    "pivot"
   ]
  },
  {
   "cell_type": "code",
   "execution_count": null,
   "metadata": {},
   "outputs": [],
   "source": [
    "pivot.style.background_gradient(cmap='viridis', low=0, high=1)"
   ]
  },
  {
   "cell_type": "code",
   "execution_count": null,
   "metadata": {},
   "outputs": [],
   "source": [
    "# ถ้าอยากดูยอดการเดินทางรวมในแต่ละช่วง:\n",
    "df.pivot_table(values='Expected_Ride_Duration', index='Location_Category', columns='Vehicle_Type', aggfunc='count')\n"
   ]
  },
  {
   "cell_type": "code",
   "execution_count": null,
   "metadata": {},
   "outputs": [],
   "source": [
    "sns.heatmap(pivot.drop(index='Average').drop(columns='Average'), annot=True, fmt='.1f', cmap='YlGnBu')\n",
    "plt.title('Avg Historical Cost by Vehicle Type and Time of Booking')\n",
    "plt.show()\n"
   ]
  },
  {
   "cell_type": "code",
   "execution_count": null,
   "metadata": {},
   "outputs": [],
   "source": [
    "# ปรับ cateforical data ของ Time_of_Booking ให้เป็น ordinal\n",
    "from pandas.api.types import CategoricalDtype\n",
    "# สร้างลำดับที่ต้องการ\n",
    "time_order = ['Morning', 'Afternoon', 'Evening', 'Night']\n",
    "# สร้าง CategoricalDtype โดยระบุลำดับ\n",
    "time_cat = CategoricalDtype(categories=time_order, ordered=True)\n",
    "# แปลงคอลัมน์ Time_of_Booking เป็น CategoricalDtype\n",
    "df['Time_of_Booking'] = df['Time_of_Booking'].astype(time_cat)\n",
    "\n",
    "\n",
    "pivot_order = df.pivot_table(\n",
    "    values='Historical_Cost_of_Ride',\n",
    "    index='Vehicle_Type',            # row: ประเภทรถ\n",
    "    columns='Time_of_Booking',       # column: เวลาในการจอง\n",
    "    aggfunc='mean',                  # การรวม: ค่าเฉลี่ย\n",
    "    margins=True,                    # เพิ่มแถว/คอลัมน์รวมทั้งหมด\n",
    "    margins_name='Average'\n",
    ")\n",
    "\n",
    "\n",
    "sns.heatmap(pivot_order.drop(index='Average').drop(columns='Average'), annot=True, fmt='.1f', cmap='YlGnBu')\n",
    "plt.title('Avg Historical Cost by Vehicle Type and Time of Booking')\n",
    "plt.show()"
   ]
  },
  {
   "cell_type": "markdown",
   "metadata": {
    "id": "E78wV_3PrXl8"
   },
   "source": [
    "## วิเคราะห์ปัจจัยอื่นเพิ่มเติม"
   ]
  },
  {
   "cell_type": "markdown",
   "metadata": {
    "id": "zRSgE6FHrs5b"
   },
   "source": [
    "เนื่องจากมีปัจจัยอีกมากมายให้ทำการวิเคราะห์ จึงขอเลือกใช้วิธี Visualization ที่ทำให้เห็นความสัมพันธ์ของทุกปัจจัย ดังนี้\n",
    "\n",
    "1.   การวิเคราะห์สหสัมพันธ์ (Correlation matrix ด้วย Heatmap) \n",
    "2.   การวิเคราะห์สหสัมพันธ์ โดยมุ่งเน้นที่ราคาค่าโดยสาร (Historical_Cost_of_Ride)"
   ]
  },
  {
   "cell_type": "markdown",
   "metadata": {
    "id": "pWrhktG6sY5_"
   },
   "source": [
    "### การวิเคราะห์สหสัมพันธ์ (Correlation matrix ด้วย Heatmap)"
   ]
  },
  {
   "cell_type": "code",
   "execution_count": null,
   "metadata": {
    "colab": {
     "base_uri": "https://localhost:8080/",
     "height": 651
    },
    "executionInfo": {
     "elapsed": 1353,
     "status": "ok",
     "timestamp": 1623817881333,
     "user": {
      "displayName": "Tae Jt",
      "photoUrl": "",
      "userId": "15717801353048019289"
     },
     "user_tz": -420
    },
    "id": "aCSpkSBFsi8t",
    "outputId": "04794948-4166-407a-f33c-0008d6e85eb6"
   },
   "outputs": [],
   "source": [
    "# Correlation matrix (numeric columns only)\n",
    "corrmat = df.select_dtypes(include=['int','float']).corr()\n",
    "plt.figure(figsize=(12, 9))\n",
    "sns.heatmap(corrmat, annot=True, fmt='.2f', cmap='coolwarm', cbar_kws={\"shrink\": .8})\n",
    "plt.title('Correlation Matrix')\n",
    "plt.show()"
   ]
  },
  {
   "cell_type": "code",
   "execution_count": null,
   "metadata": {},
   "outputs": [],
   "source": [
    "corrmat = df.select_dtypes(include=['int','float']).corr()\n",
    "mask = np.triu(np.ones_like(corrmat, dtype=bool))\n",
    "plt.figure(figsize=(12, 9))\n",
    "sns.heatmap(corrmat, mask=mask, annot=True, fmt='.2f', cmap='coolwarm', cbar_kws={\"shrink\": .8})\n",
    "plt.title('Correlation Matrix (Lower Triangle)')\n",
    "plt.show()"
   ]
  },
  {
   "cell_type": "markdown",
   "metadata": {
    "id": "zCjizCTutZZp"
   },
   "source": [
    "การ Visualize ด้วย Heatmap นับเป็นหนึ่งในวิธีที่มีประสิทธิภาพ ในการทำให้เห็นภาพรวมของความสัมพันธ์ในแต่ละปัจจัยของข้อมูล \n",
    "บทวิเคราะห์ความสัมพันธ์ระหว่างตัวแปร (Correlation Matrix)\n",
    "จุดที่น่าสังเกตคือ \n",
    "\n",
    "เมทริกซ์นี้แสดง ค่า Pearson correlation coefficient (r) ระหว่างตัวแปรเชิงตัวเลขในชุดข้อมูล\n",
    "\n",
    "ค่าความสัมพันธ์อยู่ระหว่าง -1 ถึง 1:\n",
    "\n",
    "ใกล้ 1 = ความสัมพันธ์ทางบวกสูง (ค่าเพิ่ม-เพิ่ม)\n",
    "\n",
    "ใกล้ -1 = ความสัมพันธ์ทางลบสูง (ค่าเพิ่ม-ลด)\n",
    "\n",
    "ใกล้ 0 = ไม่มีความสัมพันธ์\n",
    "\n",
    "\n"
   ]
  },
  {
   "cell_type": "markdown",
   "metadata": {
    "id": "zxg8Ur9Azbq8"
   },
   "source": [
    "### ✅ วิเคราะห์ตัวแปรที่เกี่ยวข้องกับ Historical_Cost_of_Ride\n",
    "|ตัวแปร|\tค่าความสัมพันธ์ (r)\t|ความหมาย\t|วิเคราะห์เชิงธุรกิจ\n",
    "|---|---|---|---|\n",
    "|Expected_Ride_Duration|\t0.93|\tสูงมาก (บวก)|\tราคาค่าโดยสารเพิ่มตามระยะเวลาเดินทาง เป็นปัจจัยหลักในการตั้งราคา\n",
    "|Number_of_Past_Rides|\t0.04|\tต่ำ (บวกเล็กน้อย)|\tลูกค้าที่มีประสบการณ์เดินทางมาก ไม่ได้จ่ายแพงกว่าชัดเจน\n",
    "|Number_of_Drivers|\t0.02|\tต่ำมาก|\tจำนวนคนขับไม่ได้ส่งผลชัดเจนต่อราคาค่าโดยสาร\n",
    "|Number_of_Riders|\t0.01|\tแทบไม่มี|\tความต้องการของผู้โดยสารไม่มีผลโดยตรงต่อราคาค่าโดยสาร\n",
    "|Average_Ratings|\t-0.00|\tไม่มีเลย|\tความพึงพอใจของลูกค้าไม่ได้มีผลต่อราคาที่เรียกเก็บ\n",
    "\n",
    "---\n",
    "✅ ความสัมพันธ์อื่นที่น่าสนใจ\n",
    "| คู่ตัวแปร                                    | r        | วิเคราะห์                                                                                                            |\n",
    "| -------------------------------------------- | -------- | -------------------------------------------------------------------------------------------------------------------- |\n",
    "| **Number\\_of\\_Riders – Number\\_of\\_Drivers** | **0.63** | ความต้องการและอุปทานมีแนวโน้มไปด้วยกัน เช่น ช่วงที่คนจองเยอะ ก็มีคนขับมากขึ้น (ระบบอาจมีการจัดสรร supply ตาม demand) |\n",
    "\n"
   ]
  },
  {
   "cell_type": "markdown",
   "metadata": {
    "id": "KhiDm6h88daM"
   },
   "source": [
    "# สรุป"
   ]
  },
  {
   "cell_type": "markdown",
   "metadata": {
    "id": "z_LITDOW8gDP"
   },
   "source": [
    "Lab 2: การสำรวจข้อมูลเบื้องต้นด้วยวิธีการทางสถิติด้วยข้อมูล Dynamic Pricing นี้ ได้ทำการสอนการทำ Exploratory Data Analysis หรือ EDA ซึ่งคือกระบวนการตรวจสอบและสำรวจข้อมูลเบื้องต้น เพื่อใช้ทำการวิเคราะห์หรือตั้งสมมติฐานทางสถิติ โดยใช้ Seaborn เป็นเครื่องมือ ด้วยเทคนิคดังนี้\n",
    "\n",
    "*   การวิเคราะห์ข้อมูลแบบตัวแปรเดียว (Univariate Analysis)\n",
    "*   การวิเคราะห์พหุตัวแปร (Multivariate Analysis)\n",
    "*   การวิเคราะห์สหสัมพันธ์ (Correlation)\n",
    "\n",
    "---"
   ]
  },
  {
   "cell_type": "markdown",
   "metadata": {},
   "source": [
    "# **🔧 จากการทำ EDA สู่การสร้าง Data Product**\n",
    "- การวิเคราะห์ข้อมูลเชิงลึก (Exploratory Data Analysis) เป็นขั้นตอนสำคัญในการทำความเข้าใจข้อมูลก่อนการสร้างโมเดล\n",
    "- ช่วยให้เราเห็นภาพรวมของข้อมูล และความสัมพันธ์ระหว่างตัวแปรต่างๆ\n",
    "- การสร้าง Data Product จะช่วยให้เราสามารถนำข้อมูลที่วิเคราะห์แล้วไปใช้ประโยชน์ได้จริง เช่น การตั้งราคาแบบ Dynamic Pricing\n",
    "\n",
    "**📌 ทำไมต้องสร้าง Data Product หลังจาก EDA?**\n",
    "\n",
    "หลังจากที่เราทำ EDA (Exploratory Data Analysis) เสร็จสิ้น เราเข้าใจแล้วว่า:\n",
    "\n",
    "- ปัจจัยใดบ้างที่มีผลต่อราคาค่าโดยสาร\n",
    "\n",
    "- ความสัมพันธ์ระหว่างจำนวนผู้โดยสาร / คนขับ / ประเภทรถ / เวลาจอง กับราคาจริง\n",
    "\n",
    "ดังนั้น ขั้นตอนถัดไปคือการเปลี่ยนข้อมูลเหล่านี้ให้กลายเป็น Data Product ที่สามารถใช้ได้จริง เพื่อสร้างประโยชน์ให้กับธุรกิจ เช่น การตั้งราคาที่เหมาะสมและยืดหยุ่นตามสถานการณ์\n",
    "\n",
    "---"
   ]
  },
  {
   "cell_type": "markdown",
   "metadata": {},
   "source": [
    "**💡 Data Product คืออะไร?**\n",
    "\n",
    "Data Product คือโซลูชันหรือระบบที่ใช้ข้อมูลเป็นแกนหลักในการสร้างมูลค่า เช่น:\n",
    "\n",
    "- ฟังก์ชันปรับราคาค่าโดยสารแบบอัตโนมัติ (Dynamic Pricing)\n",
    "\n",
    "- โมเดล Machine Learning ที่ทำนายราคาค่าโดยสารล่วงหน้า\n",
    "\n",
    "- API สำหรับนำไปเชื่อมต่อในแอปเรียกรถของผู้ใช้จริง"
   ]
  },
  {
   "cell_type": "markdown",
   "metadata": {},
   "source": [
    "การเปลี่ยนแปลงจาก Fixed Pricing Model ที่อิงแค่ระยะเวลาเดินทาง มาเป็น Dynamic Pricing Strategy ที่พิจารณาทั้ง Demand และ Supply เพื่อปรับราคาค่าโดยสารแบบยืดหยุ่น\n",
    "\n",
    "🔍 อธิบายเป็นรูปแบบสมการ:\n",
    "Fixed Pricing Model (แบบเดิม)ที่บริษัทใช้โมเดลราคาแบบง่าย โดยพิจารณาแค่ระยะเวลาเดินทาง:\n",
    "\n",
    "$$\n",
    "\n",
    "Price=k⋅Expected Ride Duration\n",
    "$$\n",
    "โดยที่ $k$ คืออัตราค่าบริการต่อหน่วยเวลา (fixed rate)"
   ]
  },
  {
   "cell_type": "markdown",
   "metadata": {},
   "source": [
    "## Data Product: Dynamic Pricing Engine\n",
    "- Dynamic Pricing Engine จะใช้ข้อมูลที่เราวิเคราะห์ใน EDA มาสร้างโมเดลที่สามารถปรับราคาได้ตาม Demand และ Supply"
   ]
  },
  {
   "cell_type": "markdown",
   "metadata": {},
   "source": [
    "✅ 1. Dynamic Pricing Engine (การตั้งราคาแบบใหม่)\n",
    "ปรับราคาตามทั้ง Demand และ Supply โดยอิงกับราคาจากอดีต:\n",
    "\n",
    "โดยคำนวณจาก percentiles ของ demand และ supply เพื่อปรับราคาแบบอัตโนมัติตามสถานการณ์จริง เช่น ช่วง peak มีผู้โดยสารเยอะและคนขับน้อย → ราคาจะปรับสูงขึ้นโดยอัตโนมัติ\n",
    "\n",
    "$$\n",
    "Adjusted Price = Historical Cost of Ride \\times Demand Multiplier \\times Supply Multiplier\n",
    "$$\n",
    "\n",
    "โดยที่:"
   ]
  },
  {
   "cell_type": "markdown",
   "metadata": {},
   "source": [
    "- **Demand Multiplier**:\n",
    "\n",
    "$$\n",
    "\\text{Demand Multiplier} =\n",
    "\\begin{cases}\n",
    "\\frac{\\text{Number of Riders}}{\\text{High Demand Percentile}}, & \\text{ถ้า demand สูง} \\\\\\\\\n",
    "\\frac{\\text{Number of Riders}}{\\text{Low Demand Percentile}}, & \\text{ถ้า demand ต่ำ}\n",
    "\\end{cases}\n",
    "\n",
    "$$\n",
    "\n",
    "- **Supply Multiplier**:\n",
    "$$\n",
    "\\text{Supply Multiplier} =\n",
    "\\begin{cases}\n",
    "\\frac{\\text{High Supply Percentile}}{\\text{Number of Drivers}}, & \\text{ถ้า supply สูง} \\\\\\\\\n",
    "\\frac{\\text{Low Supply Percentile}}{\\text{Number of Drivers}}, & \\text{ถ้า supply ต่ำ}\n",
    "\\end{cases}\n",
    "$$\n",
    "\n",
    "มีการตั้งค่า threshold เพื่อควบคุมไม่ให้ราคาผันผวนเกินไป:\n",
    "$$\n",
    "Adjusted Price = Historical Cost of Ride \\times \\max(Demand Multiplier,\\theta_{dt_l}) \\times \\max(Supply Multiplier,\\theta_{st_h})\n",
    "$$\n",
    "โดยที่: \n",
    "\n",
    "$\\theta_{dt_l}$ คือ $\\text{demand threshold low boundary}$ และ \n",
    "\n",
    "$\\theta_{st_h}$ คือ $\\text{supply threshold high boundary}$\n",
    "\n",
    "เป็นการกำหนด **การตั้งค่าคงที่ของ Threshold**: ควบคุมไม่ให้ราคาสูง/ต่ำเกินไป\n",
    " - $\\theta_{dt_l}$: ค่าต่ำสุดที่ Demand Multiplier จะไม่ต่ำกว่านี้\n",
    "  - $\\theta_{st_h}$: ค่าต่ำสุดที่ Supply Multiplier จะไม่ต่ำกว่านี้"
   ]
  },
  {
   "cell_type": "markdown",
   "metadata": {},
   "source": [
    "ทำการเพิ่มเติมข้อมูลที่จำเป็นสำหรับการสร้าง Data Product เช่น:\n",
    "- **Demand Multiplier**: ตัวคูณที่ใช้ปรับราคาตามความต้องการ\n",
    "- **Supply Multiplier**: ตัวคูณที่ใช้ปรับราคาตามอุปทาน\n",
    "- **Adjusted Ride Cost**: ราคาที่ปรับตาม Demand และ Supply"
   ]
  },
  {
   "cell_type": "code",
   "execution_count": null,
   "metadata": {},
   "outputs": [],
   "source": [
    "# คำนวณตัวคูณฝั่งดีมานด์ (demand_multiplier) โดยใช้เปอร์เซ็นไทล์สำหรับดีมานด์สูงและต่ำ\n",
    "high_demand_percentile = 75\n",
    "low_demand_percentile = 25\n",
    "\n",
    "high_demand = np.percentile(df['Number_of_Riders'], high_demand_percentile)\n",
    "low_demand = np.percentile(df['Number_of_Riders'], low_demand_percentile)\n",
    "\n",
    "df['demand_multiplier'] = np.where(\n",
    "    df['Number_of_Riders'] > high_demand,\n",
    "    df['Number_of_Riders'] / high_demand,\n",
    "    df['Number_of_Riders'] / low_demand\n",
    ")\n",
    "\n",
    "# คำนวณตัวคูณฝั่งซัพพลาย (supply_multiplier) โดยใช้เปอร์เซ็นไทล์สำหรับซัพพลายสูงและต่ำ\n",
    "high_supply_percentile = 75\n",
    "low_supply_percentile = 25\n",
    "\n",
    "high_supply = np.percentile(df['Number_of_Drivers'], high_supply_percentile)\n",
    "low_supply = np.percentile(df['Number_of_Drivers'], low_supply_percentile)\n",
    "df['supply_multiplier'] = np.where(\n",
    "    df['Number_of_Drivers'] > low_supply,\n",
    "    high_supply / df['Number_of_Drivers'],\n",
    "    low_supply / df['Number_of_Drivers']\n",
    ")\n",
    "\n",
    "# กำหนด threshold สำหรับการปรับราคาตามดีมานด์และซัพพลาย\n",
    "\n",
    "demand_threshold_low = 0.8   # กรณีดีมานด์ต่ำ\n",
    "supply_threshold_high = 0.8  # กรณีซัพพลายสูง\n",
    "\n",
    "# คำนวณราคาที่ปรับตามดีมานด์/ซัพพลาย (อ่านง่ายขึ้น)\n",
    "demand_mult = np.maximum(df['demand_multiplier'], demand_threshold_low)\n",
    "supply_mult = np.maximum(df['supply_multiplier'], supply_threshold_high)\n",
    "df['adjusted_ride_cost'] = df['Historical_Cost_of_Ride'] * demand_mult * supply_mult\n"
   ]
  },
  {
   "cell_type": "code",
   "execution_count": null,
   "metadata": {},
   "outputs": [],
   "source": [
    "print(f\"Hight supply อุปสงค์-จำนวนคนขับ-สูง ที่ P75: {high_supply}\")\n",
    "print(f\"Low supply อุปสงค์-จำนวนคนขับ-ต่ำ ที่ P25: {low_supply}\")\n",
    "print(f\"Hight demand อุปทาน-จำนวนผู้โดยสาร-สูง ที่ P75: {high_demand}\")\n",
    "print(f\"Low demand อุปทาน-จำนวนผู้โดยสาร-ต่ำ ที่ P25: {low_demand}\")"
   ]
  },
  {
   "cell_type": "code",
   "execution_count": null,
   "metadata": {},
   "outputs": [],
   "source": [
    "df.head()"
   ]
  },
  {
   "cell_type": "markdown",
   "metadata": {},
   "source": [
    "✅ 2. Profitability Insight Dashboard\n",
    "- วิเคราะห์ผลกำไรหลังจากใช้ dynamic pricing\n",
    "- แสดงผลลัพธ์ในรูปแบบ donut chart (เช่น จำนวน ride ที่มีกำไรและขาดทุน)\n",
    "- ช่วยให้ทีมธุรกิจประเมินผลลัพธ์จาก pricing strategy ที่นำไปใช้ได้จริง"
   ]
  },
  {
   "cell_type": "code",
   "execution_count": null,
   "metadata": {},
   "outputs": [],
   "source": [
    "# คำนวณเปอร์เซ็นต์กำไรของแต่ละการเดินทาง (profit_percentage)\n",
    "df['profit_percentage'] = ((df['adjusted_ride_cost'] - df['Historical_Cost_of_Ride']) / df['Historical_Cost_of_Ride']) * 100\n",
    "\n",
    "# แยกข้อมูลการเดินทางที่มีกำไร (เปอร์เซ็นต์กำไรเป็นบวก)\n",
    "profitable_rides = df[df['profit_percentage'] > 0]\n",
    "\n",
    "# แยกข้อมูลการเดินทางที่ขาดทุน (เปอร์เซ็นต์กำไรเป็นลบ)\n",
    "loss_rides = df[df['profit_percentage'] < 0]\n",
    "\n",
    "# สร้าง DataFrame สรุปผลลัพธ์ เช่น จำนวนรอบทั้งหมด รอบที่มีกำไร รอบที่ขาดทุน และค่าเฉลี่ยเปอร์เซ็นต์กำไร/ขาดทุน\n",
    "summary_df = pd.DataFrame({\n",
    "    'Total_Rides': [len(df)],\n",
    "    'Profitable_Rides': [len(profitable_rides)],\n",
    "    'Loss_Rides': [len(loss_rides)],\n",
    "    # กำไรเฉลี่ยที่เพิ่มขึ้นจากราคาดั้งเดิมในเที่ยวที่ได้กำไร\n",
    "    'Average_Profit_Percent': [profitable_rides['profit_percentage'].mean() if len(profitable_rides) > 0 else 0],\n",
    "    # ขาดทุนเฉลี่ยที่ลดลงจากราคาดั้งเดิมในเที่ยวที่ขาดทุน\n",
    "    'Average_Loss_Percent': [loss_rides['profit_percentage'].mean() if len(loss_rides) > 0 else 0]\n",
    "})\n",
    "\n",
    "# แสดงผลลัพธ์ในรูปแบบตาราง (transpose) และกำหนดชื่อคอลัมน์\n",
    "table_summary = summary_df.T\n",
    "table_summary.columns = ['ค่า']\n",
    "\n",
    "# แสดงผลลัพธ์โดยให้ทศนิยม 2 ตำแหน่ง\n",
    "table_summary.style.format(\"{:.2f}\")"
   ]
  },
  {
   "cell_type": "code",
   "execution_count": null,
   "metadata": {},
   "outputs": [],
   "source": [
    "# Prepare data\n",
    "labels = ['Profitable Rides', 'Loss Rides']\n",
    "values = [len(profitable_rides), len(loss_rides)]\n",
    "\n",
    "# Create Donut Chart\n",
    "fig, ax = plt.subplots(figsize=(6, 6))\n",
    "# Create a circle at the center of the plot\n",
    "center_circle = plt.Circle( (0,0), 0.7, color='white')\n",
    "wedges, texts, autotexts = ax.pie(\n",
    "    values,\n",
    "    labels=labels,\n",
    "    autopct='%1.1f%%',\n",
    "    colors=['green', 'red'],\n",
    "    startangle=-200,\n",
    "    wedgeprops=dict(width=0.4)\n",
    ")\n",
    "ax.set(aspect=\"equal\", title='Profitability of Rides\\n(Dynamic Pricing vs. Historical)')\n",
    "plt.show()"
   ]
  },
  {
   "cell_type": "code",
   "execution_count": null,
   "metadata": {},
   "outputs": [],
   "source": [
    "df.to_csv('../data/dynamic_pricing_with_profit.csv', index=False)"
   ]
  },
  {
   "cell_type": "markdown",
   "metadata": {},
   "source": [
    "✅ 3. Predictive Pricing Model (Machine Learning)\n",
    "\n",
    "**สร้างโมเดลทำนายราคาค่าโดยสารอัตโนมัติ**\n",
    "\n",
    "เราจะสร้าง Machine Learning Model ที่ช่วย \"ทำนายราคาค่าโดยสาร\" โดยใช้ข้อมูลต่าง ๆ เช่น  \n",
    "- จำนวนผู้โดยสาร  \n",
    "- จำนวนคนขับ  \n",
    "- ประเภทของรถ  \n",
    "- ระยะเวลาเดินทางที่คาดไว้  \n",
    "\n",
    "**เป้าหมาย:**  \n",
    "เมื่อมีการจองเข้ามา ระบบจะสามารถคำนวณราคาที่เหมาะสมให้ทันที โดยอาศัยความสัมพันธ์ของข้อมูลในอดีต\n",
    "\n",
    "**วิธีการ:**  \n",
    "- ใช้เทคนิค Machine Learning ประเภท Regression (เหมาะกับการทำนายตัวเลข)\n",
    "- สอนโมเดลด้วยข้อมูลจริงในอดีต เพื่อให้เรียนรู้ว่าปัจจัยต่าง ๆ ส่งผลต่อราคาค่าโดยสารอย่างไร\n",
    "\n",
    "**ประโยชน์:**  \n",
    "- ช่วยให้บริษัทตั้งราคาที่เหมาะสมและยุติธรรมกับลูกค้าแต่ละราย\n",
    "- ระบบสามารถเสนอราคาทันทีโดยไม่ต้องรอคำนวณเอง"
   ]
  },
  {
   "cell_type": "markdown",
   "metadata": {},
   "source": [
    "## การสร้าง Model สำหรับทำ Data Product: Dynamic Pricing"
   ]
  },
  {
   "cell_type": "code",
   "execution_count": null,
   "metadata": {},
   "outputs": [],
   "source": [
    "# ติดตั้ง PyCaret (ถ้ายังไม่ติดตั้ง)\n",
    "!pip install ipywidgets"
   ]
  },
  {
   "cell_type": "code",
   "execution_count": null,
   "metadata": {},
   "outputs": [],
   "source": [
    "!!pip install scikit-learn"
   ]
  },
  {
   "cell_type": "markdown",
   "metadata": {},
   "source": [
    "### 🟦 1. นำเข้าไลบรารี"
   ]
  },
  {
   "cell_type": "code",
   "execution_count": null,
   "metadata": {},
   "outputs": [],
   "source": [
    "\n",
    "from sklearn.ensemble import RandomForestRegressor"
   ]
  },
  {
   "cell_type": "markdown",
   "metadata": {},
   "source": [
    "### 🟩 2. ฟังก์ชันเตรียมข้อมูล (Preprocessing)"
   ]
  },
  {
   "cell_type": "code",
   "execution_count": null,
   "metadata": {},
   "outputs": [],
   "source": [
    "def data_preprocessing_pipeline(data):\n",
    "    # แยกข้อมูลตัวเลขและข้อความ\n",
    "    numeric_features = data.select_dtypes(include=['float', 'int']).columns\n",
    "    categorical_features = data.select_dtypes(include=['object']).columns\n",
    "\n",
    "    # เติม missing values ของตัวเลขด้วยค่าเฉลี่ย\n",
    "    data[numeric_features] = data[numeric_features].fillna(data[numeric_features].mean())\n",
    "\n",
    "    # ตรวจหาและจัดการ outliers ด้วย IQR\n",
    "    for feature in numeric_features:\n",
    "        Q1 = data[feature].quantile(0.25)\n",
    "        Q3 = data[feature].quantile(0.75)\n",
    "        IQR = Q3 - Q1\n",
    "        lower_bound = Q1 - (1.5 * IQR)\n",
    "        upper_bound = Q3 + (1.5 * IQR)\n",
    "        data[feature] = np.where((data[feature] < lower_bound) | (data[feature] > upper_bound),\n",
    "                                 data[feature].mean(), data[feature])\n",
    "\n",
    "    # เติม missing ของตัวแปรประเภทข้อความด้วยค่าที่พบบ่อยที่สุด\n",
    "    data[categorical_features] = data[categorical_features].fillna(data[categorical_features].mode().iloc[0])\n",
    "\n",
    "    return data"
   ]
  },
  {
   "cell_type": "markdown",
   "metadata": {},
   "source": [
    "### 🟨 3. โหลดและเตรียมข้อมูล"
   ]
  },
  {
   "cell_type": "code",
   "execution_count": null,
   "metadata": {},
   "outputs": [],
   "source": [
    "# สมมุติว่าคุณมี DataFrame ชื่อ data\n",
    "# หากยังไม่ได้ preprocessing ให้รัน pipeline\n",
    "data = data_preprocessing_pipeline(df)\n",
    "\n",
    "# แปลง Vehicle_Type เป็นตัวเลข\n",
    "data[\"Vehicle_Type\"] = data[\"Vehicle_Type\"].map({\"Premium\": 1, \"Economy\": 0})"
   ]
  },
  {
   "cell_type": "markdown",
   "metadata": {},
   "source": [
    "### 🟥 4. แยกข้อมูลสำหรับเทรนและทดสอบ"
   ]
  },
  {
   "cell_type": "code",
   "execution_count": null,
   "metadata": {},
   "outputs": [],
   "source": [
    "from sklearn.model_selection import train_test_split\n",
    "\n",
    "X = data[[\"Number_of_Riders\", \"Number_of_Drivers\", \"Vehicle_Type\", \"Expected_Ride_Duration\"]]\n",
    "y = data[\"adjusted_ride_cost\"]\n",
    "\n",
    "x_train, x_test, y_train, y_test = train_test_split(X, y, test_size=0.2, random_state=42)\n"
   ]
  },
  {
   "cell_type": "markdown",
   "metadata": {},
   "source": [
    "### 🟪 5. เทรนโมเดลด้วย Random Forest"
   ]
  },
  {
   "cell_type": "code",
   "execution_count": null,
   "metadata": {},
   "outputs": [],
   "source": [
    "model = RandomForestRegressor()\n",
    "model.fit(x_train, y_train)"
   ]
  },
  {
   "cell_type": "markdown",
   "metadata": {},
   "source": [
    "### 🟫 6. สร้างฟังก์ชันทำนายราคาค่าโดยสาร"
   ]
  },
  {
   "cell_type": "code",
   "execution_count": null,
   "metadata": {},
   "outputs": [],
   "source": [
    "def get_vehicle_type_numeric(vehicle_type):\n",
    "    mapping = {\"Premium\": 1, \"Economy\": 0}\n",
    "    return mapping.get(vehicle_type)\n",
    "\n",
    "def predict_price(number_of_riders, number_of_drivers, vehicle_type, expected_ride_duration):\n",
    "    vehicle_type_numeric = get_vehicle_type_numeric(vehicle_type)\n",
    "    if vehicle_type_numeric is None:\n",
    "        raise ValueError(\"Invalid vehicle type\")\n",
    "    \n",
    "    input_data = np.array([[number_of_riders, number_of_drivers, vehicle_type_numeric, expected_ride_duration]])\n",
    "    return model.predict(input_data)[0]"
   ]
  },
  {
   "cell_type": "markdown",
   "metadata": {},
   "source": [
    "### 🟦 7. ตัวอย่างการทำนาย"
   ]
  },
  {
   "cell_type": "code",
   "execution_count": null,
   "metadata": {},
   "outputs": [],
   "source": [
    "user_number_of_riders = 50\n",
    "user_number_of_drivers = 25\n",
    "user_vehicle_type = \"Economy\"\n",
    "expected_ride_duration = 30\n",
    "\n",
    "predicted_price = predict_price(user_number_of_riders, user_number_of_drivers, user_vehicle_type, expected_ride_duration)\n",
    "print(f\"🎯 Predicted price for user ride: {predicted_price:.2f}\")"
   ]
  },
  {
   "cell_type": "code",
   "execution_count": null,
   "metadata": {},
   "outputs": [],
   "source": [
    "import numpy as np\n",
    "import ipywidgets as widgets\n",
    "from IPython.display import display\n",
    "# Widget function\n",
    "def interactive_prediction(number_of_riders, number_of_drivers, vehicle_type, expected_ride_duration):\n",
    "    vt = 1 if vehicle_type == \"Premium\" else 0\n",
    "    input_data = np.array([[number_of_riders, number_of_drivers, vt, expected_ride_duration]])\n",
    "    prediction = model.predict(input_data)[0]\n",
    "    print(f\"🎯 Predicted Ride Cost: {prediction:.2f}\")\n",
    "\n",
    "# Show interactive UI\n",
    "display(widgets.interactive(\n",
    "    interactive_prediction,\n",
    "    number_of_riders=widgets.IntSlider(50, 0, 100, 1, description='Number of Riders', style={'description_width': 'initial'}),\n",
    "    number_of_drivers=widgets.IntSlider(25, 0, 100, 1, description='Number of Drivers', style={'description_width': 'initial'}),\n",
    "    vehicle_type=widgets.Dropdown(options=[\"Economy\", \"Premium\"], value=\"Economy\", description='Vehicle Type', style={'description_width': 'initial'}),\n",
    "    expected_ride_duration=widgets.IntSlider(30, 0, 200, 5, description='Expected Duration', style={'description_width': 'initial'})\n",
    "))"
   ]
  },
  {
   "cell_type": "code",
   "execution_count": null,
   "metadata": {},
   "outputs": [],
   "source": []
  },
  {
   "cell_type": "markdown",
   "metadata": {
    "id": "6XCyjDuNB3TI"
   },
   "source": [
    "# พื้นที่สำหรับการทดลอง\n",
    "\n",
    "ให้ทดลองด้วยตัวเอง เพื่อสำรวจข้อมูลในส่วนอื่น ๆ"
   ]
  },
  {
   "cell_type": "code",
   "execution_count": null,
   "metadata": {},
   "outputs": [],
   "source": [
    "# Code Here\n",
    "\n"
   ]
  }
 ],
 "metadata": {
  "colab": {
   "collapsed_sections": [],
   "name": "lab2_eda.ipynb",
   "provenance": []
  },
  "kernelspec": {
   "display_name": ".venv",
   "language": "python",
   "name": "python3"
  },
  "language_info": {
   "codemirror_mode": {
    "name": "ipython",
    "version": 3
   },
   "file_extension": ".py",
   "mimetype": "text/x-python",
   "name": "python",
   "nbconvert_exporter": "python",
   "pygments_lexer": "ipython3",
   "version": "3.12.9"
  }
 },
 "nbformat": 4,
 "nbformat_minor": 4
}
