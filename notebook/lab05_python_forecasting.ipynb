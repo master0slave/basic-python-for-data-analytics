{
 "cells": [
  {
   "cell_type": "markdown",
   "metadata": {
    "id": "mM6RhGe7I5KL"
   },
   "source": [
    "# Python: Lab 05 Forecasting with Prophet, ARIMA, and Other Models Using StatsForecast\n",
    "\n",
    "\n"
   ]
  },
  {
   "cell_type": "markdown",
   "metadata": {
    "id": "2-7-HYnomGb6"
   },
   "source": [
    "การพยากรณ์ (Forecasting) ถือเป็นหนึ่งในเครื่องมือสำคัญที่นักวิเคราะห์ข้อมูลควรมีติดตัว ในบทบาทของนักวิเคราะห์ คุณมักจะได้รับมอบหมายให้คาดการณ์ค่าต่าง ๆ เช่น ตัวชี้วัดความสำเร็จทางธุรกิจ (KPIs) เพื่อใช้ในการวางแผนล่วงหน้า\n",
    "\n",
    "ในบทนี้ เราจะเริ่มจากการเรียนรู้ว่าเหตุใดการพยากรณ์จึงมีความสำคัญในงานวิเคราะห์การตลาด และการพยากรณ์สามารถช่วยให้ธุรกิจวางแผนอนาคตอย่างมีข้อมูลสนับสนุนได้อย่างไร จากนั้นเราจะเรียนรู้วิธีเลือก KPIs และปัจจัยอื่น ๆ ที่ควรนำมาพยากรณ์ในบริบทของงานการตลาด\n",
    "\n",
    "ต่อมา เราจะทำความเข้าใจพื้นฐานของข้อมูลอนุกรมเวลา (Time Series Data) และวิธีการพยากรณ์แบบพื้นฐาน ก่อนจะไปสู่การเรียนรู้เทคนิคการพยากรณ์ขั้นสูง รวมถึงการใช้ แมชชีนเลิร์นนิง ในการพยากรณ์ พร้อมคำแนะนำว่าแต่ละวิธีเหมาะใช้ในสถานการณ์แบบใด"
   ]
  },
  {
   "cell_type": "markdown",
   "metadata": {
    "id": "cqW5T1XbmLjz"
   },
   "source": [
    "หัวข้อที่เราจะเรียนรู้ในบทนี้ ได้แก่:\n",
    "\n",
    "- การพยากรณ์คืออะไร?\n",
    "\n",
    "- สิ่งที่ควรนำมาพยากรณ์\n",
    "\n",
    "- พื้นฐานของการพยากรณ์ข้อมูลอนุกรมเวลา\n",
    "\n",
    "- วิธีการพยากรณ์ขั้นสูง\n",
    "---"
   ]
  },
  {
   "cell_type": "markdown",
   "metadata": {},
   "source": [
    "การพยากรณ์คืออะไร?\n",
    "การพยากรณ์ (Forecasting) คือกระบวนการในการคาดการณ์สิ่งที่จะเกิดขึ้นในอนาคต ถือเป็นงานที่สำคัญอย่างหนึ่งของนักวิเคราะห์ข้อมูลทางการตลาด และยังเป็นหนึ่งในสาขาที่ซับซ้อนที่สุดของสถิติอีกด้วย\n",
    "พวกเราควรเข้าใจว่าโมเดลแบบไหนเหมาะจะใช้เมื่อใด และควรหลีกเลี่ยงอะไรบ้างในการพยากรณ์\n"
   ]
  },
  {
   "cell_type": "markdown",
   "metadata": {},
   "source": [
    "**ทำไมการพยากรณ์จึงสำคัญ**\n",
    "การพยากรณ์มีความสำคัญเพราะช่วยให้เราสามารถตัดสินใจโดยอิงจากแนวโน้มในอนาคตได้\n",
    "ยกตัวอย่างเช่น หากคุณเป็นนักวิเคราะห์ข้อมูลการตลาด คุณสามารถใช้การพยากรณ์เพื่อคาดการณ์ยอดขายของไตรมาสถัดไป\n",
    "ข้อมูลนี้จะช่วยให้คุณวางแผนได้ว่า\n",
    "\n",
    "- ควรสั่งสินค้าจำนวนเท่าใด\n",
    "\n",
    "- ควรจ้างพนักงานเพิ่มอีกกี่คน\n",
    "\n",
    "- และควรใช้งบโฆษณาเท่าใดจึงจะเหมาะสม"
   ]
  },
  {
   "cell_type": "markdown",
   "metadata": {},
   "source": [
    "**📝 Note:**\n",
    "ก่อนที่เราจะลงมือพยากรณ์ เราจำเป็นต้องเข้าใจก่อนว่า \n",
    "- ข้อมูลอนุกรมเวลา (Time Series Data) มีลักษณะแบบใดบ้าง \n",
    "- และต้องรู้วิธีการสำรวจข้อมูลเบื้องต้น (Exploratory Analysis) เพื่อดูแนวโน้ม รูปแบบ และความเปลี่ยนแปลงของข้อมูลเหล่านี้\n"
   ]
  },
  {
   "cell_type": "markdown",
   "metadata": {},
   "source": [
    "**ประเภทของข้อมูลอนุกรมเวลา (Time Series Data)**\n",
    "\n",
    "ข้อมูลอนุกรมเวลา คือข้อมูลที่บันทึกตามช่วงเวลา ซึ่งมีลักษณะและความซับซ้อนหลากหลาย การเข้าใจประเภทของข้อมูลอนุกรมเวลาจะช่วยให้เลือกโมเดลพยากรณ์ได้เหมาะสมและแม่นยำมากขึ้น ประเภทหลัก ๆ มีดังนี้:\n",
    "\n",
    "---\n",
    "\n",
    "### 1. ข้อมูลอนุกรมเวลาแบบตัวแปรเดียว (Univariate Time Series)\n",
    "- เก็บค่าของ **ตัวแปรเดียว** ต่อเนื่องตามเวลา  \n",
    "- ตัวอย่าง:  \n",
    "    - ยอดขายรายเดือนของสินค้าชนิดหนึ่ง  \n",
    "    - ราคาปิดของหุ้นในแต่ละวัน  \n",
    "- การวิเคราะห์จะใช้ข้อมูลอดีตและปัจจุบันของ *ตัวแปรเดียว* เท่านั้น\n",
    "\n",
    "---\n",
    "\n",
    "### 2. ข้อมูลอนุกรมเวลาแบบหลายตัวแปร (Multivariate Time Series)\n",
    "- เก็บค่าของ **หลายตัวแปร** ในช่วงเวลาเดียวกัน  \n",
    "- ตัวอย่าง:  \n",
    "    - บันทึกอุณหภูมิ ความชื้น และความเร็วลมรายวันของสถานที่หนึ่ง  \n",
    "- การวิเคราะห์จะมองความสัมพันธ์ระหว่างตัวแปรต่าง ๆ เพื่อช่วยในการพยากรณ์\n",
    "\n",
    "---\n",
    "\n",
    "### 3. ข้อมูลแผง (Panel Data) หรือ Longitudinal/Cross-sectional Time Series\n",
    "- มี **หลายอนุกรมเวลา** ของสิ่งเดียวกัน  \n",
    "- ตัวอย่าง:  \n",
    "    - ยอดขายรายเดือนของแต่ละสาขาในเครือร้านค้าเดียวกัน  \n",
    "- ช่วยให้เข้าใจทั้งพฤติกรรมรายหน่วย (แต่ละร้าน) และแนวโน้มตามเวลา\n",
    "\n",
    "---\n",
    "\n",
    "### 4. ข้อมูลอนุกรมเวลาแบบมีลำดับชั้น (Hierarchical Time Series)\n",
    "- มีโครงสร้างแบบลำดับขั้น  \n",
    "- ตัวอย่าง:  \n",
    "    - ยอดขายแยกตามสินค้า หมวดสินค้า ร้านค้า หรือภูมิภาค  \n",
    "- สามารถรวม (Aggregate) หรือแยกย่อย (Disaggregate) ข้อมูลได้ตามระดับ  \n",
    "- การพยากรณ์แบบนี้ช่วยให้วางแผนธุรกิจได้แม่นยำยิ่งขึ้น\n",
    "\n",
    "---\n",
    "\n",
    "### 5. ข้อมูลอนุกรมเวลาแบบมีฤดูกาล (Seasonal Time Series)\n",
    "- มีรูปแบบซ้ำในรอบเวลาที่แน่นอน (เช่น รายวัน รายสัปดาห์ รายปี)  \n",
    "- ตัวอย่าง:  \n",
    "    - ยอดขายที่สูงขึ้นในช่วงเทศกาล  \n",
    "    - การเข้าใช้งานเว็บไซต์ที่ลดลงในวันหยุด  \n",
    "- การรู้จักฤดูกาลของข้อมูลช่วยให้พยากรณ์ได้แม่นขึ้น เช่น ใช้ SARIMA หรือ Holt–Winters\n",
    "\n",
    "---\n",
    "\n",
    "### 6. ข้อมูลอนุกรมเวลาแบบไม่เสถียร (Non-Stationary Time Series)\n",
    "- คุณสมบัติเปลี่ยนแปลงไปตามเวลา (เช่น ค่าเฉลี่ย ความแปรปรวน หรือฤดูกาล)  \n",
    "- ตัวอย่าง:  \n",
    "    - ราคาหุ้น  \n",
    "    - ตัวชี้วัดเศรษฐกิจ  \n",
    "    - จำนวนประชากรที่เปลี่ยนไปทุกปี  \n",
    "- มักต้องแปลงข้อมูลก่อน เช่น ใช้การหาค่าความต่าง (Differencing) เพื่อทำให้ข้อมูลเสถียรก่อนนำไปพยากรณ์\n",
    "\n",
    "---"
   ]
  },
  {
   "cell_type": "markdown",
   "metadata": {},
   "source": [
    "**📝 Note:**\n",
    "\n",
    "ก่อนที่จะเริ่มการวิเคราะห์ข้อมูลใด ๆ เราควรเริ่มจาก การสำรวจข้อมูลเบื้องต้น (Exploratory Data Analysis) ก่อนเสมอ เพื่อทำความเข้าใจโครงสร้าง แนวโน้ม และรูปแบบของชุดข้อมูลของเรา"
   ]
  },
  {
   "cell_type": "markdown",
   "metadata": {},
   "source": [
    "# Time Series ด้วยโมเดล ARIMA\n",
    "**การสำรวจข้อมูลอนุกรมเวลา (Time Series data)** คือ การสำรวจชุดของข้อมูลที่เก็บรวบรวมตามกาลเวลาโดยจะเป็นช่วง ๆ ตามช่วงเวลาที่กำหนด การวิเคราะห์อนุกรมเวลาคือการทำความเข้าใจกับแง่มุมต่าง ๆ เกี่ยวกับการเปลี่ยนแปลงตามธรรมชาติของข้อมูล เพื่อให้สามารถพยากรณ์ข้อมูลในอนาคตได้เเม่นยำขึ้น\n",
    "\n",
    "โดยองค์ประกอบของข้อมูลอนุกรมเวลา (Time Series ) แบ่งออกเป็น \n",
    "\n",
    "- Trend – ค่าแนวโน้ม \n",
    "- Seasonal – ค่าการผันแปรตามฤดูกาล \n",
    "- Cycle – ค่าการผันแปรตามวัฎจักร  \n",
    "- Irregular – การผันแปรเนื่องจากเหตุการณ์ไม่ปกติ"
   ]
  },
  {
   "cell_type": "markdown",
   "metadata": {
    "id": "0EN-3faGZh6s"
   },
   "source": [
    "### ARIMA\n",
    "ARIMA Model คือ Auto Regressive Integrated Moving Average  โดยมีหลักการคือ พยายามกำจัด “Noise” ออกจาก Time series เพื่อลด Error ให้ได้มากที่สุด  ซึ่งจะทำให้การทำนาย (Forecast) ในขั้นตอนต่อไปมีประสิทธิภาพมากขึ้น\n",
    "\n",
    "องค์ประกอบหลักของ ARIMA ประกอบไปด้วย 3 ส่วน คือ\n",
    "\n",
    "\n",
    "*   AR = Auto Regressive \n",
    "*   I = Integrated \n",
    "*   MA = Moving Average\n",
    "\n",
    "\n",
    "การรวมตัวของทั้ง 3 เรียกว่า “Order” สามารถเขียนได้ว่า ARIMA (p,d,q) ซึ่งแต่ละ Order เรียงตามลำดับ AR, I และ MA \n"
   ]
  },
  {
   "cell_type": "markdown",
   "metadata": {
    "id": "c1XySxTsdwvv"
   },
   "source": [
    "### Auto Regressive (AR) \n",
    "คือ แนวคิดของการใช้ค่าของตัวเองในการทำนายวันถัดไป โดยที่พารามิเตอร์ p ของ AR คือ จำนวนเวลาที่ lag ใน Time series หรือพูดอีกนัยหนึ่งได้ว่า สมการนี้ตั้งอยู่บนสมมติฐานว่า ค่าของวันที่จะทำนายมีความสัมพันธ์กับค่าในอดีตของตัวมันเอง เช่น ราคาหุ้นของวันนี้ขึ้นกับราคาหุ้นของ x วันก่อน"
   ]
  },
  {
   "cell_type": "markdown",
   "metadata": {
    "id": "m-IPd8hBd1mh"
   },
   "source": [
    "### Integrated (I)\n",
    "\n",
    "พารามิเตอร์ d ของ Integrated ถูกใช้ในการหาความเป็น Stationary ของ Time Series เพื่อหาว่าผู้ใช้งานต้องทำการ Differencing กี่ครั้ง ในการทำให้ข้อมูล Stationary โดย Differencing คือ การดําเนินการหาผลต่างระหว่างช่วงเวลา\n",
    "\n",
    "ในส่วนของ Stationary จะมีการอธิบายในส่วนของ \"ทดสอบ Stationary ของข้อมูล\" ในส่วนถัดไป \n"
   ]
  },
  {
   "cell_type": "markdown",
   "metadata": {
    "id": "nyXFc-74gGHV"
   },
   "source": [
    "### Moving Average (MA)\n",
    "\n",
    "แนวคิดของ Moving Average (MA) ค่อนข้างคล้ายกับแนวคิดของ Auto Regressive (AR) แต่ตั้งบนสมมติฐานของ Error แทน เช่น หากพารามิเตอร์ q ของ MA เป็น 2 หมายความว่า เป้าหมาย ณ วันนี้เท่ากับ Error ของเมื่อวานและเมื่อวานซืน\n",
    "\n",
    "---\n",
    "\n"
   ]
  },
  {
   "cell_type": "markdown",
   "metadata": {
    "id": "wZUGg4aASpe6"
   },
   "source": [
    "## กระบวนการตรวจสอบข้อมูล ก่อนทำโมเดล ARIMA\n",
    "\n"
   ]
  },
  {
   "cell_type": "markdown",
   "metadata": {
    "id": "yxy6xLZjTDpc"
   },
   "source": [
    "### ทดสอบ Stationary ของข้อมูล\n",
    "Stationary คือข้อมูลที่มีค่าเฉลี่ย (Mean) และความแปรปรวน (Variance) คงที่เมื่อเวลาผ่านไป ดังนั้นข้อมูลทุกประเภทที่มีแนวโน้ม (Trend) หรือ ฤดูกาล (Season) จะไม่ถือว่าเป็น Stationary และไม่สามารถนำข้อมูลมาใช้ใน Model ได้ ต้องมีการปรับข้อมูลในเบื้องต้นก่อน\n",
    "\n",
    "---\n",
    "\n",
    "\n",
    "\n",
    "*หมายเหตุ:*\n",
    "\n",
    "แนวโน้ม (Trend) คือ การเคลื่อนไหวของข้อมูลที่ต่อเนื่องกันในระยะยาวอย่างชัดเจน ไม่ว่าจะขึ้นหรือลง และลักษณะแนวโน้ม นั้นอาจจะมีแนวโน้มเป็นเส้นตรงหรือเส้นโค้งก็ได้  \n",
    "\n",
    "ฤดูกาล (Seasonal) คือ การเปลี่ยนแปลงของข้อมูลที่เกิดขึ้นเนื่องจากอิทธิพลของ ฤดูกาล หรือช่วงเวลา ซึ่งจะเกิดขึ้นซ้ำๆ กัน ในช่วงเวลาเดียวกัน อาจจะเป็น รายเดือน รายไตรมาส หรือรายปีก็ได้  ![trend.jpg](data:image/jpeg;base64,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)"
   ]
  },
  {
   "cell_type": "markdown",
   "metadata": {
    "id": "I1yugr2hUxv2"
   },
   "source": [
    "*อ้างอิง: บทความ Forecasting Model ด้วย Machine Learning ของ CORALINE*"
   ]
  },
  {
   "cell_type": "markdown",
   "metadata": {
    "id": "yK17Mz1fV-gR"
   },
   "source": [
    "วิธีการทดสอบ สามารถทดสอบด้วยวิธี Augmented Dickey–Fuller test (ADF)"
   ]
  },
  {
   "cell_type": "markdown",
   "metadata": {
    "id": "nmk3qq18WCCD"
   },
   "source": [
    "#### Augmented Dickey–Fuller test (ADF)"
   ]
  },
  {
   "cell_type": "markdown",
   "metadata": {
    "id": "0dPkBVCqXf-p"
   },
   "source": [
    "ใน Python มี Package ที่ชื่อว่า adfuller ที่ใช้ในการทำหา p-value ของ ADF-Test ซึ่งถ้า p-value มีค่าน้อยกว่า 0.05 จะสามารถสรุปได้ว่า Time series นั้นเป็น Stationary ตัวอย่างการใช้งานของโค้ด จะแสดงด้านล่าง\n",
    "\n",
    "สามารถดูรายละเอียดเพิ่มเติมได้ที่: \n",
    "https://www.statsmodels.org/stable/generated/statsmodels.tsa.stattools.adfuller.html\n",
    "\n",
    "---\n",
    "\n"
   ]
  },
  {
   "cell_type": "markdown",
   "metadata": {
    "id": "oP7lrPSYM2Bh"
   },
   "source": [
    "## Imports"
   ]
  },
  {
   "cell_type": "code",
   "execution_count": null,
   "metadata": {
    "colab": {
     "base_uri": "https://localhost:8080/"
    },
    "executionInfo": {
     "elapsed": 721,
     "status": "ok",
     "timestamp": 1623813130276,
     "user": {
      "displayName": "Sittichai Sridet",
      "photoUrl": "https://lh3.googleusercontent.com/a-/AOh14GjGHB0hr_ojqDDkCOq3I3y6wdEfMncCnupvfjMW=s64",
      "userId": "13931377536999818395"
     },
     "user_tz": -420
    },
    "id": "CpzCmg2wHL5p",
    "outputId": "5d11a8f0-0891-4cb5-bf92-a1d82b4830c1"
   },
   "outputs": [],
   "source": [
    "import pandas as pd\n",
    "import numpy as np\n",
    "import seaborn as sns\n",
    "from matplotlib import pyplot as plt\n",
    "from pylab import rcParams"
   ]
  },
  {
   "cell_type": "markdown",
   "metadata": {
    "id": "UscKDOekM5F0"
   },
   "source": [
    "## ดาวน์โหลดข้อมูล\n",
    "\n",
    "ชุดข้อมูลที่ใช้คือข้อมูลของยอดขายแชมพูในระยะเวลา 3 ปี ของแชมพูจำนวน 36 ชิ้น "
   ]
  },
  {
   "cell_type": "code",
   "execution_count": null,
   "metadata": {
    "id": "2DwmtPJfG5PI"
   },
   "outputs": [],
   "source": [
    "data_path = '../data/superstore.csv'\n",
    " \n",
    "data = pd.read_csv(data_path,encoding = \"ISO-8859-1\")\n",
    "data.head()"
   ]
  },
  {
   "cell_type": "code",
   "execution_count": null,
   "metadata": {},
   "outputs": [],
   "source": [
    "data['Order Date'] = pd.to_datetime(data['Order Date'])\n",
    "monthly_sales = data.groupby([pd.Grouper(key='Order Date', freq='ME'), 'Category'])['Sales'].sum()\n",
    "monthly_sales.head()"
   ]
  },
  {
   "cell_type": "code",
   "execution_count": null,
   "metadata": {
    "id": "s8FFbyfcO_eE"
   },
   "outputs": [],
   "source": [
    "# กำหนดให้ดัชนี (index) ของ Dataframe เป็นหน่วยรายเดือน\n",
    "sales_df = pd.DataFrame(monthly_sales).reset_index()\n",
    "sales_df.head()"
   ]
  },
  {
   "cell_type": "code",
   "execution_count": null,
   "metadata": {
    "colab": {
     "base_uri": "https://localhost:8080/",
     "height": 1000
    },
    "executionInfo": {
     "elapsed": 7,
     "status": "ok",
     "timestamp": 1623813132348,
     "user": {
      "displayName": "Sittichai Sridet",
      "photoUrl": "https://lh3.googleusercontent.com/a-/AOh14GjGHB0hr_ojqDDkCOq3I3y6wdEfMncCnupvfjMW=s64",
      "userId": "13931377536999818395"
     },
     "user_tz": -420
    },
    "id": "vDA6ZIfyll0F",
    "outputId": "ec7d8c65-7427-4976-f83a-6b955b7daa86"
   },
   "outputs": [],
   "source": [
    "monthly_sales_df = sales_df.pivot_table(index='Order Date', values='Sales', aggfunc='sum')\n",
    "monthly_sales_df.index.name = 'Month'\n",
    "monthly_sales_df.head()"
   ]
  },
  {
   "cell_type": "markdown",
   "metadata": {
    "id": "p8ZSRDrVk2P0"
   },
   "source": [
    "# การสำรวจข้อมูลเบื้องต้น (EDA)"
   ]
  },
  {
   "cell_type": "code",
   "execution_count": null,
   "metadata": {
    "colab": {
     "base_uri": "https://localhost:8080/"
    },
    "executionInfo": {
     "elapsed": 314,
     "status": "ok",
     "timestamp": 1623816490455,
     "user": {
      "displayName": "Sittichai Sridet",
      "photoUrl": "https://lh3.googleusercontent.com/a-/AOh14GjGHB0hr_ojqDDkCOq3I3y6wdEfMncCnupvfjMW=s64",
      "userId": "13931377536999818395"
     },
     "user_tz": -420
    },
    "id": "qvp_tA4rASj2",
    "outputId": "81b59a1f-6eac-4a53-935e-481f13a960d5"
   },
   "outputs": [],
   "source": [
    "# ตรวจสอบขนาดของข้อมูล\n",
    "monthly_sales_df.shape"
   ]
  },
  {
   "cell_type": "code",
   "execution_count": null,
   "metadata": {
    "colab": {
     "base_uri": "https://localhost:8080/",
     "height": 297
    },
    "executionInfo": {
     "elapsed": 317,
     "status": "ok",
     "timestamp": 1623815516064,
     "user": {
      "displayName": "Sittichai Sridet",
      "photoUrl": "https://lh3.googleusercontent.com/a-/AOh14GjGHB0hr_ojqDDkCOq3I3y6wdEfMncCnupvfjMW=s64",
      "userId": "13931377536999818395"
     },
     "user_tz": -420
    },
    "id": "nQfuS1Jd8lD1",
    "outputId": "f1cba729-668c-4d91-e1b2-e2efca7e6483"
   },
   "outputs": [],
   "source": [
    "# ค่าทางสถิติของชุดข้อมูล\n",
    "monthly_sales_df.describe()"
   ]
  },
  {
   "cell_type": "code",
   "execution_count": null,
   "metadata": {},
   "outputs": [],
   "source": [
    "monthly_sales_df"
   ]
  },
  {
   "cell_type": "code",
   "execution_count": null,
   "metadata": {
    "colab": {
     "base_uri": "https://localhost:8080/",
     "height": 374
    },
    "executionInfo": {
     "elapsed": 451,
     "status": "ok",
     "timestamp": 1623813135413,
     "user": {
      "displayName": "Sittichai Sridet",
      "photoUrl": "https://lh3.googleusercontent.com/a-/AOh14GjGHB0hr_ojqDDkCOq3I3y6wdEfMncCnupvfjMW=s64",
      "userId": "13931377536999818395"
     },
     "user_tz": -420
    },
    "id": "gXDkBBrGoLAW",
    "outputId": "2ebe1913-7043-488d-9855-c32cf2dcdd5d"
   },
   "outputs": [],
   "source": [
    "# สร้างกราฟแสดงยอดขาย\n",
    "monthly_sales_plot = monthly_sales_df.reset_index()\n",
    "plt.figure(figsize=(10,6))\n",
    "plt.plot(monthly_sales_plot['Sales'])\n",
    "plt.show()"
   ]
  },
  {
   "cell_type": "code",
   "execution_count": null,
   "metadata": {
    "colab": {
     "base_uri": "https://localhost:8080/",
     "height": 405
    },
    "executionInfo": {
     "elapsed": 886,
     "status": "ok",
     "timestamp": 1623813361062,
     "user": {
      "displayName": "Sittichai Sridet",
      "photoUrl": "https://lh3.googleusercontent.com/a-/AOh14GjGHB0hr_ojqDDkCOq3I3y6wdEfMncCnupvfjMW=s64",
      "userId": "13931377536999818395"
     },
     "user_tz": -420
    },
    "id": "cG1t6GmUzxL1",
    "outputId": "932e536c-403b-4717-8d50-1d767c6291b0"
   },
   "outputs": [],
   "source": [
    "# แปลงข้อมูลจากตัวเลขให้เป็นตัวอักษร เช่น เดือน 12 แปลงเป็น DEC\n",
    "monthly_sales_plot['month'] = pd.to_datetime(monthly_sales_plot['Month']).dt.strftime('%b')\n",
    "\n",
    "# สร้างกราฟ box plot เพื่อดูลักษณะของชุดข้อมูลแยกตามเดือน\n",
    "sns.boxplot(x='month', y='Sales', data= monthly_sales_plot)\n"
   ]
  },
  {
   "cell_type": "code",
   "execution_count": null,
   "metadata": {
    "colab": {
     "base_uri": "https://localhost:8080/",
     "height": 653
    },
    "executionInfo": {
     "elapsed": 1285,
     "status": "ok",
     "timestamp": 1623813621909,
     "user": {
      "displayName": "Sittichai Sridet",
      "photoUrl": "https://lh3.googleusercontent.com/a-/AOh14GjGHB0hr_ojqDDkCOq3I3y6wdEfMncCnupvfjMW=s64",
      "userId": "13931377536999818395"
     },
     "user_tz": -420
    },
    "id": "URA_EIjdzxOd",
    "outputId": "a4f812f3-e524-48b9-8034-3ef6193da241"
   },
   "outputs": [],
   "source": [
    "# สร้างชุดข้อมูล\n",
    "m1 = monthly_sales_plot['Sales'].iloc[:12].values\n",
    "m2 = monthly_sales_plot['Sales'].iloc[12:24].values\n",
    "m3 = monthly_sales_plot['Sales'].iloc[24:36].values\n",
    "m4 = monthly_sales_plot['Sales'].iloc[36:48].values\n",
    "# สร้างกราฟแสดงยอดขายแยกตามปี\n",
    "fig = plt.figure(figsize = (20,10))\n",
    "plt.plot(m1)\n",
    "plt.plot(m2)\n",
    "plt.plot(m3)\n",
    "plt.plot(m4)\n",
    "\n",
    "# สร้างชื่อแกนของกราฟ\n",
    "plt.title('Sales 4 years ', fontsize=20)\n",
    "plt.xlabel('Time', fontsize=20)\n",
    "plt.ylabel('Sales', fontsize=20)\n",
    "plt.legend(['2014','2015', '2016','2017'], fontsize=20)"
   ]
  },
  {
   "cell_type": "markdown",
   "metadata": {
    "id": "AstCYC2Ql8-I"
   },
   "source": [
    "1. **การแยกองค์ประกอบของข้อมูลอนุกรมเวลา** การแยกข้อมูล Time Series ทำให้เราสามารถวิเคราะห์ Time Series ได้ง่ายขึ้น เพราะในหลาย ๆ ครั้งเราต้องการทำนายเฉพาะส่วนหรือต้องการวิเคราะห์เฉพาะส่วนของ Time Series กล่าวคือในการวิเคราะห์จะสนใจองค์ประกอบเพียง 2 ตัวคือ Trend และ Seasonal เราสามารถสามารถแยกอนุกรมเวลาโดยพิจารณาโดยใช้ seasonal_decompose ในstatsmodels"
   ]
  },
  {
   "cell_type": "code",
   "execution_count": null,
   "metadata": {
    "colab": {
     "base_uri": "https://localhost:8080/",
     "height": 441
    },
    "executionInfo": {
     "elapsed": 1842,
     "status": "ok",
     "timestamp": 1623813138703,
     "user": {
      "displayName": "Sittichai Sridet",
      "photoUrl": "https://lh3.googleusercontent.com/a-/AOh14GjGHB0hr_ojqDDkCOq3I3y6wdEfMncCnupvfjMW=s64",
      "userId": "13931377536999818395"
     },
     "user_tz": -420
    },
    "id": "s5rMyfHrk1rE",
    "outputId": "a25c72fc-0632-4459-f832-1ac36cf54243"
   },
   "outputs": [],
   "source": [
    "from statsmodels.tsa.seasonal import seasonal_decompose# การแสดงกราฟของผลลัพธ์การแยกองค์ประกอบของข้อมูลด้วยวิธี Decomposition\n",
    "decomposition = seasonal_decompose(monthly_sales_df)\n",
    "rcParams['figure.figsize'] = 8, 6\n",
    "decomposition.plot()\n",
    "plt.show()\n",
    "\n",
    "# Source: https://machinelearningmastery.com/decompose-time-series-data-trend-seasonality/"
   ]
  },
  {
   "cell_type": "code",
   "execution_count": null,
   "metadata": {
    "colab": {
     "base_uri": "https://localhost:8080/",
     "height": 409
    },
    "executionInfo": {
     "elapsed": 8,
     "status": "ok",
     "timestamp": 1623813139119,
     "user": {
      "displayName": "Sittichai Sridet",
      "photoUrl": "https://lh3.googleusercontent.com/a-/AOh14GjGHB0hr_ojqDDkCOq3I3y6wdEfMncCnupvfjMW=s64",
      "userId": "13931377536999818395"
     },
     "user_tz": -420
    },
    "id": "TIeGbCeMk1tU",
    "outputId": "88250ea0-8766-4bec-a9dc-09a0e65dcc4d"
   },
   "outputs": [],
   "source": [
    "# การสร้างกราฟ\n",
    "plt.plot(monthly_sales_df)\n",
    "plt.plot(decomposition.trend.index, decomposition.trend, c='red')\n",
    "\n",
    "# การใส่ชื่อของแกนและหัวข้อกราฟ\n",
    "plt.title('Trend analysis ', fontsize=14)\n",
    "plt.xlabel('Time', fontsize=14)\n",
    "plt.ylabel('Sale (Baht)', fontsize=14)\n",
    "plt.legend(['Sale', 'Trend'], fontsize=14)\n",
    "\n",
    "plt.show()"
   ]
  },
  {
   "cell_type": "code",
   "execution_count": null,
   "metadata": {
    "colab": {
     "base_uri": "https://localhost:8080/",
     "height": 390
    },
    "executionInfo": {
     "elapsed": 361,
     "status": "ok",
     "timestamp": 1623816129122,
     "user": {
      "displayName": "Sittichai Sridet",
      "photoUrl": "https://lh3.googleusercontent.com/a-/AOh14GjGHB0hr_ojqDDkCOq3I3y6wdEfMncCnupvfjMW=s64",
      "userId": "13931377536999818395"
     },
     "user_tz": -420
    },
    "id": "88J7oFss-uqm",
    "outputId": "f6cf3f6c-85be-4c07-c3c3-9a11b30cef10"
   },
   "outputs": [],
   "source": [
    "from statsmodels.graphics import tsaplots\n",
    "\n",
    "# Display the autocorrelation plot of your time series\n",
    "fig = tsaplots.plot_acf(monthly_sales_plot['Total Sales'], lags=24)\n",
    "plt.show()"
   ]
  },
  {
   "cell_type": "markdown",
   "metadata": {
    "id": "uxmVXTbkZeS5"
   },
   "source": [
    "## ตรวจสอบ Stationary ด้วย Augmented Dickey–Fuller test (ADF)"
   ]
  },
  {
   "cell_type": "markdown",
   "metadata": {
    "id": "WOxsw6FQp0M_"
   },
   "source": [
    "สมติฐาน ของการทดสอบ\n",
    "\n",
    "H0: Non Stationary\n",
    "\n",
    "H1: Stationary"
   ]
  },
  {
   "cell_type": "code",
   "execution_count": null,
   "metadata": {
    "colab": {
     "base_uri": "https://localhost:8080/"
    },
    "executionInfo": {
     "elapsed": 427,
     "status": "ok",
     "timestamp": 1623813143744,
     "user": {
      "displayName": "Sittichai Sridet",
      "photoUrl": "https://lh3.googleusercontent.com/a-/AOh14GjGHB0hr_ojqDDkCOq3I3y6wdEfMncCnupvfjMW=s64",
      "userId": "13931377536999818395"
     },
     "user_tz": -420
    },
    "id": "DCKm1oPAZiT9",
    "outputId": "dafc1530-e839-4cd7-e556-8d12498ceed0"
   },
   "outputs": [],
   "source": [
    "from statsmodels.tsa.stattools import adfuller\n",
    "result = adfuller(monthly_sales_df['Total Sales'])\n",
    "print(f'ADF Statistic: {result[0]}')\n",
    "print(f'p-value: {result[1]}')\n",
    "print('Critical Values:')\n",
    "for key, value in result[4].items():\n",
    "    print(f'\\t{key}: {value}')"
   ]
  },
  {
   "cell_type": "markdown",
   "metadata": {},
   "source": [
    "🔍 วิธีแปลผล ADF Test\n",
    "\n",
    "- **ADF Statistic:** -4.4938  \n",
    "    ค่านี้เป็นผลลัพธ์จากการทดสอบ ADF ซึ่งจะถูกนำไปเปรียบเทียบกับค่า critical value\n",
    "\n",
    "- **p-value:** 0.00020  \n",
    "    ค่านี้ต่ำกว่า 0.05 มาก แสดงว่ามีนัยสำคัญทางสถิติ → ปฏิเสธสมมุติฐานตั้งต้น (null hypothesis)\n",
    "\n",
    "- **Critical Values:**  \n",
    "    - ที่ระดับความเชื่อมั่น 1%: -3.5778  \n",
    "    - ค่าที่ได้ (-4.4938) ต่ำกว่าค่า critical value ที่ 1%  \n",
    "    ⇒ มีหลักฐานชัดเจนว่าข้อมูลชุดนี้เป็น Stationary"
   ]
  },
  {
   "cell_type": "markdown",
   "metadata": {},
   "source": [
    "💡 ความหมายเชิงวิเคราะห์:\n",
    "\n",
    "- ข้อมูลยอดขายรายเดือน **ไม่มีแนวโน้ม (trend)** หรือ **ฤดูกาลที่แรง**\n",
    "- สามารถนำไปใช้กับโมเดลอย่าง **ARIMA** ได้เลย (ซึ่งต้องการข้อมูลที่ stationary)"
   ]
  },
  {
   "cell_type": "markdown",
   "metadata": {
    "id": "nztALz7euk8Y"
   },
   "source": [
    "## สร้างโมเดล ARIMA"
   ]
  },
  {
   "cell_type": "code",
   "execution_count": null,
   "metadata": {},
   "outputs": [],
   "source": [
    "from statsforecast import StatsForecast\n",
    "from statsforecast.models import AutoARIMA"
   ]
  },
  {
   "cell_type": "code",
   "execution_count": null,
   "metadata": {},
   "outputs": [],
   "source": [
    "time_series_df = monthly_sales_df.reset_index()\n",
    "time_series_df.rename(columns = {'Month': 'ds', 'Sales': 'y'}, inplace = True)\n",
    "time_series_df['unique_id'] = 'all'\n",
    "test = time_series_df.iloc[-6:]\n",
    "train = time_series_df.iloc[:-6]\n",
    "time_series_df.head()"
   ]
  },
  {
   "cell_type": "code",
   "execution_count": null,
   "metadata": {},
   "outputs": [],
   "source": [
    "models = [AutoARIMA(season_length=12)]\n",
    "sf_ARIMA = StatsForecast(models = models, freq='ME')\n",
    "sf_ARIMA.fit(train)"
   ]
  },
  {
   "cell_type": "code",
   "execution_count": null,
   "metadata": {},
   "outputs": [],
   "source": [
    "forecast_df = sf_ARIMA.forecast(df=train, level= [90], h = 6)\n",
    "forecast_df"
   ]
  },
  {
   "cell_type": "code",
   "execution_count": null,
   "metadata": {},
   "outputs": [],
   "source": [
    "sf_ARIMA.plot(time_series_df, forecast_df, level=[90])"
   ]
  },
  {
   "cell_type": "code",
   "execution_count": null,
   "metadata": {},
   "outputs": [],
   "source": [
    "\n",
    "from sklearn.metrics import mean_absolute_error, mean_squared_error\n",
    "import numpy as np\n",
    "\n",
    "# ดึงค่าพยากรณ์จาก forecast_df\n",
    "y_pred = forecast_df['AutoARIMA'].values\n",
    "\n",
    "# ดึงค่าจริงจาก test\n",
    "y_true = test['y'].values\n",
    "\n",
    "# คำนวณ MAE และ RMSE\n",
    "mae = mean_absolute_error(y_true, y_pred)\n",
    "rmse = np.sqrt(mean_squared_error(y_true, y_pred))\n",
    "\n",
    "print(f'MAE: {mae:.2f}')\n",
    "print(f'RMSE: {rmse:.2f}')"
   ]
  },
  {
   "cell_type": "markdown",
   "metadata": {},
   "source": [
    "| ตัวชี้วัด                          | ความหมาย                                                 | ยิ่งต่ำ ยิ่งดี? |\n",
    "| ---------------------------------- | -------------------------------------------------------- | --------------- |\n",
    "| **MAE** (Mean Absolute Error)      | ความคลาดเคลื่อนเฉลี่ยแบบสัมบูรณ์                         | ✅ ใช่           |\n",
    "| **RMSE** (Root Mean Squared Error) | ความคลาดเคลื่อนเฉลี่ยกำลังสอง (เน้น penalize error ใหญ่) | ✅ ใช่           |\n"
   ]
  },
  {
   "cell_type": "markdown",
   "metadata": {
    "id": "xVuSkKlWIXmK"
   },
   "source": [
    "\n",
    "\n",
    "---\n",
    "\n"
   ]
  },
  {
   "cell_type": "markdown",
   "metadata": {
    "id": "oZ7CR3QGIZGN"
   },
   "source": [
    "# พื้นที่สำหรับการทดลอง\n",
    "\n",
    "🔧 Challenge เพิ่มเติม:\n",
    "\n",
    "เปรียบเทียบ MAE และ RMSE ที่ได้กับ baseline (เช่น ค่าเฉลี่ย 6 เดือนหลัง)\n",
    "\n",
    "ลองใช้ season_length ที่ต่างออกไป (เช่น 1 หรือ 6) แล้วดูว่า error ดีขึ้นหรือแย่ลง"
   ]
  },
  {
   "cell_type": "code",
   "execution_count": null,
   "metadata": {
    "id": "HvAoAOErIx3T"
   },
   "outputs": [],
   "source": [
    "from sklearn.metrics import mean_absolute_error, mean_squared_error\n",
    "import numpy as np\n",
    "\n",
    "# --- ค่าทำนายจาก AutoARIMA ---\n",
    "y_pred_arima = forecast_df['AutoARIMA'].values\n",
    "y_true = test['y'].values\n",
    "\n",
    "mae_arima = mean_absolute_error(y_true, y_pred_arima)\n",
    "rmse_arima = np.sqrt(mean_squared_error(y_true, y_pred_arima))\n",
    "\n",
    "# --- Baseline: ใช้ค่าเฉลี่ย 6 เดือนล่าสุดจาก train ---\n",
    "baseline_value = train['y'].iloc[-6:].mean()\n",
    "y_pred_baseline = [baseline_value] * len(y_true)\n",
    "\n",
    "mae_baseline = mean_absolute_error(y_true, y_pred_baseline)\n",
    "rmse_baseline = np.sqrt(mean_squared_error(y_true, y_pred_baseline))\n",
    "\n",
    "# --- แสดงผลเปรียบเทียบ ---\n",
    "print(\"📊 เปรียบเทียบ MAE และ RMSE\")\n",
    "print(f\"AutoARIMA    - MAE: {mae_arima:.2f}, RMSE: {rmse_arima:.2f}\")\n",
    "print(f\"Baseline AVG - MAE: {mae_baseline:.2f}, RMSE: {rmse_baseline:.2f}\")\n"
   ]
  },
  {
   "cell_type": "code",
   "execution_count": null,
   "metadata": {
    "id": "YSkuFZ18Ix1H"
   },
   "outputs": [],
   "source": [
    "plt.figure(figsize=(10, 5))\n",
    "plt.plot(test['ds'], y_true, label='Actual', marker='o')\n",
    "plt.plot(test['ds'], y_pred_arima, label='AutoARIMA', marker='x')\n",
    "plt.plot(test['ds'], y_pred_baseline, label='Baseline Avg', linestyle='--')\n",
    "plt.title('Forecast vs Actual (ARIMA vs Baseline)')\n",
    "plt.xlabel('Date')\n",
    "plt.ylabel('Sales')\n",
    "plt.legend()\n",
    "plt.grid(True)\n",
    "plt.show()\n"
   ]
  },
  {
   "cell_type": "code",
   "execution_count": null,
   "metadata": {
    "id": "UheoD_dvIo91"
   },
   "outputs": [],
   "source": [
    "from statsforecast import StatsForecast\n",
    "from statsforecast.models import AutoARIMA\n",
    "from sklearn.metrics import mean_absolute_error, mean_squared_error\n",
    "import numpy as np\n",
    "\n",
    "# เตรียมตัวแปรเก็บผลลัพธ์\n",
    "results = []\n",
    "\n",
    "# ลูปลอง season_length หลายค่า\n",
    "for season in [1, 6, 12]:\n",
    "    print(f\"🔁 ลอง season_length = {season}\")\n",
    "    \n",
    "    # สร้างโมเดล\n",
    "    model = StatsForecast(\n",
    "        models=[AutoARIMA(season_length=season)],\n",
    "        freq='ME',\n",
    "        n_jobs=1\n",
    "    )\n",
    "    \n",
    "    # เทรน\n",
    "    model_fit = model.fit(train)\n",
    "    \n",
    "    # พยากรณ์ 6 เดือน\n",
    "    forecast = model_fit.predict(h=6)\n",
    "    \n",
    "    # ดึงค่าที่ใช้คำนวณ\n",
    "    y_pred = forecast['AutoARIMA'].values\n",
    "    y_true = test['y'].values\n",
    "    \n",
    "    # วัดค่า error\n",
    "    mae = mean_absolute_error(y_true, y_pred)\n",
    "    rmse = np.sqrt(mean_squared_error(y_true, y_pred))\n",
    "    \n",
    "    print(f\"MAE = {mae:.2f}, RMSE = {rmse:.2f}\\n\")\n",
    "    \n",
    "    # เก็บผล\n",
    "    results.append({'season_length': season, 'MAE': mae, 'RMSE': rmse})\n"
   ]
  },
  {
   "cell_type": "markdown",
   "metadata": {},
   "source": [
    "| season\\_length | MAE (ยิ่งต่ำยิ่งดี) | RMSE (ยิ่งต่ำยิ่งดี) |\n",
    "| -------------- | ------------------- | -------------------- |\n",
    "| `1`            | 36,029.70           | 42,500.49            |\n",
    "| `6`            | 18,037.11           | 21,631.83            |\n",
    "| `12`           | ✅ **15,716.51**     | ✅ **19,074.05**      |\n",
    "\n",
    "✅ ข้อสรุปเชิงวิเคราะห์\n",
    "- เมื่อ season_length = 12 (หมายถึงมีลักษณะ วนซ้ำทุก 12 เดือน) → ได้ค่าพยากรณ์ที่แม่นยำที่สุดทั้ง MAE และ RMSE\n",
    "\n",
    "- แสดงว่า ยอดขายในธุรกิจนี้มี seasonality รายปีชัดเจน (เช่น ขายดีช่วงคริสต์มาส, ปีใหม่, ฤดูกาลท่องเที่ยว)\n",
    "\n",
    "- ใช้ season_length = 1 ไม่สามารถจับรูปแบบ seasonality ได้ → error สูงมาก\n",
    "\n"
   ]
  }
 ],
 "metadata": {
  "colab": {
   "collapsed_sections": [],
   "name": "lab4_forecasting.ipynb",
   "provenance": [],
   "toc_visible": true
  },
  "kernelspec": {
   "display_name": ".venv",
   "language": "python",
   "name": "python3"
  },
  "language_info": {
   "codemirror_mode": {
    "name": "ipython",
    "version": 3
   },
   "file_extension": ".py",
   "mimetype": "text/x-python",
   "name": "python",
   "nbconvert_exporter": "python",
   "pygments_lexer": "ipython3",
   "version": "3.12.9"
  }
 },
 "nbformat": 4,
 "nbformat_minor": 0
}
