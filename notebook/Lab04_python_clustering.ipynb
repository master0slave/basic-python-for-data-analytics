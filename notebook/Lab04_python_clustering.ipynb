{
 "cells": [
  {
   "cell_type": "markdown",
   "metadata": {
    "id": "PYXicbJavshM"
   },
   "source": [
    "# Python: Lab 3 Clustering: User Profiling and Segmentation\n",
    "\n",
    "K-Means Clustering ด้วย Scikit-Learn"
   ]
  },
  {
   "cell_type": "markdown",
   "metadata": {
    "id": "dVTZOjKJvnjf"
   },
   "source": [
    "K-mean clustering คือ Algorithm ที่อยู่ในกลุ่มของ Machine Learning ประเภท Unsupervised Learning หรือ Machine Learning ที่มีลักษณะการเรียนรู้แบบ “ไม่มีผู้สอน”  การเรียนรู้แบบไม่มีผู้สอนนี้สามารถอธิบายได้ว่า Algorithm จะทำการเรียนรู้จากรูปแบบของข้อมูลเท่านั้น โดยไม่มีความจำเป็นต้องมีการ Label ที่ถูกต้องแก่โมเดล"
   ]
  },
  {
   "cell_type": "markdown",
   "metadata": {
    "id": "PR0OjIjpv7F-"
   },
   "source": [
    "K-mean clustering เป็น Algorithm ที่ใช้ในการแบ่งกลุ่มของข้อมูล โดยจะทำการแบ่งข้อมูลออกเป็นกลุ่มๆ ตามคุณลักษณะของข้อมูลนั้นๆ โดยที่ K-mean clustering จะทำการจัดกลุ่มข้อมูลที่มีลักษณะใกล้เคียงกันเข้าด้วยกันและแยกข้อมูลที่มีลักษณะต่างกันออกจากกัน ขั้นตอนการทำงานที่สำคัญของ K-mean cluster แบ่งออกเป็น 3 ขั้นตอนย่อยๆ ดังนี้\n",
    "1. กำหนดจุดเริ่มต้นของ Centroid (Initialize centroids)\n",
    "2. จัดข้อมูลเข้าไปในกลุ่มของ Centroid ที่อยู่ใกล้ที่สุด (Data assignment)\n",
    "3. อัปเดต Centroid "
   ]
  },
  {
   "cell_type": "markdown",
   "metadata": {
    "id": "mUzFhyE-Dn1F"
   },
   "source": [
    "![download.png](data:image/png;base64,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)"
   ]
  },
  {
   "cell_type": "markdown",
   "metadata": {},
   "source": [
    "## User Profiling and Segmentation using Python\n",
    "\n",
    "การทำโปรไฟล์ผู้ใช้งาน `(User Profiling)` คือกระบวนการสร้างข้อมูลรายละเอียดของผู้ใช้งานแต่ละคน เพื่อสะท้อนพฤติกรรมและความชอบของพวกเขาอย่างชัดเจน ส่วนการแบ่งกลุ่มผู้ใช้งาน `(Segmentation)` คือการจัดกลุ่มผู้ใช้งานออกเป็นกลุ่มย่อย ๆ ตามลักษณะหรือพฤติกรรมที่คล้ายกัน เพื่อให้ง่ายต่อการทำการตลาดเฉพาะกลุ่ม หรือการออกแบบสินค้าและบริการให้ตรงใจมากขึ้น"
   ]
  },
  {
   "cell_type": "markdown",
   "metadata": {},
   "source": [
    "**การทำโปรไฟล์และการแบ่งกลุ่มผู้ใช้งาน: กระบวนการที่สามารถนำไปใช้ได้**\n",
    "\n",
    "การทำโปรไฟล์และการแบ่งกลุ่มผู้ใช้งาน (User Profiling and Segmentation) เป็นเทคนิคที่ทรงพลัง ซึ่งช่วยให้นักวิเคราะห์ข้อมูลเข้าใจกลุ่มผู้ใช้งานอย่างลึกซึ้ง และสามารถออกแบบกลยุทธ์ให้เหมาะกับความต้องการที่หลากหลายของผู้ใช้งานแต่ละกลุ่มได้\n",
    "\n",
    "สำหรับการเรียนรู้ใน workshop ระดับเริ่มต้น เราสามารถทำตามขั้นตอนเหล่านี้ได้:\n",
    "\n",
    "**1. กำหนดเป้าหมายให้ชัดเจน**\n",
    "    เริ่มจากการตั้งคำถามว่าเราต้องการทำโปรไฟล์และแบ่งกลุ่มผู้ใช้งานเพื่ออะไร เช่น เพื่อปรับปรุงการบริการลูกค้า ทำการตลาดแบบเฉพาะบุคคล หรือแนะนำสินค้า/บริการให้ตรงกับความสนใจ\n",
    "\n",
    "**2. รวบรวมข้อมูลจากหลายแหล่ง**\n",
    "     ข้อมูลการใช้งานเว็บไซต์หรือแอปพลิเคชัน ประวัติการทำธุรกรรม กิจกรรมบนโซเชียลมีเดีย หรือข้อมูลพื้นฐานของผู้ใช้งาน\n",
    "\n",
    "**3. สร้างฟีเจอร์ที่สะท้อนพฤติกรรมและความชอบของผู้ใช้**\n",
    "    เช่น การรวมยอดการซื้อ การนับความถี่ของการเข้าใช้งาน หรือการดึงรูปแบบการใช้งานจากบันทึกระบบต่าง ๆ\n",
    "\n",
    "**4. เลือกเทคนิคการแบ่งกลุ่มที่เหมาะสม**\n",
    "    เทคนิคที่ใช้ควรขึ้นอยู่กับลักษณะของข้อมูลและวัตถุประสงค์ เช่น การใช้ k-means clustering สำหรับข้อมูลตัวเลขจำนวนมาก\n",
    "\n",
    "**5. สร้างโปรไฟล์สำหรับแต่ละกลุ่ม**\n",
    "    เมื่อได้กลุ่มผู้ใช้งานแล้ว ให้สรุปลักษณะเด่นของแต่ละกลุ่ม เช่น ความถี่ในการใช้งาน ความสนใจหลัก หรือพฤติกรรมที่พบร่วมกันในกลุ่มนั้น ๆ"
   ]
  },
  {
   "cell_type": "markdown",
   "metadata": {
    "id": "QmIwSj8mfR9_"
   },
   "source": [
    "## ข้อมูลที่ใช้"
   ]
  },
  {
   "cell_type": "markdown",
   "metadata": {
    "id": "YulTBxq7xzmO"
   },
   "source": [
    "**ความหมายของคอลัมม์**\n",
    "\n",
    "ต่อไปนี้คือภาพรวมของคอลัมน์ทั้งหมดในชุดข้อมูล ซึ่งเราจะใช้ในการเรียนรู้เรื่องการทำโปรไฟล์และแบ่งกลุ่มผู้ใช้งาน เหมาะสำหรับผู้เริ่มต้นที่กำลังฝึกวิเคราะห์ข้อมูลใน workshop นี้:\n",
    "\n",
    "**User ID**: รหัสเฉพาะที่ใช้ระบุแต่ละผู้ใช้งาน (เหมือนหมายเลขประจำตัว)\n",
    "\n",
    "**Age**: ช่วงอายุของผู้ใช้งาน\n",
    "\n",
    "**Gender**: เพศของผู้ใช้งาน\n",
    "\n",
    "**Location**: ประเภทพื้นที่ที่ผู้ใช้อาศัยอยู่ เช่น ในเมือง (Urban), ชานเมือง (Suburban), หรือชนบท (Rural)\n",
    "\n",
    "**Language**: ภาษาหลักที่ผู้ใช้งานใช้\n",
    "\n",
    "**Education Level**: ระดับการศึกษาสูงสุดที่ผู้ใช้จบมา\n",
    "\n",
    "**Likes and Reactions**: จำนวนการกดไลก์หรือแสดงความรู้สึกที่ผู้ใช้เคยทำ\n",
    "\n",
    "**Followed Accounts**: จำนวนบัญชีที่ผู้ใช้กดติดตาม\n",
    "\n",
    "**Device Usage**: อุปกรณ์หลักที่ผู้ใช้ใช้เข้าสู่แพลตฟอร์ม เช่น มือถือ คอมพิวเตอร์ หรือแท็บเล็ต\n",
    "\n",
    "**Time Spent Online (hrs/weekday)**: ชั่วโมงเฉลี่ยที่ผู้ใช้ใช้งานออนไลน์ในวันธรรมดา (จันทร์–ศุกร์)\n",
    "\n",
    "**Time Spent Online (hrs/weekend)**: ชั่วโมงเฉลี่ยที่ผู้ใช้ใช้งานออนไลน์ในวันหยุดสุดสัปดาห์ (เสาร์–อาทิตย์)\n",
    "\n",
    "**Click-Through Rates (CTR)**: อัตราการคลิกโฆษณาเมื่อเห็น (คิดเป็นเปอร์เซ็นต์)\n",
    "\n",
    "**Conversion Rates**: อัตราการกระทำที่เกิดขึ้นต่อจากการคลิกโฆษณา เช่น การซื้อสินค้า หรือสมัครสมาชิก\n",
    "\n",
    "**Ad Interaction Time (sec)**: เวลาที่ผู้ใช้มีปฏิสัมพันธ์กับโฆษณาโดยเฉลี่ย (เป็นวินาที)\n",
    "\n",
    "**Income Level**: ระดับรายได้ของผู้ใช้\n",
    "\n",
    "**Top Interests**: ความสนใจหลักของผู้ใช้ เช่น กีฬา เพลง เทคโนโลยี เป็นต้น\n",
    "\n"
   ]
  },
  {
   "cell_type": "markdown",
   "metadata": {
    "id": "dxOMHRqIfrnL"
   },
   "source": [
    "## จุดประสงค์"
   ]
  },
  {
   "cell_type": "markdown",
   "metadata": {
    "id": "EQPGy01Xfube"
   },
   "source": [
    "เพื่อจัดกลุ่มผู้โดยสารที่เดินทางโดยเรือ Titanic ที่มีลักษณะคล้ายคลึงกัน"
   ]
  },
  {
   "cell_type": "markdown",
   "metadata": {
    "id": "05uCA8LKfwyw"
   },
   "source": [
    "## การทดลอง"
   ]
  },
  {
   "cell_type": "code",
   "execution_count": null,
   "metadata": {
    "executionInfo": {
     "elapsed": 341,
     "status": "ok",
     "timestamp": 1623818570608,
     "user": {
      "displayName": "Tae Jt",
      "photoUrl": "",
      "userId": "15717801353048019289"
     },
     "user_tz": -420
    },
    "id": "zB1Zb76JxBU3"
   },
   "outputs": [],
   "source": [
    "import pandas as pd\n",
    "import numpy as np\n",
    "\n",
    "from sklearn.cluster import KMeans\n",
    "from sklearn.preprocessing import OneHotEncoder\n",
    "from sklearn.preprocessing import MinMaxScaler\n",
    "from sklearn.metrics import silhouette_score\n",
    "\n",
    "import seaborn as sns\n",
    "import matplotlib.pyplot as plt"
   ]
  },
  {
   "cell_type": "markdown",
   "metadata": {
    "id": "UNHU02vqxopa"
   },
   "source": [
    "### ขั้นตอนที่ 1: นำเข้าข้อมูล"
   ]
  },
  {
   "cell_type": "code",
   "execution_count": null,
   "metadata": {
    "colab": {
     "base_uri": "https://localhost:8080/",
     "height": 417
    },
    "executionInfo": {
     "elapsed": 386,
     "status": "ok",
     "timestamp": 1623818757107,
     "user": {
      "displayName": "Tae Jt",
      "photoUrl": "",
      "userId": "15717801353048019289"
     },
     "user_tz": -420
    },
    "id": "vt9iJXp3xr0w",
    "outputId": "dccd2d7f-ead6-45a2-82c1-c5aa53ab668c"
   },
   "outputs": [],
   "source": [
    "# Read train and test files into train and test Pandas dataframes\n",
    "data_path = \"../data/user_profiles_with_missing.csv\"\n",
    "data = pd.read_csv(data_path)\n",
    "data"
   ]
  },
  {
   "cell_type": "markdown",
   "metadata": {
    "id": "7LiWmmIRzL3q"
   },
   "source": [
    "### ขั้นตอนที่ 2: สำรวจข้อมูลเบื้องต้น\n"
   ]
  },
  {
   "cell_type": "code",
   "execution_count": null,
   "metadata": {
    "colab": {
     "base_uri": "https://localhost:8080/",
     "height": 203
    },
    "executionInfo": {
     "elapsed": 5,
     "status": "ok",
     "timestamp": 1623818760474,
     "user": {
      "displayName": "Tae Jt",
      "photoUrl": "",
      "userId": "15717801353048019289"
     },
     "user_tz": -420
    },
    "id": "HCPg0pgYzOa3",
    "outputId": "a411e084-d520-4838-f9cc-7ecbd2b17a8a"
   },
   "outputs": [],
   "source": [
    "# ดูลักษณะของข้อมูลโดยคร่าว\n",
    "data.head()"
   ]
  },
  {
   "cell_type": "code",
   "execution_count": null,
   "metadata": {
    "colab": {
     "base_uri": "https://localhost:8080/",
     "height": 295
    },
    "executionInfo": {
     "elapsed": 363,
     "status": "ok",
     "timestamp": 1623818762754,
     "user": {
      "displayName": "Tae Jt",
      "photoUrl": "",
      "userId": "15717801353048019289"
     },
     "user_tz": -420
    },
    "id": "kUXnqK_EzSdh",
    "outputId": "b9147535-3695-4fbb-d21c-c532a877d7a9"
   },
   "outputs": [],
   "source": [
    "# ดูค่าพื้นฐานทางสถิติของแต่ละคอลัมม์\n",
    "data.describe()"
   ]
  },
  {
   "cell_type": "code",
   "execution_count": null,
   "metadata": {
    "colab": {
     "base_uri": "https://localhost:8080/",
     "height": 388
    },
    "executionInfo": {
     "elapsed": 342,
     "status": "ok",
     "timestamp": 1623818786451,
     "user": {
      "displayName": "Tae Jt",
      "photoUrl": "",
      "userId": "15717801353048019289"
     },
     "user_tz": -420
    },
    "id": "EL7hIETPfmqu",
    "outputId": "a08e30fc-9a94-4b32-d183-756576648f09"
   },
   "outputs": [],
   "source": [
    "# ดูค่าพื้นฐานทางสถิติของแต่ละคอลัมม์\n",
    "data.describe(include='all')"
   ]
  },
  {
   "cell_type": "code",
   "execution_count": null,
   "metadata": {
    "colab": {
     "base_uri": "https://localhost:8080/"
    },
    "executionInfo": {
     "elapsed": 343,
     "status": "ok",
     "timestamp": 1623818797248,
     "user": {
      "displayName": "Tae Jt",
      "photoUrl": "",
      "userId": "15717801353048019289"
     },
     "user_tz": -420
    },
    "id": "syD-bhMddVQp",
    "outputId": "436a40fc-573b-4353-f9f7-b9533711c315"
   },
   "outputs": [],
   "source": [
    "data.info()"
   ]
  },
  {
   "cell_type": "code",
   "execution_count": null,
   "metadata": {
    "colab": {
     "base_uri": "https://localhost:8080/",
     "height": 417
    },
    "executionInfo": {
     "elapsed": 363,
     "status": "ok",
     "timestamp": 1623818832616,
     "user": {
      "displayName": "Tae Jt",
      "photoUrl": "",
      "userId": "15717801353048019289"
     },
     "user_tz": -420
    },
    "id": "QM7AdKl7JPZs",
    "outputId": "54c77cb4-2c3b-479f-eb0c-f1cfc623cf7e"
   },
   "outputs": [],
   "source": [
    "data.isnull()"
   ]
  },
  {
   "cell_type": "code",
   "execution_count": null,
   "metadata": {
    "colab": {
     "base_uri": "https://localhost:8080/"
    },
    "executionInfo": {
     "elapsed": 359,
     "status": "ok",
     "timestamp": 1623818836068,
     "user": {
      "displayName": "Tae Jt",
      "photoUrl": "",
      "userId": "15717801353048019289"
     },
     "user_tz": -420
    },
    "id": "NxxpGf-f40Lw",
    "outputId": "e2516bc0-42a9-4133-8a1d-aa7fdeace762"
   },
   "outputs": [],
   "source": [
    "# เช็คค่า null ในแต่ละคอลัมม์\n",
    "data.isnull().sum()"
   ]
  },
  {
   "cell_type": "markdown",
   "metadata": {
    "id": "Lk6UpT3y8QOr"
   },
   "source": [
    "ต้องทำการเติมค่า null เหล่านี้ให้เรียบร้อย เนื่องจากโมเดล ไม่สามารถรับข้อมูลที่มีค่า null ได้"
   ]
  },
  {
   "cell_type": "code",
   "execution_count": null,
   "metadata": {
    "colab": {
     "base_uri": "https://localhost:8080/"
    },
    "executionInfo": {
     "elapsed": 585,
     "status": "ok",
     "timestamp": 1623818864218,
     "user": {
      "displayName": "Tae Jt",
      "photoUrl": "",
      "userId": "15717801353048019289"
     },
     "user_tz": -420
    },
    "id": "5Q3h7psfeVb4",
    "outputId": "a5bf3d10-2030-40c8-cd12-2a393d62f9f4"
   },
   "outputs": [],
   "source": [
    "# ตรวจสอบข้อมูลซ้ำ (Duplicate)\n",
    "print(f\"จำนวนข้อมูล User ID ที่ซ้ำ (duplicate) คือ {data['User ID'].duplicated().sum()} แถว\")"
   ]
  },
  {
   "cell_type": "markdown",
   "metadata": {},
   "source": [
    "#### Exploratory Data Analysis\n",
    "\n",
    "เราจะเริ่มต้นการวิเคราะห์ข้อมูลเบื้องต้น (EDA - Exploratory Data Analysis) ด้วยการสร้างกราฟเพื่อดูการกระจายของข้อมูลประชากรพื้นฐานที่สำคัญ ได้แก่ ช่วงอายุ เพศ ระดับการศึกษา และระดับรายได้\n",
    "\n",
    "การมองเห็นข้อมูลผ่านกราฟจะช่วยให้เข้าใจภาพรวมของกลุ่มผู้ใช้งานได้ง่ายขึ้น และเป็นจุดเริ่มต้นที่ดีในการวิเคราะห์เชิงลึกต่อไปในเวิร์กช็อปนี้ โดยเหมาะสำหรับผู้ที่เริ่มต้นเรียนรู้การวิเคราะห์ข้อมูลจากข้อมูลจริง"
   ]
  },
  {
   "cell_type": "code",
   "execution_count": null,
   "metadata": {},
   "outputs": [],
   "source": [
    "sns.set_palette(\"viridis\")\n",
    "\n",
    "fig, axes = plt.subplots(2, 2, figsize=(18, 12))\n",
    "fig.suptitle('Distribution of Key Demographic Variables')\n",
    "\n",
    "# age distribution\n",
    "sns.countplot(ax=axes[0, 0], x='Age', data=data, hue='Age')\n",
    "axes[0, 0].set_title('Age Distribution')\n",
    "axes[0, 0].tick_params(axis='x', rotation=45)\n",
    "\n",
    "# gender distribution\n",
    "sns.countplot(ax=axes[0, 1], x='Gender', data=data, hue=\"Gender\")\n",
    "axes[0, 1].set_title('Gender Distribution')\n",
    "\n",
    "# education level distribution\n",
    "sns.countplot(ax=axes[1, 0], x='Education Level', data=data, hue='Education Level')\n",
    "axes[1, 0].set_title('Education Level Distribution')\n",
    "axes[1, 0].tick_params(axis='x', rotation=45)\n",
    "\n",
    "# income level distribution\n",
    "sns.countplot(ax=axes[1, 1], x='Income Level', data=data, hue='Income Level')\n",
    "axes[1, 1].set_title('Income Level Distribution')\n",
    "axes[1, 1].tick_params(axis='x', rotation=45)\n",
    "\n",
    "plt.tight_layout(rect=[0, 0.03, 1, 0.95])\n",
    "plt.show()\n"
   ]
  },
  {
   "cell_type": "code",
   "execution_count": null,
   "metadata": {
    "vscode": {
     "languageId": "ruby"
    }
   },
   "outputs": [],
   "source": [
    "# Reorder the categories for Age and Income Level for better logical order\n",
    "\n",
    "# Define the desired order for Age and Income Level\n",
    "age_order = ['18-24', '25-34', '35-44', '45-54', '55-64', '65+']\n",
    "income_order = ['0-20k', '20k-40k', '40k-60k', '60k-80k', '80k-100k', '100k+']\n",
    "\n",
    "# Apply the ordering to the 'Age' and 'Income Level' columns in df_tfidf\n",
    "data['Age'] = pd.Categorical(data['Age'], categories=age_order, ordered=True)\n",
    "data['Income Level'] = pd.Categorical(data['Income Level'], categories=income_order, ordered=True)\n",
    "\n",
    "# If you want to sort the DataFrame by Age and Income Level:\n",
    "data = data.sort_values(['Age', 'Income Level'])\n",
    "\n",
    "sns.set_palette(\"viridis\")\n",
    "\n",
    "fig, axes = plt.subplots(2, 2, figsize=(18, 12))\n",
    "fig.suptitle('Distribution of Key Demographic Variables')\n",
    "\n",
    "# age distribution\n",
    "sns.countplot(ax=axes[0, 0], x='Age', data=data, hue='Age')\n",
    "axes[0, 0].set_title('Age Distribution')\n",
    "axes[0, 0].tick_params(axis='x', rotation=45)\n",
    "\n",
    "# gender distribution\n",
    "sns.countplot(ax=axes[0, 1], x='Gender', data=data, hue=\"Gender\")\n",
    "axes[0, 1].set_title('Gender Distribution')\n",
    "\n",
    "# education level distribution\n",
    "sns.countplot(ax=axes[1, 0], x='Education Level', data=data, hue='Education Level')\n",
    "axes[1, 0].set_title('Education Level Distribution')\n",
    "axes[1, 0].tick_params(axis='x', rotation=45)\n",
    "\n",
    "# income level distribution\n",
    "sns.countplot(ax=axes[1, 1], x='Income Level', data=data, hue='Income Level')\n",
    "axes[1, 1].set_title('Income Level Distribution')\n",
    "axes[1, 1].tick_params(axis='x', rotation=45)\n",
    "\n",
    "plt.tight_layout(rect=[0, 0.03, 1, 0.95])\n",
    "plt.show()"
   ]
  },
  {
   "cell_type": "markdown",
   "metadata": {},
   "source": [
    "เราจะมาศึกษารูปแบบการใช้งานอุปกรณ์ของผู้ใช้งาน เพื่อทำความเข้าใจว่าโดยส่วนใหญ่แล้ว ผู้ใช้เข้าถึงแพลตฟอร์มผ่านช่องทางใด เช่น มือถือ คอมพิวเตอร์ หรือแท็บเล็ต ข้อมูลส่วนนี้มีความสำคัญมากในการปรับแต่งรูปแบบโฆษณาและช่องทางการส่งให้เหมาะสมที่สุด\n"
   ]
  },
  {
   "cell_type": "code",
   "execution_count": null,
   "metadata": {},
   "outputs": [],
   "source": [
    "# device usage distribution\n",
    "plt.figure(figsize=(10, 6))\n",
    "sns.countplot(x='Device Usage', data=data, hue='Device Usage')\n",
    "plt.title('Device Usage Distribution')\n",
    "plt.show()"
   ]
  },
  {
   "cell_type": "markdown",
   "metadata": {},
   "source": [
    "นอกจากนี้ เรายังจะสำรวจพฤติกรรมการใช้งานออนไลน์ของผู้ใช้ เช่น การมีส่วนร่วมกับเนื้อหาและโฆษณา รวมถึงความสนใจหลัก ๆ ที่พบได้บ่อย เพื่อใช้ในการวางแผนกลยุทธ์ด้านการตลาดหรือการออกแบบประสบการณ์ผู้ใช้งานให้ตรงใจยิ่งขึ้น\n",
    "\n",
    "ถัดจากนี้ เราจะทำการวิเคราะห์ในหัวข้อสำคัญต่อไปนี้:\n",
    "\n",
    "- เปรียบเทียบเวลาที่ผู้ใช้งานออนไลน์ในวันธรรมดาและวันหยุดสุดสัปดาห์ โดยดูว่าพวกเขาใช้งานแพลตฟอร์มมากน้อยต่างกันอย่างไร\n",
    "\n",
    "- สำรวจระดับการมีส่วนร่วมของผู้ใช้ เช่น การกดไลก์หรือแสดงความรู้สึกต่อเนื้อหาต่าง ๆ\n",
    "\n",
    "- เจาะลึกข้อมูลการมีปฏิสัมพันธ์กับโฆษณา เช่น อัตราการคลิก (CTR), อัตราการแปลงผล (Conversion Rate) และระยะเวลาที่ผู้ใช้ใช้กับโฆษณาแต่ละชิ้น\n",
    "\n",
    "ข้อมูลเหล่านี้จะช่วยให้เราเข้าใจรูปแบบพฤติกรรมของผู้ใช้งาน และลักษณะการตอบสนองต่อโฆษณา ซึ่งมีความสำคัญอย่างยิ่งในการวางแผนโฆษณาให้มีประสิทธิภาพและตรงกลุ่มเป้าหมายมากขึ้น "
   ]
  },
  {
   "cell_type": "code",
   "execution_count": null,
   "metadata": {},
   "outputs": [],
   "source": [
    "# creating subplots for user online behavior and ad interaction metrics\n",
    "fig, axes = plt.subplots(3, 2, figsize=(18, 15))\n",
    "fig.suptitle('User Online Behavior and Ad Interaction Metrics')\n",
    "\n",
    "# time spent online on weekdays\n",
    "sns.histplot(ax=axes[0, 0], x='Time Spent Online (hrs/weekday)', data=data, bins=20, kde=True, color='skyblue')\n",
    "axes[0, 0].set_title('Time Spent Online on Weekdays')\n",
    "\n",
    "# time spent online on weekends\n",
    "sns.histplot(ax=axes[0, 1], x='Time Spent Online (hrs/weekend)', data=data, bins=20, kde=True, color='orange')\n",
    "axes[0, 1].set_title('Time Spent Online on Weekends')\n",
    "\n",
    "# likes and reactions\n",
    "sns.histplot(ax=axes[1, 0], x='Likes and Reactions', data=data, bins=20, kde=True, color='green')\n",
    "axes[1, 0].set_title('Likes and Reactions')\n",
    "\n",
    "# click-through rates\n",
    "sns.histplot(ax=axes[1, 1], x='Click-Through Rates (CTR)', data=data, bins=20, kde=True, color='red')\n",
    "axes[1, 1].set_title('Click-Through Rates (CTR)')\n",
    "\n",
    "# conversion rates\n",
    "sns.histplot(ax=axes[2, 0], x='Conversion Rates', data=data, bins=20, kde=True, color='purple')\n",
    "axes[2, 0].set_title('Conversion Rates')\n",
    "\n",
    "# ad interaction time\n",
    "sns.histplot(ax=axes[2, 1], x='Ad Interaction Time (sec)', data=data, bins=20, kde=True, color='brown')\n",
    "axes[2, 1].set_title('Ad Interaction Time (sec)')\n",
    "\n",
    "plt.tight_layout(rect=[0, 0.03, 1, 0.95])\n",
    "plt.show()"
   ]
  },
  {
   "cell_type": "code",
   "execution_count": null,
   "metadata": {},
   "outputs": [],
   "source": [
    "fig, axes = plt.subplots(3, 2, figsize=(18, 15))\n",
    "\n",
    "# time spent online on weekdays by age\n",
    "sns.boxplot(ax=axes[0, 0], x='Age', y='Time Spent Online (hrs/weekday)', data=data, hue='Age', legend=False, boxprops=dict(alpha =0.7))\n",
    "axes[0, 0].set_title('Time Spent Online on Weekdays by Age')\n",
    "axes[0, 0].tick_params(axis='x', rotation=45)\n",
    "\n",
    "# time spent online on weekends by age\n",
    "sns.boxplot(ax=axes[0, 1], x='Age', y='Time Spent Online (hrs/weekend)', data=data, hue='Age', legend=False,boxprops=dict(alpha =0.7))\n",
    "axes[0, 1].set_title('Time Spent Online on Weekends by Age')\n",
    "axes[0, 1].tick_params(axis='x', rotation=45)\n",
    "\n",
    "# likes and reactions by age\n",
    "sns.boxplot(ax=axes[1, 0], x='Age', y='Likes and Reactions', data=data, hue='Age', legend=False, boxprops=dict(alpha =0.7))\n",
    "axes[1, 0].set_title('Likes and Reactions by Age')\n",
    "axes[1, 0].tick_params(axis='x', rotation=45)\n",
    "\n",
    "# click-through rates by age\n",
    "sns.boxplot(ax=axes[1, 1], x='Age', y='Click-Through Rates (CTR)', data=data, hue='Age', legend=False, boxprops=dict(alpha =0.7))\n",
    "axes[1, 1].set_title('Click-Through Rates (CTR) by Age')\n",
    "axes[1, 1].tick_params(axis='x', rotation=45)\n",
    "\n",
    "# conversion rates by age\n",
    "sns.boxplot(ax=axes[2, 0], x='Age', y='Conversion Rates', data=data, hue='Age', legend=False, boxprops=dict(alpha =0.7))\n",
    "axes[2, 0].set_title('Conversion Rates by Age')\n",
    "axes[2, 0].tick_params(axis='x', rotation=45)\n",
    "\n",
    "# ad interaction time by age\n",
    "sns.boxplot(ax=axes[2, 1], x='Age', y='Ad Interaction Time (sec)', data=data, hue='Age', legend=False, boxprops=dict(alpha =0.7))\n",
    "axes[2, 1].set_title('Ad Interaction Time (sec) by Age')\n",
    "axes[2, 1].tick_params(axis='x', rotation=45)\n",
    "\n",
    "\n",
    "plt.tight_layout()\n",
    "plt.show()\n"
   ]
  },
  {
   "cell_type": "markdown",
   "metadata": {},
   "source": [
    "ต่อไป เราจะมาค้นหาว่าผู้ใช้งานส่วนใหญ่มีความสนใจเรื่องใดบ้าง ซึ่งข้อมูลนี้มีความสำคัญมากในการแบ่งกลุ่มผู้ใช้งาน และออกแบบแคมเปญโฆษณาให้ตรงกับความสนใจของแต่ละกลุ่ม"
   ]
  },
  {
   "cell_type": "code",
   "execution_count": null,
   "metadata": {},
   "outputs": [],
   "source": [
    "data['Top Interests'].head(20)"
   ]
  },
  {
   "cell_type": "code",
   "execution_count": null,
   "metadata": {},
   "outputs": [],
   "source": [
    "from collections import Counter\n",
    "\n",
    "# splitting the 'Top Interests' column and creating a list of all interests\n",
    "interests_list = data['Top Interests'].str.split(', ').sum()\n",
    "interests_list"
   ]
  },
  {
   "cell_type": "markdown",
   "metadata": {},
   "source": [
    "**Note** การใช้ .sum() หลังจาก str.split(', ') ในบรรทัด \n",
    "`interests_list = data['Top Interests'].str.split(', ').sum()`\n",
    "\n",
    "เหตุผล:\n",
    "\n",
    "- `data['Top Interests'].str.split(', ')` จะเปลี่ยนแต่ละแถวในคอลัมน์ 'Top Interests' ให้เป็น list ของความสนใจ เช่น `['กีฬา', 'เพลง']` \n",
    "- ผลลัพธ์จะเป็น list ของ list (แต่ละแถวเป็น list)\n",
    "- การใช้ .sum() กับ list ใน pandas จะ \"รวม\" list ย่อยทั้งหมดให้กลายเป็น list เดียว (เหมือนการต่อ list) เช่น `[['กีฬา', 'เพลง'], ['เทคโนโลยี'], ['กีฬา', 'ท่องเที่ยว']]`\n",
    "`.sum()` จะได้ `['กีฬา', 'เพลง', 'เทคโนโลยี', 'กีฬา', 'ท่องเที่ยว']`\n",
    "สรุป:\n",
    "`.sum()` ใช้เพื่อรวม list ย่อยทั้งหมดในแต่ละแถวให้เป็น list เดียวสำหรับนับความถี่ความสนใจต่อไป"
   ]
  },
  {
   "cell_type": "code",
   "execution_count": null,
   "metadata": {},
   "outputs": [],
   "source": [
    "# counting the frequency of each interest\n",
    "interests_counter = Counter(interests_list)\n",
    "interests_counter\n"
   ]
  },
  {
   "cell_type": "code",
   "execution_count": null,
   "metadata": {},
   "outputs": [],
   "source": [
    "# converting the counter object to a DataFrame for easier plotting\n",
    "interests_df = pd.DataFrame(interests_counter.items(), columns=['Interest', 'Frequency']).sort_values(by='Frequency', ascending=False)\n",
    "\n",
    "# plotting the most common interests\n",
    "plt.figure(figsize=(12, 8))\n",
    "sns.barplot(x='Frequency', y='Interest', data=interests_df.head(10), hue=\"Frequency\")\n",
    "plt.title('Top 10 User Interests')\n",
    "plt.xlabel('Frequency')\n",
    "plt.ylabel('Interest')\n",
    "plt.show()"
   ]
  },
  {
   "cell_type": "markdown",
   "metadata": {},
   "source": [
    "TfidfVectorizer คือเครื่องมือในไลบรารี scikit-learn ที่ใช้แปลงข้อความ (text) ให้กลายเป็นตัวเลขในรูปแบบตาราง (matrix) โดยใช้หลักการ TF-IDF (Term Frequency-Inverse Document Frequency) ซึ่งนิยมใช้ในงานวิเคราะห์ข้อความและ NLP\n",
    "\n",
    "**หลักการของ TF-IDF**\n",
    "- **TF (Term Frequency):** วัดความถี่ของแต่ละคำในเอกสาร (เช่น ถ้าคำว่า \"music\" ปรากฏ 3 ครั้งในประโยค TF = 3)\n",
    "- **IDF (Inverse Document Frequency):** วัดความสำคัญของคำนั้น ๆ โดยให้ค่าสูงกับคำที่พบไม่บ่อยในเอกสารทั้งหมด (เช่น คำที่เจอบ่อยในทุกเอกสารจะมีค่าน้อย)\n",
    "- **TF-IDF:** คูณ TF กับ IDF เพื่อให้ได้ค่าน้ำหนักที่สะท้อนทั้งความถี่และความเฉพาะของคำ\n",
    "\n",
    "**ตัวอย่างการใช้งานในโปรเจกต์นี้**\n",
    "- นำคอลัมน์ `Top Interests` ของผู้ใช้แต่ละคนมาแปลงเป็นเวกเตอร์ตัวเลข\n",
    "- แต่ละคอลัมน์ของผลลัพธ์ (เช่น `music`, `gaming`, `fashion`) คือความสนใจหลัก\n",
    "- ค่าตัวเลขในแต่ละช่องคือค่าน้ำหนัก TF-IDF ของความสนใจนั้น ๆ สำหรับผู้ใช้แต่ละคน\n",
    "- ช่วยให้สามารถนำข้อมูลความสนใจไปใช้ร่วมกับฟีเจอร์อื่น ๆ ในการทำ clustering ได้\n",
    "\n",
    "**ข้อดี**\n",
    "- ลดปัญหาคำที่พบได้บ่อยแต่ไม่มีความหมาย (เช่น \"the\", \"and\")\n",
    "- ทำให้ข้อมูลข้อความนำไปใช้กับโมเดล machine learning ได้ง่าย\n",
    "\n",
    "**ตัวอย่างผลลัพธ์**\n",
    "| User ID | music | gaming | fashion | ... |\n",
    "|---------|-------|--------|---------|-----|\n",
    "| 1       | 0.0   | 0.0    | 0.0     | ... |\n",
    "| 2       | 0.0   | 0.0    | 0.0     | ... |\n",
    "| 3       | 0.0   | 0.0    | 0.0     | ... |\n",
    "| ...     | ...   | ...    | ...     | ... |\n",
    "\n",
    "**สรุป:**  \n",
    "TfidfVectorizer ช่วยเปลี่ยนข้อมูลข้อความความสนใจของผู้ใช้ให้กลายเป็นตัวเลขที่นำไปวิเคราะห์และจัดกลุ่มได้อย่างมีประสิทธิภาพ"
   ]
  },
  {
   "cell_type": "code",
   "execution_count": null,
   "metadata": {},
   "outputs": [],
   "source": [
    "from sklearn.feature_extraction.text import TfidfVectorizer\n",
    "import pandas as pd\n",
    "\n",
    "# เตรียมข้อมูล\n",
    "interests = data['Top Interests'].fillna('')  # ป้องกันค่า missing\n",
    "\n",
    "# สร้าง TF-IDF vectorizer\n",
    "tfidf = TfidfVectorizer(max_features=20, stop_words='english')  # จำกัดให้เหลือ top 20 คำ\n",
    "tfidf_matrix = tfidf.fit_transform(interests)\n",
    "\n",
    "# สร้าง DataFrame ของ TF-IDF features\n",
    "tfidf_df = pd.DataFrame(tfidf_matrix.toarray(), columns=tfidf.get_feature_names_out())\n",
    "\n",
    "# ต่อกับข้อมูลต้นฉบับ (optionally ต่อกับฟีเจอร์อื่น)\n",
    "df_tfidf = pd.concat([data.reset_index(drop=True), tfidf_df.reset_index(drop=True)], axis=1)\n",
    "\n",
    "# ดูตัวอย่าง\n",
    "df_tfidf[['Top Interests'] + list(tfidf_df.columns)].head()"
   ]
  },
  {
   "cell_type": "code",
   "execution_count": null,
   "metadata": {},
   "outputs": [],
   "source": [
    "df_tfidf"
   ]
  },
  {
   "cell_type": "markdown",
   "metadata": {},
   "source": [
    "### User Profiling and Segmentation: การทำโปรไฟล์และการแบ่งกลุ่มผู้ใช้งาน\n",
    "\n",
    "ในขั้นตอนนี้ เราจะเริ่มแบ่งกลุ่มผู้ใช้งานออกเป็นกลุ่มย่อยที่มีลักษณะคล้ายกัน เพื่อให้สามารถทำแคมเปญโฆษณาแบบเฉพาะกลุ่มได้อย่างมีประสิทธิภาพ โดยสามารถแบ่งกลุ่มตามเกณฑ์ต่าง ๆ ได้ เช่น:\n",
    "\n",
    "- ข้อมูลประชากร (Demographics): เช่น อายุ เพศ ระดับรายได้ และระดับการศึกษา\n",
    "\n",
    "- พฤติกรรมการใช้งาน (Behavioural): เช่น เวลาในการใช้งานออนไลน์ จำนวนการกดไลก์หรือแสดงความรู้สึก อัตราการคลิกโฆษณา (CTR) และอัตราการแปลงผล (Conversion Rate)\n",
    "\n",
    "- ความสนใจ (Interests): นำความสนใจหลักของผู้ใช้มาใช้ในการกำหนดเนื้อหาโฆษณาให้ตรงใจมากขึ้น\n",
    "\n",
    "เพื่อให้การแบ่งกลุ่มผู้ใช้มีความแม่นยำ เราสามารถใช้เทคนิคด้านการจัดกลุ่มข้อมูล (Clustering) หรือสร้างโปรไฟล์ผู้ใช้งาน (Personas) ขึ้นจากการผสมผสานคุณสมบัติเหล่านี้ ซึ่งจะช่วยให้สามารถออกแบบแคมเปญโฆษณาได้ตรงกับกลุ่มเป้าหมาย และเพิ่มโอกาสในการมีส่วนร่วมของผู้ใช้รวมถึงอัตราการเปลี่ยนแปลงไปสู่การกระทำ (Conversion)"
   ]
  },
  {
   "cell_type": "markdown",
   "metadata": {
    "id": "WpKPw62EGmU6"
   },
   "source": [
    "### ขั้นตอนที่ 3 : Preprocess ข้อมูล"
   ]
  },
  {
   "cell_type": "markdown",
   "metadata": {
    "id": "lSKzYcKPiVw9"
   },
   "source": [
    "#### 3.1 การจัดการกับ Missing Values (การเติมค่าว่างในข้อมูล)\n",
    "\n",
    "Missing Value หรือ \"ค่าที่ขาดหาย\" ในชุดข้อมูล คือปัญหาที่พบได้บ่อยในการวิเคราะห์ข้อมูลจริง หากไม่จัดการกับค่าที่ขาดหายเหล่านี้ อาจทำให้โมเดล Machine Learning ทำงานผิดพลาดหรือไม่สามารถประมวลผลข้อมูลได้\n",
    "\n",
    "วิธีการจัดการกับ Missing Values\n",
    "1. การลบแถวหรือคอลัมน์ที่มี Missing Values\n",
    "   - เหมาะกับกรณีที่ข้อมูลขาดหายไม่มาก\n",
    "   - ใช้ `data.dropna()` เพื่อลบแถวที่มีค่าว่าง\n",
    "2. การเติมค่าทดแทน (Imputation)\n",
    "   - เติมค่าด้วยสถิติ เช่น ค่าเฉลี่ย (mean), มัธยฐาน (median), หรือโหมด (mode)\n",
    "   - เลือกวิธีเติมค่าตามประเภทของข้อมูล เช่น\n",
    "     - ข้อมูลตัวเลข: เติมด้วย mean หรือ median\n",
    "     - ข้อมูลประเภทหมวดหมู่: เติมด้วย mode\n",
    "3. การใช้โมเดลทำนายค่าที่ขาดหาย\n",
    "   - ใช้เทคนิคขั้นสูง เช่น KNN Imputer หรือโมเดล Machine Learning เพื่อทำนายค่าที่ขาดหาย"
   ]
  },
  {
   "cell_type": "code",
   "execution_count": null,
   "metadata": {
    "executionInfo": {
     "elapsed": 363,
     "status": "ok",
     "timestamp": 1623818912448,
     "user": {
      "displayName": "Tae Jt",
      "photoUrl": "",
      "userId": "15717801353048019289"
     },
     "user_tz": -420
    },
    "id": "DHk1kAG-76Ye"
   },
   "outputs": [],
   "source": [
    "# เติมค่า missing values ในแต่ละคอลัมน์ของ data\n",
    "tfidf_data = df_tfidf.copy()\n",
    "# 1. Age (category): เติมด้วย mode (ค่าที่พบมากที่สุด)\n",
    "tfidf_data['Age'] = tfidf_data['Age'].fillna(tfidf_data['Age'].mode()[0])\n",
    "\n",
    "# 2. Gender: เติมด้วย mode\n",
    "tfidf_data['Gender'] = tfidf_data['Gender'].fillna(tfidf_data['Gender'].mode()[0])\n",
    "\n",
    "# 3. Education Level: เติมด้วย mode\n",
    "tfidf_data['Education Level'] = tfidf_data['Education Level'].fillna(tfidf_data['Education Level'].mode()[0])\n",
    "\n",
    "# 4. Time Spent Online (hrs/weekday): เติมด้วย median\n",
    "tfidf_data['Time Spent Online (hrs/weekday)'] = tfidf_data['Time Spent Online (hrs/weekday)'].fillna(tfidf_data['Time Spent Online (hrs/weekday)'].median())\n",
    "\n",
    "# 5. Click-Through Rates (CTR): เติมด้วย median\n",
    "tfidf_data['Click-Through Rates (CTR)'] = tfidf_data['Click-Through Rates (CTR)'].fillna(tfidf_data['Click-Through Rates (CTR)'].median())\n",
    "\n",
    "# 6. Income Level: เติมด้วย mode\n",
    "tfidf_data['Income Level'] = tfidf_data['Income Level'].fillna(tfidf_data['Income Level'].mode()[0])"
   ]
  },
  {
   "cell_type": "code",
   "execution_count": null,
   "metadata": {
    "colab": {
     "base_uri": "https://localhost:8080/"
    },
    "executionInfo": {
     "elapsed": 3,
     "status": "ok",
     "timestamp": 1623818914299,
     "user": {
      "displayName": "Tae Jt",
      "photoUrl": "",
      "userId": "15717801353048019289"
     },
     "user_tz": -420
    },
    "id": "GSyVEphK8hZb",
    "outputId": "9b949480-a42c-48e8-8075-675bc55a4f89"
   },
   "outputs": [],
   "source": [
    "# เช็คหน้าตาของข้อมูลอีกครั้ง\n",
    "tfidf_data.info()"
   ]
  },
  {
   "cell_type": "markdown",
   "metadata": {
    "id": "IRPZ89rsihk3"
   },
   "source": [
    "#### 3.2 เลือกปัจจัยที่สนใจ"
   ]
  },
  {
   "cell_type": "code",
   "execution_count": null,
   "metadata": {},
   "outputs": [],
   "source": [
    "# เลือกฟีเจอร์หลักสำหรับ clustering และรวมกับฟีเจอร์ TF-IDF (top interests)\n",
    "main_features = [\n",
    "    'Age',\n",
    "    'Gender',\n",
    "    'Income Level',\n",
    "    'Time Spent Online (hrs/weekday)',\n",
    "    'Time Spent Online (hrs/weekend)',\n",
    "    'Likes and Reactions',\n",
    "    'Click-Through Rates (CTR)'\n",
    "]\n",
    "tfidf_features = list(tfidf_df.columns)\n",
    "features = main_features + tfidf_features\n",
    "features"
   ]
  },
  {
   "cell_type": "code",
   "execution_count": null,
   "metadata": {
    "colab": {
     "base_uri": "https://localhost:8080/",
     "height": 447
    },
    "executionInfo": {
     "elapsed": 426,
     "status": "ok",
     "timestamp": 1623818946813,
     "user": {
      "displayName": "Tae Jt",
      "photoUrl": "",
      "userId": "15717801353048019289"
     },
     "user_tz": -420
    },
    "id": "OuKdFKhqSvm0",
    "outputId": "7b1b6557-e38f-4e1f-e11a-b0be763aa558"
   },
   "outputs": [],
   "source": [
    "# ทำการเลือกเฉพาะ Column หรือ features ที่สนใจ clustering และเปลี่ยนชื่อคอลัมน์เป็นภาษาอังกฤษที่เหมาะสม\n",
    "feature_data = tfidf_data.set_index('User ID')[features].copy()\n",
    "\n",
    "# เปลี่ยนชื่อคอลัมน์\n",
    "feature_data = feature_data.rename(columns={\n",
    "    'Age': 'age',\n",
    "    'Gender': 'gender',\n",
    "    'Income Level': 'income_level',\n",
    "    'Time Spent Online (hrs/weekday)': 'weekday_online_hours',\n",
    "    'Time Spent Online (hrs/weekend)': 'weekend_online_hours',\n",
    "    'Likes and Reactions': 'likes_reactions',\n",
    "    'Click-Through Rates (CTR)': 'ctr'\n",
    "})\n",
    "\n",
    "feature_data.head()"
   ]
  },
  {
   "cell_type": "markdown",
   "metadata": {
    "id": "CdG7NyDhilWn"
   },
   "source": [
    "#### 3.3 One-Hot Encoder"
   ]
  },
  {
   "cell_type": "code",
   "execution_count": null,
   "metadata": {
    "executionInfo": {
     "elapsed": 366,
     "status": "ok",
     "timestamp": 1623818951788,
     "user": {
      "displayName": "Tae Jt",
      "photoUrl": "",
      "userId": "15717801353048019289"
     },
     "user_tz": -420
    },
    "id": "jp5xk8JYS5LX"
   },
   "outputs": [],
   "source": [
    "# ทำการ Encode ข้อมูลประเภท Category ให้เป็นข้อมูลเชิงตัวเลข (Numeric)\n",
    "feature_data['age'] = feature_data['age'].astype('category')\n",
    "feature_data['gender'] = feature_data['gender'].astype('category')\n",
    "feature_data['income_level'] = feature_data['income_level'].astype('category')\n",
    "\n",
    "# ใช้ OneHotEncoder เพื่อแปลงข้อมูลประเภท Category\n",
    "one_hot_features = pd.get_dummies(data=feature_data[['age', 'gender', 'income_level']],dtype='int')"
   ]
  },
  {
   "cell_type": "markdown",
   "metadata": {},
   "source": [
    "`pd.concat` คือฟังก์ชันใน Pandas ที่ใช้สำหรับ \"ต่อ\" ข้อมูล DataFrame หรือ Series หลาย ๆ อันเข้าด้วยกัน ไม่ว่าจะเป็นการต่อในแนวแถว (เพิ่มจำนวนแถว) หรือแนวคอลัมน์ (เพิ่มจำนวนคอลัมน์) ก็ได้\n",
    "\n",
    "**ตัวอย่างการใช้งาน**\n",
    "\n",
    "- ถ้าอยากนำ DataFrame สองอันมาต่อกันในแนวแถว (เหมือนนำข้อมูลมาต่อท้ายกัน):\n",
    "\n",
    "```python\n",
    "result = pd.concat([df1, df2], axis=0)\n",
    "```\n",
    "\n",
    "- ถ้าอยากนำ DataFrame สองอันมาต่อกันในแนวคอลัมน์ (เหมือนนำคุณสมบัติมาเพิ่ม):\n",
    "\n",
    "```python\n",
    "result = pd.concat([df1, df2], axis=1)\n",
    "```\n",
    "\n",
    "**สรุปสั้น ๆ:**  \n",
    "- `axis=0` = ต่อแถว (เพิ่มข้อมูล)\n",
    "- `axis=1` = ต่อคอลัมน์ (เพิ่มคุณสมบัติ)\n",
    "\n",
    "`pd.concat` จึงเหมาะกับการรวมข้อมูลจากหลายแหล่งหรือการเตรียมข้อมูลสำหรับวิเคราะห์ต่อยอด\n",
    "\n",
    "![Merging and Concatenation in Pandas](https://pandas.pydata.org/docs/_images/merging_concat_mixed_ndim.png)"
   ]
  },
  {
   "cell_type": "code",
   "execution_count": null,
   "metadata": {
    "colab": {
     "base_uri": "https://localhost:8080/",
     "height": 447
    },
    "executionInfo": {
     "elapsed": 388,
     "status": "ok",
     "timestamp": 1623818957682,
     "user": {
      "displayName": "Tae Jt",
      "photoUrl": "",
      "userId": "15717801353048019289"
     },
     "user_tz": -420
    },
    "id": "nYtB8sZIvNRx",
    "outputId": "596faf08-d156-4287-dd42-7eb96ca28aeb"
   },
   "outputs": [],
   "source": [
    "# เอา feature_data มารวมตารางกับ one_hot_features\n",
    "feature_data = pd.concat([feature_data,one_hot_features], axis=1).drop(columns=['age', 'gender', 'income_level'])\n",
    "feature_data"
   ]
  },
  {
   "cell_type": "code",
   "execution_count": null,
   "metadata": {
    "colab": {
     "base_uri": "https://localhost:8080/"
    },
    "executionInfo": {
     "elapsed": 358,
     "status": "ok",
     "timestamp": 1623818980160,
     "user": {
      "displayName": "Tae Jt",
      "photoUrl": "",
      "userId": "15717801353048019289"
     },
     "user_tz": -420
    },
    "id": "E9yyAjgUUi3v",
    "outputId": "041d9c43-fe8c-425c-a549-0e35191075ec"
   },
   "outputs": [],
   "source": [
    "# ตรวจสอบ ว่ายังเหลือคอลัมม์ที่ไม่ใช่ตัวเลขอยู่หรือไม่\n",
    "feature_data.info()"
   ]
  },
  {
   "cell_type": "code",
   "execution_count": null,
   "metadata": {},
   "outputs": [],
   "source": [
    "# สร้างตาราง correlation\n",
    "numerical_features = feature_data.select_dtypes(include=[np.number]).columns.tolist()\n",
    "corr_matrix = feature_data[numerical_features].corr()\n",
    "\n",
    "# วาด heatmap\n",
    "plt.figure(figsize=(10, 6))\n",
    "sns.heatmap(corr_matrix, annot=False, cmap='coolwarm', fmt=\".2f\", linewidths=0.5)\n",
    "plt.title('Correlation Matrix Between Features')\n",
    "plt.xticks(rotation=45)\n",
    "plt.tight_layout()\n",
    "plt.show()"
   ]
  },
  {
   "cell_type": "markdown",
   "metadata": {},
   "source": [
    "🟩 1. กลุ่มความสนใจบางกลุ่มเริ่มมีความสัมพันธ์เชิงบวก\n",
    "บางฟีเจอร์เช่น:\n",
    "\n",
    "- gaming กับ likes_reactions → มีความสัมพันธ์บ้าง\n",
    "\n",
    "- modelling, fashion, fitness → อาจสัมพันธ์กับกลุ่มเพศหรือวัย\n",
    "\n",
    "💡 แสดงว่าฟีเจอร์เหล่านี้ ช่วยบ่งชี้ความแตกต่างของกลุ่มได้\n",
    "\n",
    "🟥 2. มีฟีเจอร์หลายตัวมี Correlation ใกล้ศูนย์\n",
    "เช่น digital, pet, living, reading แทบไม่สัมพันธ์กับฟีเจอร์อื่นเลย\n",
    "\n",
    "- ❌ อาจไม่ช่วยในการแยกกลุ่ม → พิจารณาตัดออกหรือรวมกับฟีเจอร์อื่น\n",
    "\n",
    "🟨 3. Redundant Features:\n",
    "- กลุ่มฟีเจอร์ income_level_*, age_*, และ gender_* ยังมีพฤติกรรมคล้ายเดิม\n",
    "เช่น correlation ระหว่าง binary encoding ของ income_level_0-20k กับ income_level_60k-80k มีแนวโน้มสวนทางกัน (เพราะ one-hot)"
   ]
  },
  {
   "cell_type": "code",
   "execution_count": null,
   "metadata": {},
   "outputs": [],
   "source": [
    "# create new feature \n",
    "new_feature_data = tfidf_data.set_index('User ID')[features].copy()\n",
    "\n",
    "# เปลี่ยนชื่อคอลัมน์\n",
    "new_feature_data = new_feature_data.rename(columns={\n",
    "    'Age': 'age',\n",
    "    'Gender': 'gender',\n",
    "    'Income Level': 'income_level',\n",
    "    'Time Spent Online (hrs/weekday)': 'weekday_online_hours',\n",
    "    'Time Spent Online (hrs/weekend)': 'weekend_online_hours',\n",
    "    'Likes and Reactions': 'likes_reactions',\n",
    "    'Click-Through Rates (CTR)': 'ctr'\n",
    "})\n",
    "\n",
    "# Create binary income feature: 1 = high (>=60k), 0 = low (<60k)\n",
    "def income_binary(row):\n",
    "    if '60k' in row or '80k' in row or '100k' in row:\n",
    "        return 1  # high income\n",
    "    else:\n",
    "        return 0  # low income\n",
    "\n",
    "new_feature_data['income_hi'] = new_feature_data['income_level'].fillna('').apply(income_binary)\n",
    "\n",
    "# Create age group categories: young (18–34), middle (35–54), old (55+)\n",
    "def age_group_binary(age):\n",
    "    if age in ['18-24', '25-34']:\n",
    "        return 'young'\n",
    "    elif age in ['35-44', '45-54']:\n",
    "        return 'middle'\n",
    "    elif age in ['55-64', '65+']:\n",
    "        return 'old'\n",
    "    else:\n",
    "        return 'unknown'\n",
    "\n",
    "new_feature_data['age_group'] = new_feature_data['age'].fillna('').apply(age_group_binary)\n",
    "\n",
    "# One-hot encode the new age group\n",
    "new_feature_data = pd.concat([new_feature_data, pd.get_dummies(new_feature_data['age_group'], prefix='age',dtype='int',drop_first=True)], axis=1)\n",
    "\n",
    "# Create binary gender feature: 1 = female, 0 = male\n",
    "new_feature_data['gender_female'] = new_feature_data['gender'].fillna('').apply(lambda x: 1 if str(x).lower() == 'female' else 0)\n",
    "\n",
    "\n",
    "new_feature_data"
   ]
  },
  {
   "cell_type": "code",
   "execution_count": null,
   "metadata": {},
   "outputs": [],
   "source": [
    "# สร้างตาราง correlation\n",
    "numerical_features = new_feature_data.select_dtypes(include=[np.number]).columns.tolist()\n",
    "corr_matrix = new_feature_data[numerical_features].corr()\n",
    "\n",
    "# วาด heatmap\n",
    "plt.figure(figsize=(10, 6))\n",
    "sns.heatmap(corr_matrix, annot=False, cmap='coolwarm', fmt=\".2f\", linewidths=0.5)\n",
    "plt.title('Correlation Matrix Between Features')\n",
    "plt.xticks(rotation=45)\n",
    "plt.tight_layout()\n",
    "plt.show()"
   ]
  },
  {
   "cell_type": "markdown",
   "metadata": {
    "id": "-Rsl26lrVO2U"
   },
   "source": [
    "### ขั้นตอนที่ 4: สร้างโมเดล Clustering"
   ]
  },
  {
   "cell_type": "markdown",
   "metadata": {
    "id": "-snWvuBhjEKq"
   },
   "source": [
    "#### 4.1 Normalization\n",
    "**Normalization** คือกระบวนการปรับสเกลของข้อมูลให้อยู่ในช่วงที่กำหนด เช่น [0, 1] หรือ [-1, 1] เพื่อให้ข้อมูลมีความสม่ำเสมอและสามารถเปรียบเทียบกันได้ง่ายขึ้น โดยเฉพาะเมื่อใช้ในโมเดล Machine Learning ที่อิงกับระยะทาง เช่น K-Means Clustering\n",
    "การทำ Normalization จะช่วยลดผลกระทบจากค่าที่มีขนาดใหญ่หรือเล็กเกินไป ทำให้โมเดลสามารถเรียนรู้ได้ดีขึ้น"
   ]
  },
  {
   "cell_type": "code",
   "execution_count": null,
   "metadata": {},
   "outputs": [],
   "source": [
    "new_feature_data.head()"
   ]
  },
  {
   "cell_type": "code",
   "execution_count": null,
   "metadata": {},
   "outputs": [],
   "source": [
    "new_feature_data.info()"
   ]
  },
  {
   "cell_type": "code",
   "execution_count": null,
   "metadata": {
    "executionInfo": {
     "elapsed": 328,
     "status": "ok",
     "timestamp": 1623819022948,
     "user": {
      "displayName": "Tae Jt",
      "photoUrl": "",
      "userId": "15717801353048019289"
     },
     "user_tz": -420
    },
    "id": "jHk-LRrvY5jm"
   },
   "outputs": [],
   "source": [
    "# Normalize ข้อมูลด้วย MixMaxScaler\n",
    "selected_features = [\n",
    "    # พฤติกรรม\n",
    "    'weekday_online_hours', 'weekend_online_hours', 'likes_reactions',\n",
    "    \n",
    "    # ความสนใจ (interest-based)\n",
    "    'fashion', 'fitness', 'gaming', 'investing', 'modelling', 'music', 'reading', 'wellness',\n",
    "    \n",
    "    # ประชากรศาสตร์ (binary features)\n",
    "    'income_hi', 'age_young', 'age_old', 'gender_female'\n",
    "]\n",
    "selected_data = new_feature_data[selected_features]\n",
    "scaler = MinMaxScaler()\n",
    "scaled_feature_data = scaler.fit_transform(selected_data)"
   ]
  },
  {
   "cell_type": "code",
   "execution_count": null,
   "metadata": {
    "colab": {
     "base_uri": "https://localhost:8080/"
    },
    "executionInfo": {
     "elapsed": 368,
     "status": "ok",
     "timestamp": 1623819128370,
     "user": {
      "displayName": "Tae Jt",
      "photoUrl": "",
      "userId": "15717801353048019289"
     },
     "user_tz": -420
    },
    "id": "ApnloQLcKVbc",
    "outputId": "8b9e944e-e4b3-42c1-d9b4-3955bc87abf2"
   },
   "outputs": [],
   "source": [
    "scaled_feature_data"
   ]
  },
  {
   "cell_type": "markdown",
   "metadata": {
    "id": "3oIv_7XYi2aZ"
   },
   "source": [
    "#### 4.2 เลือกจำนวนกลุ่ม (K) ในการทำการ Clustering\n",
    "\n",
    "Elbow method คือวิธีการวัด Error ของผลรวมของระยะห่างระหว่าง Object กับ Centroid เรียกว่า Sum of square\n",
    "\n",
    "จุดที่เหมาะสมของจำนวน Clusters คือจุดที่กราฟมีลักษณะ “หัก” ที่สุด ดังนั้นจากคำนวณหาจำนวน Clusters ที่เหมาะสมที่สุด จึงสามารถหาได้จากระยะทางที่ไกลที่สุด นับจากเส้นตรงระหว่างสองจุดกับเส้นโค้ง"
   ]
  },
  {
   "cell_type": "code",
   "execution_count": null,
   "metadata": {
    "colab": {
     "base_uri": "https://localhost:8080/",
     "height": 573
    },
    "executionInfo": {
     "elapsed": 2229,
     "status": "ok",
     "timestamp": 1623819231077,
     "user": {
      "displayName": "Tae Jt",
      "photoUrl": "",
      "userId": "15717801353048019289"
     },
     "user_tz": -420
    },
    "id": "9c4LQssjjD4z",
    "outputId": "13e74348-1bee-4750-844b-0d8ee302d9ff"
   },
   "outputs": [],
   "source": [
    "sum_of_squared_distances_list = []\n",
    "silhoulette_list = []\n",
    "\n",
    "K = range(2, 15)\n",
    "for k in K:\n",
    "    km = KMeans(algorithm='elkan', init='k-means++', max_iter=600, n_clusters=k)\n",
    "    km = km.fit(scaled_feature_data)\n",
    "    sum_of_squared_distances_list.append(km.inertia_)\n",
    "    silhoulette_list.append(silhouette_score(scaled_feature_data, km.labels_, metric='euclidean'))\n",
    "\n",
    "plt.plot(K, sum_of_squared_distances_list, 'bx-')\n",
    "plt.xlabel('k')\n",
    "plt.ylabel('Sum of square (SSE) distance')\n",
    "plt.title('Sum of square (SSE) distance')\n",
    "plt.show()\n",
    "\n",
    "plt.plot(K, silhoulette_list, 'bx-')\n",
    "plt.xlabel('k')\n",
    "plt.ylabel('Silhoulette Score')\n",
    "plt.title('Silhoulette Score For Optimal k')\n",
    "plt.show()"
   ]
  },
  {
   "cell_type": "markdown",
   "metadata": {},
   "source": [
    "Silhouette Score ที่ได้ในตอนนี้ (~0.19) ถือว่าค่อนข้างต่ำ ซึ่งหมายความว่า แต่ละกลุ่มยังซ้อนทับกันมาก หรือไม่แตกต่างกันชัดเจน\n",
    "หากเป้าหมายคือ Silhouette Score > 0.6 (ซึ่งถือว่าดีมากสำหรับการแบ่งกลุ่ม), ต่อไปนี้คือแนวทางปรับปรุง:\n",
    "\n",
    "✅ 1. ปรับเลือกฟีเจอร์ (Feature Selection)\n",
    "ใช้เฉพาะฟีเจอร์ที่มีความหมายและสัมพันธ์กับพฤติกรรมผู้ใช้ เช่น:\n",
    "\n",
    "- Time Spent Online\n",
    "\n",
    "- Likes and Reactions\n",
    "\n",
    "- CTR, Conversion Rates\n",
    "\n",
    "- ลอง ตัดฟีเจอร์ที่ไม่ช่วยแยกกลุ่ม หรือมีค่าซ้ำ ๆ เช่น Language, Location ถ้าไม่มีความหลากหลาย\n",
    "\n",
    "- ใช้ Feature Importance หรือ Correlation Matrix เพื่อตรวจสอบฟีเจอร์ที่ซ้ำซ้อน\n",
    "\n",
    "✅ 2. Normalize / Standardize ข้อมูล\n",
    "- การกระจายค่าของฟีเจอร์ไม่เท่ากันอาจทำให้ clustering แย่ลง\n",
    "\n",
    "✅ 3. ใช้ Dimensionality Reduction\n",
    "- ลองใช้ PCA หรือ t-SNE เพื่อลดมิติของข้อมูลให้ clustering ทำงานง่ายขึ้น\n",
    "\n",
    "- หรือใช้ UMAP เพื่อเน้นกลุ่มที่แยกกันชัดเจนขึ้น\n",
    "\n",
    "✅ 4. ลองใช้ Clustering วิธีอื่นที่ไม่ใช่ K-Means\n",
    "- K-Means เหมาะกับข้อมูลเป็นทรงกลม (spherical clusters) เท่านั้น ลองใช้:\n",
    "\n",
    "- DBSCAN (density-based) – ดีสำหรับกลุ่มไม่เท่ากัน\n",
    "\n",
    "- Gaussian Mixture Model (GMM)\n",
    "\n",
    "- Agglomerative Hierarchical Clustering\n",
    "\n",
    "✅ 5. ทำ Outlier Removal\n",
    "- ค่าผิดปกติทำให้ centroid เคลื่อนไปผิดตำแหน่ง\n",
    "\n",
    "✅ 6. เพิ่มข้อมูล (Feature Engineering)\n",
    "- สร้างฟีเจอร์ใหม่ เช่น:\n",
    "\n",
    "    - อัตราส่วน weekend / weekday\n",
    "\n",
    "    - ระยะเวลาเฉลี่ยต่อไลก์ = Time / Likes\n",
    "\n",
    "  - สร้างกลุ่มจากความสนใจด้วย NLP (TF-IDF บน Top Interests)"
   ]
  },
  {
   "cell_type": "markdown",
   "metadata": {
    "id": "lND07FfqjMEl"
   },
   "source": [
    "#### 4.3 สร้างโมเดล K-Means"
   ]
  },
  {
   "cell_type": "code",
   "execution_count": null,
   "metadata": {
    "executionInfo": {
     "elapsed": 337,
     "status": "ok",
     "timestamp": 1623819283103,
     "user": {
      "displayName": "Tae Jt",
      "photoUrl": "",
      "userId": "15717801353048019289"
     },
     "user_tz": -420
    },
    "id": "zAOGEpBqVEWL"
   },
   "outputs": [],
   "source": [
    "# สร้างโมเดล K-Means: ทำการแยกกลุ่มออกเป็น 9 กลุ่ม (เลือกจำนวนกลุ่มจาก Elbow/Silhouette)\n",
    "kmeans = KMeans(\n",
    "    n_clusters=5,\n",
    "    init='k-means++',\n",
    "    max_iter=600,\n",
    "    algorithm='lloyd',\n",
    "    random_state=42\n",
    ")"
   ]
  },
  {
   "cell_type": "markdown",
   "metadata": {
    "id": "ZYKzAKg4azBg"
   },
   "source": [
    "สามารถศึกษาพารามิเตอร์เพิ่มเติมได้ที่ \n",
    "https://scikit-learn.org/stable/modules/generated/sklearn.cluster.KMeans.html\n"
   ]
  },
  {
   "cell_type": "code",
   "execution_count": null,
   "metadata": {
    "colab": {
     "base_uri": "https://localhost:8080/"
    },
    "executionInfo": {
     "elapsed": 334,
     "status": "ok",
     "timestamp": 1623819291026,
     "user": {
      "displayName": "Tae Jt",
      "photoUrl": "",
      "userId": "15717801353048019289"
     },
     "user_tz": -420
    },
    "id": "KM_KjMAcaNH4",
    "outputId": "cef3bc77-730f-414f-93ed-8315299a040c"
   },
   "outputs": [],
   "source": [
    "# นำข้อมูลที่ไม่มี Label และได้รับการ scale แล้วเข้าอัลกอรึทึม K-Means\n",
    "kmeans.fit(scaled_feature_data)"
   ]
  },
  {
   "cell_type": "markdown",
   "metadata": {
    "id": "HnA2WWx-jRTQ"
   },
   "source": [
    "#### 4.4 ทำนายผลการจัดกลุ่ม"
   ]
  },
  {
   "cell_type": "code",
   "execution_count": null,
   "metadata": {
    "colab": {
     "base_uri": "https://localhost:8080/"
    },
    "executionInfo": {
     "elapsed": 484,
     "status": "ok",
     "timestamp": 1623819360076,
     "user": {
      "displayName": "Tae Jt",
      "photoUrl": "",
      "userId": "15717801353048019289"
     },
     "user_tz": -420
    },
    "id": "NBSKO2cna6Hm",
    "outputId": "30012969-16f1-460e-bfc9-67ec54902f5c"
   },
   "outputs": [],
   "source": [
    "# ทำการจัดกลุ่ม \n",
    "kmean_result = kmeans.predict(scaled_feature_data) # ผลลัพธ์ออกมาในรูปแบบของ array\n",
    "kmean_result"
   ]
  },
  {
   "cell_type": "markdown",
   "metadata": {
    "id": "zw4A6TGUdPv3"
   },
   "source": [
    "### ขั้นตอนที่ 5: ตรวจสอบผลลัพธ์"
   ]
  },
  {
   "cell_type": "code",
   "execution_count": null,
   "metadata": {
    "colab": {
     "base_uri": "https://localhost:8080/",
     "height": 447
    },
    "executionInfo": {
     "elapsed": 335,
     "status": "ok",
     "timestamp": 1623819367838,
     "user": {
      "displayName": "Tae Jt",
      "photoUrl": "",
      "userId": "15717801353048019289"
     },
     "user_tz": -420
    },
    "id": "aoYqYBHrbXdW",
    "outputId": "b5eb65e7-2495-413a-9e3e-1f84e1de1789"
   },
   "outputs": [],
   "source": [
    "# สร้างคอลัมม์ใหม่ โดยเป็นคอลัมม์ที่เก็บผลลัพธ์ของการจัดกลุ่ม\n",
    "new_feature_data['cluster_result'] = kmean_result\n",
    "new_feature_data"
   ]
  },
  {
   "cell_type": "code",
   "execution_count": null,
   "metadata": {
    "colab": {
     "base_uri": "https://localhost:8080/"
    },
    "executionInfo": {
     "elapsed": 363,
     "status": "ok",
     "timestamp": 1623819422086,
     "user": {
      "displayName": "Tae Jt",
      "photoUrl": "",
      "userId": "15717801353048019289"
     },
     "user_tz": -420
    },
    "id": "owTO7ekrLWdw",
    "outputId": "2a038c9a-fa65-428b-ee50-0478822b46b4"
   },
   "outputs": [],
   "source": [
    "new_feature_data['cluster_result'].value_counts()"
   ]
  },
  {
   "cell_type": "code",
   "execution_count": null,
   "metadata": {},
   "outputs": [],
   "source": [
    "new_feature_data.to_csv(\"../data/user_profiles_with_clusters.csv\", index=False)"
   ]
  },
  {
   "cell_type": "code",
   "execution_count": null,
   "metadata": {},
   "outputs": [],
   "source": [
    "# ทำ user summary data profile by Age Gender\n",
    "# สรุปโปรไฟล์ผู้ใช้แต่ละกลุ่ม (cluster) โดยดูค่าเฉลี่ยและสัดส่วนสำคัญ\n",
    "summary = new_feature_data.groupby('cluster_result').agg({\n",
    "    'age': lambda x: x.value_counts().index[0],\n",
    "    'gender': lambda x: x.value_counts().index[0],\n",
    "    'income_level': lambda x: x.value_counts().index[0],\n",
    "    'weekday_online_hours': 'mean',\n",
    "    'weekend_online_hours': 'mean',\n",
    "    'likes_reactions': 'mean',\n",
    "    'ctr': 'mean',\n",
    "    'income_hi': 'mean',\n",
    "    'age_young': 'mean',\n",
    "    'age_old': 'mean',\n",
    "    'gender_female': 'mean'\n",
    "}).rename(columns={\n",
    "    'age': 'top_age',\n",
    "    'gender': 'top_gender',\n",
    "    'income_level': 'top_income_level',\n",
    "    'weekday_online_hours': 'avg_weekday_online_hours',\n",
    "    'weekend_online_hours': 'avg_weekend_online_hours',\n",
    "    'likes_reactions': 'avg_likes_reactions',\n",
    "    'ctr': 'avg_ctr',\n",
    "    'income_hi': 'pct_high_income',\n",
    "    'age_young': 'pct_young',\n",
    "    'age_old': 'pct_old',\n",
    "    'gender_female': 'pct_female'\n",
    "})\n",
    "\n",
    "summary"
   ]
  },
  {
   "cell_type": "markdown",
   "metadata": {},
   "source": [
    "✅ **สรุปกลุ่มผู้ใช้งาน (User Segments)**\n",
    "\n",
    "---\n",
    "\n",
    "#### **Cluster 0 – “สาวออฟฟิศยุคดิจิทัล รายได้กลาง ใช้เวลาออนไลน์สูง”**\n",
    "- **กลุ่มอายุหลัก:** 25–34 ปี  \n",
    "- **เพศ:** หญิง  \n",
    "- **รายได้:** 40k–60k  \n",
    "- **พฤติกรรม:**  \n",
    "    - ออนไลน์วันธรรมดา ≈ 2.7 ชม.  \n",
    "    - ออนไลน์วันหยุด ≈ 4.7 ชม.  \n",
    "    - มีส่วนร่วมสูง (≈ 4,949 ไลก์/รีแอค)  \n",
    "    - สัดส่วนรายได้สูง: 70%  \n",
    "- **Insight:** วัยเริ่มทำงานที่ใช้สื่อเยอะและตอบสนองต่อโฆษณา\n",
    "\n",
    "---\n",
    "\n",
    "#### **Cluster 1 – “ชายวัยทำงานตอนปลาย ผู้ใช้ออนไลน์บ้างแต่ไม่ตอบสนอง”**\n",
    "- **กลุ่มอายุหลัก:** 45–54 ปี  \n",
    "- **เพศ:** ชาย  \n",
    "- **รายได้:** 40k–60k  \n",
    "- **พฤติกรรม:**  \n",
    "    - ออนไลน์น้อยที่สุดในกลุ่ม  \n",
    "    - CTR ต่ำ และส่วนร่วมไม่สูง  \n",
    "- **Insight:** ต้องการเนื้อหาที่จับใจหรือจริงจังมากขึ้นในการโฆษณา\n",
    "\n",
    "---\n",
    "\n",
    "#### **Cluster 2 – “หญิงวัยเกษียณที่ยังแอคทีฟ ตอบสนองต่อโฆษณาดี”**\n",
    "- **กลุ่มอายุหลัก:** 55–64 ปี  \n",
    "- **เพศ:** หญิง  \n",
    "- **รายได้:** 40k–60k  \n",
    "- **พฤติกรรม:**  \n",
    "    - CTR สูงสุดในทุกกลุ่ม (0.131)  \n",
    "- **Insight:** เปิดใจเรียนรู้สิ่งใหม่ ๆ และตอบสนองต่อคอนเทนต์สุขภาพ/ครอบครัว\n",
    "\n",
    "---\n",
    "\n",
    "#### **Cluster 3 – “แม่บ้านพรีเมียม สายแฟชั่น มีไลฟ์สไตล์สูง”**\n",
    "- **กลุ่มอายุหลัก:** 35–44 ปี  \n",
    "- **เพศ:** หญิง  \n",
    "- **รายได้:** 80k–100k (สูงที่สุด)  \n",
    "- **พฤติกรรม:**  \n",
    "    - Likes/Reactions สูงสุดในทุกกลุ่ม  \n",
    "- **Insight:** กำลังซื้อสูง เหมาะกับโฆษณาสินค้าไลฟ์สไตล์\n",
    "\n",
    "---\n",
    "\n",
    "#### **Cluster 4 – “หญิงวัยกลางคนสายใช้เน็ต แต่ยังไม่เปิดใจต่อโฆษณา”**\n",
    "- **กลุ่มอายุหลัก:** 35–44 ปี  \n",
    "- **เพศ:** หญิง  \n",
    "- **รายได้:** 40k–60k  \n",
    "- **พฤติกรรม:**  \n",
    "    - คล้าย Cluster 0 แต่ CTR ต่ำกว่า  \n",
    "- **Insight:** ควรใช้กลยุทธ์เล่าเรื่องหรือคอนเทนต์ที่สร้างแรงจูงใจมากขึ้น\n"
   ]
  },
  {
   "cell_type": "markdown",
   "metadata": {
    "id": "O6KoXDkIkOPl"
   },
   "source": [
    "# ที่มา\n",
    "\n",
    "K-Means Clustering in Python with scikit-learn ([link](https://www.datacamp.com/community/tutorials/k-means-clustering-python))"
   ]
  },
  {
   "cell_type": "markdown",
   "metadata": {
    "id": "Prr2T7qdHKU5"
   },
   "source": [
    "\n",
    "\n",
    "---\n",
    "\n"
   ]
  },
  {
   "cell_type": "markdown",
   "metadata": {
    "id": "rd73uLGkHLD8"
   },
   "source": [
    "# พื้นที่สำหรับการทดลอง\n",
    "\n",
    "ให้ทดลองจัดกลุ่มด้วยตัวเอง"
   ]
  },
  {
   "cell_type": "code",
   "execution_count": null,
   "metadata": {
    "id": "ngftFbinHO_i"
   },
   "outputs": [],
   "source": [
    "from sklearn.impute import SimpleImputer\n",
    "from sklearn.preprocessing import StandardScaler, OneHotEncoder\n",
    "from sklearn.compose import ColumnTransformer\n",
    "from sklearn.pipeline import Pipeline\n",
    "from sklearn.cluster import KMeans\n",
    "\n",
    "# selecting features for clustering\n",
    "features = ['Age', 'Gender', 'Income Level', 'Time Spent Online (hrs/weekday)', 'Time Spent Online (hrs/weekend)', 'Likes and Reactions', 'Click-Through Rates (CTR)']\n",
    "X = data[features]\n",
    "\n",
    "# define numeric and categorical columns\n",
    "numeric_features = ['Time Spent Online (hrs/weekday)', 'Time Spent Online (hrs/weekend)', 'Likes and Reactions', 'Click-Through Rates (CTR)']\n",
    "categorical_features = ['Age', 'Gender', 'Income Level']\n",
    "\n",
    "# numeric pipeline: impute missing with median, then scale\n",
    "numeric_transformer = Pipeline(steps=[\n",
    "    ('imputer', SimpleImputer(strategy='median')),\n",
    "    ('scaler', StandardScaler())\n",
    "])\n",
    "\n",
    "# categorical pipeline: impute missing with most frequent, then one-hot encode\n",
    "categorical_transformer = Pipeline(steps=[\n",
    "    ('imputer', SimpleImputer(strategy='most_frequent')),\n",
    "    ('encoder', OneHotEncoder(handle_unknown='ignore'))\n",
    "])\n",
    "\n",
    "# combine preprocessors\n",
    "preprocessor = ColumnTransformer(\n",
    "    transformers=[\n",
    "        ('num', numeric_transformer, numeric_features),\n",
    "        ('cat', categorical_transformer, categorical_features)\n",
    "    ]\n",
    ")\n",
    "\n",
    "# create pipeline\n",
    "pipeline = Pipeline(steps=[\n",
    "    ('preprocessor', preprocessor),\n",
    "    ('cluster', KMeans(n_clusters=5, random_state=42))\n",
    "])\n",
    "\n",
    "pipeline.fit(X)\n",
    "cluster_labels = pipeline.named_steps['cluster'].labels_\n",
    "data['Cluster'] = cluster_labels\n",
    "\n",
    "data.head()"
   ]
  },
  {
   "cell_type": "code",
   "execution_count": null,
   "metadata": {
    "id": "69femD0AHO9S"
   },
   "outputs": [],
   "source": [
    "# computing the mean values of numerical features for each cluster\n",
    "cluster_means = data.groupby('Cluster')[numeric_features].mean()\n",
    "\n",
    "for feature in categorical_features:\n",
    "    mode_series = data.groupby('Cluster')[feature].agg(lambda x: x.mode()[0])\n",
    "    cluster_means[feature] = mode_series\n",
    "\n",
    "cluster_means"
   ]
  },
  {
   "cell_type": "code",
   "execution_count": null,
   "metadata": {},
   "outputs": [],
   "source": [
    "# Get feature names from the preprocessor\n",
    "preprocessor = pipeline.named_steps['preprocessor']\n",
    "feature_names = preprocessor.get_feature_names_out()\n",
    "\n",
    "X_transformed = preprocessor.transform(X)\n",
    "\n",
    "X_transformed_df = pd.DataFrame(X_transformed, columns=feature_names)\n",
    "X_transformed_df"
   ]
  },
  {
   "cell_type": "code",
   "execution_count": null,
   "metadata": {
    "id": "mhnMAlceHO68"
   },
   "outputs": [],
   "source": [
    "sum_of_squared_distances_list = []\n",
    "silhoulette_list = []\n",
    "\n",
    "K = range(2, 15)\n",
    "for k in K:\n",
    "    km = KMeans(algorithm='elkan', init='k-means++', max_iter=600, n_clusters=k)\n",
    "    km = km.fit(X_transformed_df)\n",
    "    sum_of_squared_distances_list.append(km.inertia_)\n",
    "    silhoulette_list.append(silhouette_score(X_transformed_df, km.labels_, metric='euclidean'))\n",
    "\n",
    "plt.plot(K, sum_of_squared_distances_list, 'bx-')\n",
    "plt.xlabel('k')\n",
    "plt.ylabel('Sum of square (SSE) distance')\n",
    "plt.title('Sum of square (SSE) distance')\n",
    "plt.show()\n",
    "\n",
    "plt.plot(K, silhoulette_list, 'bx-')\n",
    "plt.xlabel('k')\n",
    "plt.ylabel('Silhoulette Score')\n",
    "plt.title('Silhoulette Score For Optimal k')\n",
    "plt.show()"
   ]
  }
 ],
 "metadata": {
  "colab": {
   "collapsed_sections": [],
   "name": "Lab3_clustering.ipynb",
   "provenance": []
  },
  "kernelspec": {
   "display_name": ".venv",
   "language": "python",
   "name": "python3"
  },
  "language_info": {
   "codemirror_mode": {
    "name": "ipython",
    "version": 3
   },
   "file_extension": ".py",
   "mimetype": "text/x-python",
   "name": "python",
   "nbconvert_exporter": "python",
   "pygments_lexer": "ipython3",
   "version": "3.12.9"
  }
 },
 "nbformat": 4,
 "nbformat_minor": 0
}
